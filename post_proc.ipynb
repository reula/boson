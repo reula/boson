{
 "cells": [
  {
   "cell_type": "code",
   "execution_count": 1,
   "metadata": {},
   "outputs": [],
   "source": [
    "using SummationByPartsOperators\n",
    "using Plots\n",
    "using Revise\n",
    "using Distributions\n",
    "using FFTW\n",
    "using LinearAlgebra\n",
    "using Base.Threads\n",
    "using HDF5\n",
    "using FileIO\n",
    "using JLD2\n",
    " \n",
    "includet(\"../PIC/PIC-1D/aux_functions/aux_functions.jl\")\n",
    "#includet(\"../PIC-1D/aux_functions/aux_functions.jl\")\n",
    "includet(\"local_aux_functions.jl\")"
   ]
  },
  {
   "cell_type": "code",
   "execution_count": null,
   "metadata": {},
   "outputs": [],
   "source": [
    "\n",
    "data_name = \"data_3d_h_step_cut_small_try_T200.jld2\"\n",
    "@show data = load(\"Results/\" * data_name)"
   ]
  },
  {
   "cell_type": "code",
   "execution_count": 6,
   "metadata": {},
   "outputs": [],
   "source": [
    "m = 4 #data_steps - 1\n",
    "par_grid = data[\"par_grid\"]\n",
    "#Box_x, J, n_fields = par_grid\n",
    "par_evolv  = data[\"par_evolv\"]\n",
    "T, data_steps, int_steps, dt = par_evolv\n",
    "run_name = data[\"run_name\"]\n",
    "size(data[\"u/u_00001\"])\n",
    "v = zeros(data_steps, size(data[\"u/u_00001\"])...)\n",
    "for m in 1:m\n",
    "    tiempo = @sprintf(\"%05d\", m)\n",
    "    v[m,:,:,:,:] = data[\"u/u_$(tiempo)\"]\n",
    "end"
   ]
  },
  {
   "cell_type": "code",
   "execution_count": null,
   "metadata": {},
   "outputs": [],
   "source": [
    "#surface(v[9,1,:,:,150].-1 )\n",
    "heatmap(v[4,1,:,:,150].-1, aspectratio=1 )"
   ]
  },
  {
   "cell_type": "code",
   "execution_count": null,
   "metadata": {},
   "outputs": [],
   "source": [
    "length(v[1,:,1,1,1])\n",
    "sqrt(prod(size(v[1,1,:,:,:])))"
   ]
  },
  {
   "cell_type": "code",
   "execution_count": null,
   "metadata": {},
   "outputs": [],
   "source": [
    "\n",
    "plot(get_norm_time(v,:)[1])"
   ]
  },
  {
   "cell_type": "code",
   "execution_count": null,
   "metadata": {},
   "outputs": [],
   "source": []
  }
 ],
 "metadata": {
  "kernelspec": {
   "display_name": "Julia 1.9.4",
   "language": "julia",
   "name": "julia-1.9"
  },
  "language_info": {
   "file_extension": ".jl",
   "mimetype": "application/julia",
   "name": "julia",
   "version": "1.9.4"
  }
 },
 "nbformat": 4,
 "nbformat_minor": 2
}
