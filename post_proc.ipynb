{
 "cells": [
  {
   "cell_type": "code",
   "execution_count": 1,
   "metadata": {},
   "outputs": [],
   "source": [
    "using SummationByPartsOperators\n",
    "using Plots\n",
    "using Revise\n",
    "using Distributions\n",
    "using FFTW\n",
    "using LinearAlgebra\n",
    "using Base.Threads\n",
    "using HDF5\n",
    "using FileIO\n",
    "using JLD2\n",
    " \n",
    "includet(\"../PIC/PIC-1D/aux_functions/aux_functions.jl\")\n",
    "#includet(\"../PIC-1D/aux_functions/aux_functions.jl\")\n",
    "includet(\"local_aux_functions.jl\")"
   ]
  },
  {
   "cell_type": "code",
   "execution_count": null,
   "metadata": {},
   "outputs": [],
   "source": [
    "\n",
    "#data_name = \"data_3d_h_step_cut_small_bola_F_full_T200.jld2\"\n",
    "#data_name = \"data_3d_h_step_cut_medium_b_F_full_T200.jld2\"\n",
    "data_name = \"data_3d_h_step_cut_small_bola_F_full_T200.jld2_F_full_T0.0_SF4em3.jld2\"\n",
    "@show data = load(\"Results/\" * data_name)"
   ]
  },
  {
   "cell_type": "markdown",
   "metadata": {},
   "source": [
    "The medium with source_factor = 0.004^2 failed to complete with F_full. \n",
    "The small with same source_factor (I think did evolved)."
   ]
  },
  {
   "cell_type": "code",
   "execution_count": 26,
   "metadata": {},
   "outputs": [],
   "source": [
    "\n",
    "par_grid = data[\"par_grid\"]\n",
    "Box_x, J, n_fields = par_grid\n",
    "par_evolv  = data[\"par_evolv\"]\n",
    "T, data_steps, int_steps, dt = par_evolv\n",
    "run_name = data[\"run_name\"]\n",
    "size(data[\"u/u_00002\"])\n",
    "v = zeros(data_steps, size(data[\"u/u_00002\"])...)\n",
    "m = 3 #data_steps - 1\n",
    "for m in 1:m\n",
    "    tiempo = @sprintf(\"%05d\", m)\n",
    "    v[m,:,:,:,:] = data[\"u/u_$(tiempo)\"]\n",
    "end"
   ]
  },
  {
   "cell_type": "code",
   "execution_count": null,
   "metadata": {},
   "outputs": [],
   "source": [
    "#surface(v[3,1,:,:,J[3] ÷ 2].-1 )\n",
    "heatmap(v[m,1,:,:,J[3] ÷ 2].-1, aspectratio=1 )"
   ]
  },
  {
   "cell_type": "code",
   "execution_count": null,
   "metadata": {},
   "outputs": [],
   "source": [
    "plot(v[m,3,:,J[2] ÷ 2 , J[3]÷ 2]./v[m,1,:,J[2] ÷ 2 , J[3]÷ 2] .- 1, label=\"lapse\")\n",
    "plot!(v[m,1,:,J[2] ÷ 2 , J[3]÷ 2].- 1, label=\"factor conforme - 1\")\n",
    "#png(\"lapse and conformal factor after half crossing time\")\n",
    "\n"
   ]
  },
  {
   "cell_type": "code",
   "execution_count": null,
   "metadata": {},
   "outputs": [],
   "source": [
    "#m = 9\n",
    "plot([get_norm_time(v,i)[1].-1 for i in 1:m], label=\"ϕ - 1\" )\n",
    "plot!([get_norm_time(v,i)[2] for i in 1:m], label=\"ϕ_t\" )\n",
    "plot!([get_norm_time(v,i)[3].-1 for i in 1:m], label=\"v - 1\")\n",
    "plot!([get_norm_time(v,i)[4] for i in 1:m], label=\"v_t\")"
   ]
  },
  {
   "cell_type": "code",
   "execution_count": null,
   "metadata": {},
   "outputs": [],
   "source": []
  }
 ],
 "metadata": {
  "kernelspec": {
   "display_name": "Julia 1.11.0",
   "language": "julia",
   "name": "julia-1.11"
  },
  "language_info": {
   "file_extension": ".jl",
   "mimetype": "application/julia",
   "name": "julia",
   "version": "1.11.0"
  }
 },
 "nbformat": 4,
 "nbformat_minor": 2
}
