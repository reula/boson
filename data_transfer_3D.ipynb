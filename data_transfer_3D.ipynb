{
 "cells": [
  {
   "cell_type": "markdown",
   "metadata": {},
   "source": [
    "### Table format should be as follows: \n",
    "\n",
    "1. Could have any dimensionality in coordinates (i.e 1D, 2D or 3D coordinates) \n",
    "2. The coordinate values must be in a separate dataset called coordX, being X the number of the coordinate. Numbering must be correlative beginning from 0. \n",
    "3. There must be a dataset called nvars with the total number of fields with data (excluding coordinates). \n",
    "4. Every field must be in a separate dataset called varX, being X the number of the field. Numbering must be correlative beginning from 0. \n",
    "5. The size of the fields must match dimensionality. For instance in a 2D with first dimension having 400 values and second dimension having 250 values, every field must have 400x250 values in a 2D dataset."
   ]
  },
  {
   "cell_type": "code",
   "execution_count": 1,
   "metadata": {},
   "outputs": [],
   "source": [
    "#import Pkg; Pkg.add(\"HDF5\")\n",
    "using HDF5\n",
    "using Revise\n",
    "includet(\"../PIC/PIC-1D/aux_functions/aux_functions.jl\")\n"
   ]
  },
  {
   "cell_type": "code",
   "execution_count": null,
   "metadata": {},
   "outputs": [],
   "source": [
    "test = false\n",
    "# Example array\n",
    "if test\n",
    "J = (51,51,51)\n",
    "Box = (0.0,2.0, 0.0, 2.0,0.0,2.0)\n",
    "@show dx = differentials(Box, J)\n",
    "N_fields = 1.0 #Int32(1)\n",
    "D = 3\n",
    "x = [(i-1)*dx[1] for i in 1:J[1]]\n",
    "y = [(i-1)*dx[2] for i in 1:J[2]]\n",
    "z = [(i-1)*dx[3] for i in 1:J[3]];\n",
    "dx[1]==dx[2]\n",
    "end\n"
   ]
  },
  {
   "cell_type": "code",
   "execution_count": 3,
   "metadata": {},
   "outputs": [],
   "source": [
    "\n",
    "if test\n",
    "f(x) = exp(-4(x.-1.0)'*(x.-1.0))\n",
    "\n",
    "g = fill(0.0+im*0.0,J...)\n",
    "\n",
    "for i in 1:J[1]\n",
    "    for j in 1:J[2]\n",
    "        for k in 1:J[3]\n",
    "        g[i,j,k] = f([x[i],y[j],z[k]])\n",
    "        end\n",
    "    end\n",
    "end\n",
    "end"
   ]
  },
  {
   "cell_type": "code",
   "execution_count": null,
   "metadata": {},
   "outputs": [],
   "source": [
    "#using Plots\n",
    "\n",
    "#surface(x,y,real.(g))"
   ]
  },
  {
   "cell_type": "code",
   "execution_count": null,
   "metadata": {},
   "outputs": [],
   "source": [
    "\n",
    "# Open an HDF5 file in write mode\n",
    "h5file = h5open(\"example_data_3d_gaussian.h5\", \"w\") do file\n",
    "    write(file, \"coord0\", x)\n",
    "    write(file, \"coord1\", y)\n",
    "    write(file, \"coord2\", z)\n",
    "    write(file, \"nvars\", [N_fields])\n",
    "    write(file, \"var0\", real.(g))\n",
    "    #write(file, \"var1\", imag.(g))\n",
    "end\n",
    "\n",
    "println(\"Array saved to example_data.h5\")\n",
    "#h5close(\"example_data.h5\")"
   ]
  },
  {
   "cell_type": "code",
   "execution_count": null,
   "metadata": {},
   "outputs": [],
   "source": [
    "data = h5open(\"example_data.h5\", \"r\")"
   ]
  },
  {
   "cell_type": "code",
   "execution_count": null,
   "metadata": {},
   "outputs": [],
   "source": [
    "l = data[\"nvars\"]"
   ]
  },
  {
   "cell_type": "code",
   "execution_count": null,
   "metadata": {},
   "outputs": [],
   "source": [
    "read(l)"
   ]
  },
  {
   "cell_type": "code",
   "execution_count": null,
   "metadata": {},
   "outputs": [],
   "source": [
    "read(data[\"var0\"])"
   ]
  },
  {
   "cell_type": "code",
   "execution_count": null,
   "metadata": {},
   "outputs": [],
   "source": [
    "read(data[\"coord2\"])"
   ]
  },
  {
   "cell_type": "markdown",
   "metadata": {},
   "source": [
    "## 1D"
   ]
  },
  {
   "cell_type": "code",
   "execution_count": null,
   "metadata": {},
   "outputs": [],
   "source": [
    "# Open an HDF5 file in write mode\n",
    "h5file = h5open(\"example_data_1d.h5\", \"w\") do file\n",
    "    write(file, \"coord0\", x)\n",
    "    #write(file, \"coord1\", y)\n",
    "    #write(file, \"coord2\", z)\n",
    "    write(file, \"nvars\", [N_fields])\n",
    "    write(file, \"var0\", real.(g[20,20,:]))\n",
    "    #write(file, \"var1\", imag.(g))\n",
    "end\n",
    "\n",
    "println(\"Array saved to example_data_1d.h5\")\n",
    "#h5close(\"example_data.h5\")"
   ]
  },
  {
   "cell_type": "code",
   "execution_count": null,
   "metadata": {},
   "outputs": [],
   "source": [
    "data = h5open(\"example_data_1d.h5\", \"r\")"
   ]
  },
  {
   "cell_type": "code",
   "execution_count": null,
   "metadata": {},
   "outputs": [],
   "source": [
    "read(data[\"var0\"])"
   ]
  },
  {
   "cell_type": "code",
   "execution_count": null,
   "metadata": {},
   "outputs": [],
   "source": []
  }
 ],
 "metadata": {
  "kernelspec": {
   "display_name": "Julia 1.10.5",
   "language": "julia",
   "name": "julia-1.10"
  },
  "language_info": {
   "file_extension": ".jl",
   "mimetype": "application/julia",
   "name": "julia",
   "version": "1.10.5"
  }
 },
 "nbformat": 4,
 "nbformat_minor": 2
}
