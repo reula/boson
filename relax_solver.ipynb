{
 "cells": [
  {
   "cell_type": "markdown",
   "metadata": {},
   "source": [
    "## Initial data solver using relaxation\n",
    "\n",
    "We try to solve the time symmetric initial data when given a $ρ$ field on a cube. \n",
    "We put Robin boudary conditions.\n",
    "\n",
    "Thus we shall be solving:\n",
    "\n",
    "$$\n",
    "ψ_{tt} = \\Delta ψ + ψ^5 ρ \\;\\;\\;\\; \\vec{x}\\cdot \\nabla ψ + (1-ψ) = 0\n",
    "$$\n",
    "\n",
    "Using second order finite differences inside the domain and first order at the boudaries we get for the boundary values (which are not evolved):\n",
    "\n",
    "For boundary conditions we shall put an outgoing wave, but taking into account that we want a radial wave and that something which at first order should be a monopolar field.\n",
    "\n",
    "$$\n",
    "ψ_t = (x^i\\partial_i ψ - (ψ - ψ_0))/r\n",
    "$$ \n",
    "Same for the time derivative, but that part should be unnessary becuse this should decay to a static solution.\n",
    "\n",
    "\n"
   ]
  },
  {
   "cell_type": "code",
   "execution_count": 7,
   "metadata": {},
   "outputs": [],
   "source": [
    "using SummationByPartsOperators\n",
    "using Plots\n",
    "using Revise\n",
    "using Distributions\n",
    "using FFTW\n",
    "using LinearAlgebra\n",
    "using Base.Threads\n",
    "using HDF5\n",
    " \n",
    "includet(\"../PIC/PIC-1D/aux_functions/aux_functions.jl\")\n",
    "includet(\"local_aux_functions.jl\")\n"
   ]
  },
  {
   "cell_type": "code",
   "execution_count": 8,
   "metadata": {},
   "outputs": [],
   "source": [
    "J = (45,45,45)\n",
    "Box_x = (-22.0, 22.0, -22.0, 22.0, -22.0, 22.0)\n",
    "\n",
    "Dx = derivative_operator(MattssonNordström2004(), derivative_order = 1, accuracy_order = 2, xmin = Box_x[1], xmax = Box_x[2], N=J[1])\n",
    "Dy = derivative_operator(MattssonNordström2004(), derivative_order = 1, accuracy_order = 2, xmin = Box_x[3], xmax = Box_x[4], N=J[2])\n",
    "Dz = derivative_operator(MattssonNordström2004(), derivative_order = 1, accuracy_order = 2, xmin = Box_x[5], xmax = Box_x[6], N=J[3])\n",
    "D2x = derivative_operator(MattssonNordström2004(), derivative_order = 2, accuracy_order = 2, xmin = Box_x[1], xmax = Box_x[2], N=J[1])\n",
    "D2y = derivative_operator(MattssonNordström2004(), derivative_order = 2, accuracy_order = 2, xmin = Box_x[3], xmax = Box_x[4], N=J[2])\n",
    "D2z = derivative_operator(MattssonNordström2004(), derivative_order = 2, accuracy_order = 2, xmin = Box_x[5], xmax = Box_x[6], N=J[3])\n",
    "x = collect(SummationByPartsOperators.grid(Dx))\n",
    "y = collect(SummationByPartsOperators.grid(Dy))\n",
    "z = collect(SummationByPartsOperators.grid(Dz));\n",
    "\n"
   ]
  },
  {
   "cell_type": "code",
   "execution_count": null,
   "metadata": {},
   "outputs": [],
   "source": [
    "dx = differentials(Box_x, J, periodic=false)"
   ]
  },
  {
   "cell_type": "code",
   "execution_count": 10,
   "metadata": {},
   "outputs": [],
   "source": [
    "n_fields = 2 # the field and its derivative \n",
    "u = zeros(n_fields,J...)\n",
    "du = similar(u)\n",
    "d2 = zeros(J...);\n",
    "dxu = zeros(J...);\n",
    "dyu = zeros(J...);\n",
    "dzu = zeros(J...);"
   ]
  },
  {
   "cell_type": "code",
   "execution_count": null,
   "metadata": {},
   "outputs": [],
   "source": [
    "\n",
    "x0 = [0.0,0.0,0.0]\n",
    "r0 = 10.0\n",
    "p = 4\n",
    "par = (x,y,z,x0,Box_x, r0, p, J)\n",
    "\n",
    "#ρ = zeros(J...)\n",
    "\n",
    "ρ =  get_source(chichon, par);\n",
    "#heatmap(ρ[:,:,20],aspectratio=1)\n",
    "#@show norm(ρ)\n",
    "maximum(abs.(ρ))"
   ]
  },
  {
   "cell_type": "code",
   "execution_count": null,
   "metadata": {},
   "outputs": [],
   "source": [
    "T = 40.0\n",
    "M = 400\n",
    "dt = T/(M-1)\n",
    "t = 0.0\n",
    "\n",
    "#null initial data\n",
    "\n",
    "u[:,:,:,:] .= 0.0\n",
    "\n",
    "par = (1.0, 1.0, 20.0 )\n",
    "par_F = (x,y,z,dxu,dyu,dzu,Dx,Dy,Dz,D2x,D2y,D2z,d2,dx,ρ,J, par)\n",
    "\n",
    "norms = zeros(2,M)\n",
    "\n",
    "for m in 2:M\n",
    "    RK4_Step!(F,u,t,dt,par_F)\n",
    "    t = t + dt\n",
    "    norms[:,m] = [norm(u[1,:,:,:]),norm(u[2,:,:,:])]\n",
    "    println(\"norm u_1 = $(norms[1,m]) norm u_2 = $(norms[2,m])\")\n",
    "end\n",
    "    "
   ]
  },
  {
   "cell_type": "code",
   "execution_count": null,
   "metadata": {},
   "outputs": [],
   "source": [
    "plot(norms[1,:], label=\"phi_norm\")\n",
    "plot!(norms[2,:], label=\"phi_t_norm\")"
   ]
  },
  {
   "cell_type": "code",
   "execution_count": null,
   "metadata": {},
   "outputs": [],
   "source": [
    "surface(x,y,u[1,:,:,(J[3]+1)÷2])"
   ]
  },
  {
   "cell_type": "code",
   "execution_count": null,
   "metadata": {},
   "outputs": [],
   "source": [
    "plot(x,u[1,:,(J[2]+1)÷2,(J[3]+1)÷2])"
   ]
  },
  {
   "cell_type": "code",
   "execution_count": null,
   "metadata": {},
   "outputs": [],
   "source": [
    "plot(x,u[2,:,(J[2]+1)÷2,(J[3]+1)÷2])"
   ]
  },
  {
   "cell_type": "code",
   "execution_count": null,
   "metadata": {},
   "outputs": [],
   "source": []
  }
 ],
 "metadata": {
  "kernelspec": {
   "display_name": "Julia 1.10.4",
   "language": "julia",
   "name": "julia-1.10"
  },
  "language_info": {
   "file_extension": ".jl",
   "mimetype": "application/julia",
   "name": "julia",
   "version": "1.10.4"
  }
 },
 "nbformat": 4,
 "nbformat_minor": 2
}
