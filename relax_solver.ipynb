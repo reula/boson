{
 "cells": [
  {
   "cell_type": "markdown",
   "metadata": {},
   "source": [
    "## Initial data solver using relaxation\n",
    "\n",
    "We try to solve the time symmetric initial data when given a $ρ$ field on a cube. \n",
    "We put Robin boudary conditions.\n",
    "\n",
    "Thus we shall be solving:\n",
    "\n",
    "$$\n",
    "ψ_{tt} = \\Delta ψ ψ^5 ρ \\;\\;\\;\\; \\vec{x}\\cdot \\nabla ψ + (1-ψ) = 0\n",
    "$$\n",
    "\n",
    "Using second order finite differences inside the domain and first order at the boudaries we get for the boundary values (which are not evolved):\n",
    "\n",
    "For boundary conditions we shall put an outgoing wave, but taking into account that we want a radial wave and that something which at first order should be a monopolar field.\n",
    "\n",
    "$$\n",
    "ψ_t = (x^i\\partial_i ψ - (ψ - ψ_0))/r\n",
    "$$ \n",
    "Same for the time derivative, but that part should be unnessary becuse this should decay to a static solution.\n",
    "\n",
    "The solution we are seeking is of the form of an outgoing wave plus a static solution, the one we are after. It well behave as a monopole at large distance, plus a constant.\n",
    "\n",
    "$$\n",
    "\\psi(t,x) =\\frac{f(t-r) + M}{r} + \\psi_0\n",
    "$$\n",
    "\n",
    "Thus we have, \n",
    "$$\n",
    "\\partial_t \\psi = \\frac{f'(t-r)}{r}, \\;\\;\\;\\;\\; \\frac{\\vec{x}\\cdot \\nabla \\psi}{r} = -f'/r - f/r^2 - M/r^2 \n",
    "$$\n",
    "\n",
    "therefore asymtotically we should have, \n",
    "$$ \n",
    "\\partial_t \\psi = - \\frac{\\vec{x}\\cdot \\nabla \\psi}{r} - (f+M)/r^2 = - \\frac{\\vec{x}\\cdot ∇\\psi}{r} - (\\psi - \\psi_0)/r \n",
    "$$"
   ]
  },
  {
   "cell_type": "code",
   "execution_count": 1,
   "metadata": {},
   "outputs": [],
   "source": [
    "using SummationByPartsOperators\n",
    "using Plots\n",
    "using Revise\n",
    "using Distributions\n",
    "using FFTW\n",
    "using LinearAlgebra\n",
    "using Base.Threads\n",
    "using HDF5\n",
    " \n",
    "includet(\"../PIC/PIC-1D/aux_functions/aux_functions.jl\")\n",
    "includet(\"local_aux_functions.jl\")\n"
   ]
  },
  {
   "cell_type": "code",
   "execution_count": 2,
   "metadata": {},
   "outputs": [],
   "source": [
    "J = (45,45,45)\n",
    "Box_x = (-22.0, 22.0, -22.0, 22.0, -22.0, 22.0)\n",
    "\n",
    "Dx = derivative_operator(MattssonNordström2004(), derivative_order = 1, accuracy_order = 2, xmin = Box_x[1], xmax = Box_x[2], N=J[1])\n",
    "Dy = derivative_operator(MattssonNordström2004(), derivative_order = 1, accuracy_order = 2, xmin = Box_x[3], xmax = Box_x[4], N=J[2])\n",
    "Dz = derivative_operator(MattssonNordström2004(), derivative_order = 1, accuracy_order = 2, xmin = Box_x[5], xmax = Box_x[6], N=J[3])\n",
    "D2x = derivative_operator(MattssonNordström2004(), derivative_order = 2, accuracy_order = 2, xmin = Box_x[1], xmax = Box_x[2], N=J[1])\n",
    "D2y = derivative_operator(MattssonNordström2004(), derivative_order = 2, accuracy_order = 2, xmin = Box_x[3], xmax = Box_x[4], N=J[2])\n",
    "D2z = derivative_operator(MattssonNordström2004(), derivative_order = 2, accuracy_order = 2, xmin = Box_x[5], xmax = Box_x[6], N=J[3])\n",
    "x = collect(SummationByPartsOperators.grid(Dx))\n",
    "y = collect(SummationByPartsOperators.grid(Dy))\n",
    "z = collect(SummationByPartsOperators.grid(Dz));\n",
    "\n"
   ]
  },
  {
   "cell_type": "code",
   "execution_count": null,
   "metadata": {},
   "outputs": [],
   "source": [
    "dx = differentials(Box_x, J, periodic=false)"
   ]
  },
  {
   "cell_type": "code",
   "execution_count": 4,
   "metadata": {},
   "outputs": [],
   "source": [
    "n_fields = 2 # the field and its derivative \n",
    "u = zeros(n_fields,J...)\n",
    "du = similar(u)\n",
    "d2 = zeros(J...);\n",
    "dxu = similar(u);\n",
    "dyu = similar(u);\n",
    "dzu = similar(u);"
   ]
  },
  {
   "cell_type": "code",
   "execution_count": null,
   "metadata": {},
   "outputs": [],
   "source": [
    "\n",
    "x0 = [0.0,0.0,0.0]\n",
    "r0 = 4.0 # 10.0\n",
    "p = 4 # para fuente chichon\n",
    "p = 1 # para fuente carlos (A0)\n",
    "par = (x,y,z,x0,Box_x, r0, p, J)\n",
    "\n",
    "#ρ = zeros(J...)\n",
    "\n",
    "#ρ =  get_source(chichon, par);\n",
    "ρ =  get_source(carlos, par);\n",
    "heatmap(ρ[:,:,20],aspectratio=1)\n",
    "ϕ_ex = get_source(carlossol,par)\n",
    "heatmap(ϕ_ex[:,:,20],aspectratio=1)\n",
    "\n",
    "#@show norm(ρ)\n",
    "#maximum(abs.(ρ))"
   ]
  },
  {
   "cell_type": "code",
   "execution_count": 154,
   "metadata": {},
   "outputs": [],
   "source": [
    "T = 30.0\n",
    "M = 750\n",
    "dt = T/M\n",
    "t = 0.0\n",
    "\n",
    "#null initial data\n",
    "\n",
    "for i in 1:J[1]\n",
    "    for j in 1:J[2]\n",
    "        for k in 1:J[3]\n",
    "            r = sqrt(x[i]^2 + y[j]^2 + z[k]^2)\n",
    "            u[1,i,j,k] = 1.0 #+ exp(-r^2/4.0)\n",
    "            u[2,i,j,k] = 0.0\n",
    "        end\n",
    "    end\n",
    "end\n",
    "\n",
    "#norm(D2x*u[1,:,20,20])\n",
    "#plot(D2x*u[1,:,20,20])\n",
    "#plot!(u[1,:,20,20].-1)"
   ]
  },
  {
   "cell_type": "code",
   "execution_count": null,
   "metadata": {},
   "outputs": [],
   "source": [
    "\n",
    "v = zeros(2,M+1,J...)\n",
    "#u[:,:,:,:] .= v[:,501,:,:,:]\n",
    "\n",
    "τ = 0.0 #damping must be negative\n",
    "par = (1.0, 1.0, τ) # (a, b, τ)\n",
    "par_F = (x,y,z,dxu,dyu,dzu,Dx,Dy,Dz,D2x,D2y,D2z,d2,dx,ρ,J, par)\n",
    "\n",
    "norms = zeros(2,M+1)\n",
    "\n",
    "v[:,1,:,:,:] = u[:,:,:,:]\n",
    "\n",
    "for m in 2:M+1\n",
    "    RK4_Step!(FC,u,t,dt,par_F)\n",
    "    t = t + dt\n",
    "    norms[:,m] = [norm(u[1,:,:,:]),norm(u[2,:,:,:])]\n",
    "    if mod(m+1,10)==0\n",
    "        println(\"t = $t, norm u_1 = $(norms[1,m]) norm u_2 = $(norms[2,m])\")\n",
    "    end\n",
    "    v[:,m,:,:,:] = u[:,:,:,:]\n",
    "end\n",
    "    \n",
    "norm(d2)"
   ]
  },
  {
   "cell_type": "code",
   "execution_count": null,
   "metadata": {},
   "outputs": [],
   "source": [
    "heatmap(v[1,101,:,:,(J[3]+1)÷2] - 0.0*v[1,1,:,:,(J[3]+1)÷2] - 0.0*ϕ_ex[:,:,(J[3]+1)÷2],aspectratio=1)"
   ]
  },
  {
   "cell_type": "code",
   "execution_count": null,
   "metadata": {},
   "outputs": [],
   "source": [
    "plot(v[1,751,:,(J[2]+1)÷2,(J[3]+1)÷2] - ϕ_ex[:,(J[2]+1)÷2,(J[3]+1)÷2],aspectratio=1)"
   ]
  },
  {
   "cell_type": "code",
   "execution_count": null,
   "metadata": {},
   "outputs": [],
   "source": [
    "anim_plot = @animate for i in 1:10:M+1\n",
    "    plot(v[1,i,:,(J[2]+1)÷2,(J[3]+1)÷2] - ϕ_ex[:,(J[2]+1)÷2,(J[3]+1)÷2], ylim=(0.0,3.0))\n",
    "end\n"
   ]
  },
  {
   "cell_type": "code",
   "execution_count": null,
   "metadata": {},
   "outputs": [],
   "source": [
    "\n",
    "gif(anim_plot, \"carlos_phi_t_plot.gif\", fps = 10)"
   ]
  },
  {
   "cell_type": "code",
   "execution_count": null,
   "metadata": {},
   "outputs": [],
   "source": [
    "anim = @animate for i ∈ 1:10:M+1\n",
    "    surface(v[2,i,:,:,(J[3]+1)÷2].-1.0,aspectratio=1)\n",
    "end\n",
    "\n",
    "gif(anim, \"carlos_phi_t.gif\", fps = 10)\n",
    "#heatmap(v[2,1,:,:,(J[3]+1)÷2].-0.0,aspectratio=1)"
   ]
  },
  {
   "cell_type": "code",
   "execution_count": null,
   "metadata": {},
   "outputs": [],
   "source": [
    "plot(norms[1,:], label=\"phi_norm\")\n",
    "plot!(norms[2,:], label=\"phi_t_norm\")\n",
    "#png(\"convergence_u5_T$(T)_k$(τ)\")"
   ]
  },
  {
   "cell_type": "code",
   "execution_count": null,
   "metadata": {},
   "outputs": [],
   "source": [
    "surface(x,y,u[1,:,:,(J[3]+1)÷2])"
   ]
  },
  {
   "cell_type": "code",
   "execution_count": null,
   "metadata": {},
   "outputs": [],
   "source": [
    "plot(x,u[1,:,(J[2]+1)÷2,(J[3]+1)÷2])"
   ]
  },
  {
   "cell_type": "code",
   "execution_count": null,
   "metadata": {},
   "outputs": [],
   "source": [
    "plot(x,u[2,:,(J[2]+1)÷2,(J[3]+1)÷2])"
   ]
  },
  {
   "cell_type": "code",
   "execution_count": null,
   "metadata": {},
   "outputs": [],
   "source": [
    "norm(u)/prod(J)"
   ]
  },
  {
   "cell_type": "code",
   "execution_count": null,
   "metadata": {},
   "outputs": [],
   "source": [
    "argmax(abs.(u))"
   ]
  },
  {
   "cell_type": "code",
   "execution_count": null,
   "metadata": {},
   "outputs": [],
   "source": [
    "plot(u[2,2,43,:])"
   ]
  },
  {
   "cell_type": "code",
   "execution_count": 148,
   "metadata": {},
   "outputs": [],
   "source": [
    "\n",
    "l = FC(v[:,751,:,:,:],1.0,par_F);\n"
   ]
  },
  {
   "cell_type": "code",
   "execution_count": null,
   "metadata": {},
   "outputs": [],
   "source": [
    "l[2,(J[1]+1)÷2,(J[2]+1)÷2,(J[3]+1)÷2]"
   ]
  }
 ],
 "metadata": {
  "kernelspec": {
   "display_name": "Julia 1.10.4",
   "language": "julia",
   "name": "julia-1.10"
  },
  "language_info": {
   "file_extension": ".jl",
   "mimetype": "application/julia",
   "name": "julia",
   "version": "1.10.4"
  }
 },
 "nbformat": 4,
 "nbformat_minor": 2
}
