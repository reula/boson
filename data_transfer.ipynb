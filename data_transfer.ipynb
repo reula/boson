{
 "cells": [
  {
   "cell_type": "markdown",
   "metadata": {},
   "source": [
    "### Table format should be as follows: \n",
    "\n",
    "1. Could have any dimensionality in coordinates (i.e 1D, 2D or 3D coordinates) \n",
    "2. The coordinate values must be in a separate dataset called coordX, being X the number of the coordinate. Numbering must be correlative beginning from 0. \n",
    "3. There must be a dataset called nvars with the total number of fields with data (excluding coordinates). \n",
    "4. Every field must be in a separate dataset called varX, being X the number of the field. Numbering must be correlative beginning from 0. \n",
    "5. The size of the fields must match dimensionality. For instance in a 2D with first dimension having 400 values and second dimension having 250 values, every field must have 400x250 values in a 2D dataset."
   ]
  },
  {
   "cell_type": "code",
   "execution_count": 41,
   "metadata": {},
   "outputs": [
    {
     "name": "stderr",
     "output_type": "stream",
     "text": [
      "\u001b[32m\u001b[1m   Resolving\u001b[22m\u001b[39m package versions...\n",
      "\u001b[32m\u001b[1m  No Changes\u001b[22m\u001b[39m to `~/.julia/environments/v1.10/Project.toml`\n",
      "\u001b[32m\u001b[1m  No Changes\u001b[22m\u001b[39m to `~/.julia/environments/v1.10/Manifest.toml`\n"
     ]
    }
   ],
   "source": [
    "import Pkg; Pkg.add(\"HDF5\")\n",
    "using HDF5\n",
    "using Revise\n",
    "includet(\"../PIC/PIC-1D/aux_functions/aux_functions.jl\")\n"
   ]
  },
  {
   "cell_type": "code",
   "execution_count": 69,
   "metadata": {},
   "outputs": [
    {
     "name": "stdout",
     "output_type": "stream",
     "text": [
      "dx = differentials(Box, J) = [0.0392156862745098, 0.0392156862745098, 0.0392156862745098]\n"
     ]
    },
    {
     "data": {
      "text/plain": [
       "true"
      ]
     },
     "metadata": {},
     "output_type": "display_data"
    }
   ],
   "source": [
    "\n",
    "# Example array\n",
    "\n",
    "J = (51,102,51)\n",
    "Box = (0.0,2.0, 0.0, 4.0,0.0,2.0)\n",
    "@show dx = differentials(Box, J)\n",
    "N_fields = Int32(1)\n",
    "D = 3\n",
    "x = [(i-1)*dx[1] for i in 1:J[1]]\n",
    "y = [(i-1)*dx[2] for i in 1:J[2]]\n",
    "z = [(i-1)*dx[3] for i in 1:J[3]];\n",
    "dx[1]==dx[2]\n",
    "\n"
   ]
  },
  {
   "cell_type": "code",
   "execution_count": 70,
   "metadata": {},
   "outputs": [],
   "source": [
    "f(x) = exp(-4(x.-1.0)'*(x.-1.0))\n",
    "\n",
    "g = fill(0.0+im*0.0,J...)\n",
    "\n",
    "for i in 1:J[1]\n",
    "    for j in 1:J[2]\n",
    "        for k in 1:J[3]\n",
    "        g[i,j,k] = f([x[i],y[j],z[k]])\n",
    "        end\n",
    "    end\n",
    "end\n"
   ]
  },
  {
   "cell_type": "code",
   "execution_count": 54,
   "metadata": {},
   "outputs": [
    {
     "name": "stdout",
     "output_type": "stream",
     "text": []
    }
   ],
   "source": [
    "using Plots\n",
    "\n",
    "surface(x,y,real.(g))"
   ]
  },
  {
   "cell_type": "code",
   "execution_count": 71,
   "metadata": {},
   "outputs": [
    {
     "name": "stdout",
     "output_type": "stream",
     "text": [
      "Array saved to example_data.h5\n"
     ]
    }
   ],
   "source": [
    "\n",
    "# Open an HDF5 file in write mode\n",
    "h5file = h5open(\"example_data.h5\", \"w\") do file\n",
    "    write(file, \"coord0\", x)\n",
    "    write(file, \"coord1\", y)\n",
    "    write(file, \"coord2\", z)\n",
    "    write(file, \"nvars\", N_fields)\n",
    "    write(file, \"var0\", real.(g))\n",
    "    #write(file, \"var1\", imag.(g))\n",
    "end\n",
    "\n",
    "println(\"Array saved to example_data.h5\")"
   ]
  },
  {
   "cell_type": "code",
   "execution_count": 72,
   "metadata": {},
   "outputs": [
    {
     "data": {
      "text/plain": [
       "🗂️ HDF5.File: (read-only) example_data.h5\n",
       "├─ 🔢 coord0\n",
       "├─ 🔢 coord1\n",
       "├─ 🔢 coord2\n",
       "├─ 🔢 nvars\n",
       "└─ 🔢 var0"
      ]
     },
     "metadata": {},
     "output_type": "display_data"
    }
   ],
   "source": [
    "filename = \"example_data.h5\"\n",
    "data = h5open(filename, \"r\")\n",
    "\n"
   ]
  },
  {
   "cell_type": "code",
   "execution_count": 35,
   "metadata": {},
   "outputs": [
    {
     "data": {
      "text/plain": [
       "IOStream(<file example_data.h5>)"
      ]
     },
     "metadata": {},
     "output_type": "display_data"
    }
   ],
   "source": [
    "data"
   ]
  },
  {
   "cell_type": "code",
   "execution_count": null,
   "metadata": {},
   "outputs": [],
   "source": []
  }
 ],
 "metadata": {
  "kernelspec": {
   "display_name": "Julia 1.10.5",
   "language": "julia",
   "name": "julia-1.10"
  },
  "language_info": {
   "file_extension": ".jl",
   "mimetype": "application/julia",
   "name": "julia",
   "version": "1.10.5"
  }
 },
 "nbformat": 4,
 "nbformat_minor": 2
}
