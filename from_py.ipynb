{
 "cells": [
  {
   "cell_type": "code",
   "execution_count": 2,
   "metadata": {},
   "outputs": [
    {
     "name": "stdout",
     "output_type": "stream",
     "text": [
      "dx = differentials(Box, J) = [0.0392156862745098, 0.0392156862745098, 0.0392156862745098]\n",
      "dx = differentials(Box, J) = [0.0392156862745098, 0.0392156862745098, 0.0392156862745098]\n"
     ]
    },
    {
     "ename": "UndefVarError",
     "evalue": "UndefVarError: `d_create` not defined",
     "output_type": "error",
     "traceback": [
      "UndefVarError: `d_create` not defined\n",
      "\n",
      "Stacktrace:\n",
      " [1] top-level scope\n",
      "   @ ~/Julia/boson/jl_notebook_cell_df34fa98e69747e1a8f8a730347b8e2f_W0sZmlsZQ==.jl:38"
     ]
    }
   ],
   "source": [
    "using HDF5\n",
    "using Printf\n",
    "using Revise\n",
    "includet(\"../PIC/PIC-1D/aux_functions/aux_functions.jl\")\n",
    "\n",
    "J = (51,51,51)\n",
    "Box = (0.0,2.0, 0.0, 2.0,0.0,2.0)\n",
    "@show dx = differentials(Box, J)\n",
    "N_fields = Int32(1)\n",
    "D = 3\n",
    "x = [(i-1)*dx[1] for i in 1:J[1]]\n",
    "y = [(i-1)*dx[2] for i in 1:J[2]]\n",
    "z = [(i-1)*dx[3] for i in 1:J[3]];\n",
    "\n",
    "output = \"Data.h5\"\n",
    "\n",
    "hdf = h5open(output, \"w\")\n",
    "\n",
    "RHOGF = 1.619679366684996e-18\n",
    "PRESSGF = 1.80213633813095e-39\n",
    "EPSGF = 1.11265005605362e-21\n",
    "\n",
    "\n",
    "fields = [\"phi_r\", \"phi_i\", \"phi_t_r\", \"phi_t_i\"]\n",
    "\n",
    "coords = (1, 2, 3)\n",
    "\n",
    "J = (51,102,51)\n",
    "Box = (0.0,2.0, 0.0, 4.0,0.0,2.0)\n",
    "@show dx = differentials(Box, J)\n",
    "N_fields = Int32(1)\n",
    "D = 3\n",
    "\n",
    "#nvars = Float32(0)\n",
    "nvars = 0\n",
    "for coord in coords\n",
    "    data = [(i-1)*dx[coord] for i in 1:J[coord]]\n",
    "    dset = d_create(hdf, \"coord$nvars\", data)\n",
    "    nvars += 1\n",
    "end\n",
    "\n",
    "#nvars = Float32(0)\n",
    "nvars = 0\n",
    "for field in fields\n",
    "    if field == \"phi_r\"\n",
    "        data = real.(phi)\n",
    "    elseif field == \"phi_i\"\n",
    "        data = imag.(phi)\n",
    "    elseif field == \"phi_t_r\"\n",
    "        data = real.(phi_t)\n",
    "    elseif field == \"phi_t_i\"\n",
    "        data = imag.(phi_t_i)\n",
    "    else \n",
    "        error(\"not implemented\")\n",
    "    dset = d_create(hdf, \"var$nvars\", data)\n",
    "    write(dset, data)\n",
    "    nvars += 1\n",
    "end\n",
    "\n",
    "dset = d_create(hdf, \"nvars\", [nvars])\n",
    "write(dset, nvars)\n",
    "close(hdf)\n"
   ]
  }
 ],
 "metadata": {
  "kernelspec": {
   "display_name": "Julia 1.10.5",
   "language": "julia",
   "name": "julia-1.10"
  },
  "language_info": {
   "file_extension": ".jl",
   "mimetype": "application/julia",
   "name": "julia",
   "version": "1.10.5"
  }
 },
 "nbformat": 4,
 "nbformat_minor": 2
}
