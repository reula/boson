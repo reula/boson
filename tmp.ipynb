{
 "cells": [
  {
   "cell_type": "code",
   "execution_count": null,
   "metadata": {},
   "outputs": [],
   "source": [
    "using SummationByPartsOperators\n",
    "using LinearAlgebra\n",
    "include(\"local_aux_functions.jl\")"
   ]
  },
  {
   "cell_type": "code",
   "execution_count": 16,
   "metadata": {},
   "outputs": [],
   "source": [
    "\n",
    "J = (45,45,45)\n",
    "Box_x = (-22.0, 22.0, -22.0, 22.0, -22.0, 22.0)\n",
    "Dx = derivative_operator(MattssonNordström2004(), derivative_order = 1, accuracy_order = 2, xmin = Box_x[1], xmax = Box_x[2], N=J[1])\n",
    "xr = SummationByPartsOperators.grid(Dx);\n",
    "x = collect(xr);"
   ]
  },
  {
   "cell_type": "code",
   "execution_count": null,
   "metadata": {},
   "outputs": [],
   "source": [
    "u = sin.(2π*x)\n",
    "\n",
    "\n",
    "\n",
    "derivative_left(Dx, xr, Val{1}()) \n"
   ]
  },
  {
   "cell_type": "code",
   "execution_count": null,
   "metadata": {},
   "outputs": [],
   "source": [
    "D2 = derivative_operator(MattssonSvärdShoeybi2008(),\n",
    "derivative_order = 2,\n",
    "                                 accuracy_order = 2, xmin = 0.0, xmax =\n",
    "1.0, N = 100) \n",
    "\n",
    "D1 = derivative_operator(MattssonSvärdShoeybi2008(),\n",
    "derivative_order = 1,\n",
    "                                 accuracy_order = 2, xmin = 0.0, xmax =\n",
    "1.0, N = 100) \n",
    "\n",
    "xl = grid(D2)\n",
    "\n",
    "u = sin.(2π *xl)\n",
    "\n",
    "@show derivative_left(D2, u, Val{0}()) # just the value\n",
    "\n",
    "\n",
    "@show derivative_left(D, u, Val{1}())/2/π # first-derivative approximation\n",
    "\n"
   ]
  },
  {
   "cell_type": "code",
   "execution_count": null,
   "metadata": {},
   "outputs": [],
   "source": [
    "function test(x,p)\n",
    "    t1, t2 = p\n",
    "    x,y = t1\n",
    "    z,l = t2\n",
    "    return x+z\n",
    "end\n",
    "\n",
    "t1 = (1,2)\n",
    "t2 = (3,4)\n",
    "p = (t1,t2)\n",
    "test(5,p)"
   ]
  },
  {
   "cell_type": "code",
   "execution_count": null,
   "metadata": {},
   "outputs": [],
   "source": [
    "J = (3,3,3)\n",
    "m = ones(J...)\n",
    "m_l = zeros((J.+(1,1,1))...)\n",
    "\n",
    "m_l[1:J[1],1:J[2],1:J[3]] = m\n",
    "m_l[J[1]+1,1:J[2],1:J[3]] = m[1,:,:]\n",
    "m_l[1:J[1],J[2]+1,1:J[3]] = m[:,1,:]\n",
    "m_l[1:J[1],1:J[2],J[3]+1] = m[:,:,1]\n",
    "m_l[1:J[1],J[2]+1,J[3]+1] = m[:,1,1]\n",
    "m_l[J[1]+1,J[2]+1,1:J[3]] = m[1,1,:]\n",
    "m_l[J[1]+1,1:J[2],J[3]+1] = m[1,:,1]\n",
    "m_l[J[1]+1,J[2]+1,J[3]+1] = m[1,1,1]\n",
    "\n",
    "m_l"
   ]
  },
  {
   "cell_type": "code",
   "execution_count": null,
   "metadata": {},
   "outputs": [],
   "source": [
    "\n",
    "m = ones(3,3,3)\n",
    "\n",
    "m_l = embed_source(m,(9,9,9))\n",
    "norm(m_l)"
   ]
  },
  {
   "cell_type": "code",
   "execution_count": null,
   "metadata": {},
   "outputs": [],
   "source": [
    "m_l[4,4,4]"
   ]
  },
  {
   "cell_type": "code",
   "execution_count": null,
   "metadata": {},
   "outputs": [],
   "source": [
    "J = (4,4,4)\n",
    "unos = ones(J)\n",
    "norm(unos)/sqrt(prod(J))"
   ]
  },
  {
   "cell_type": "code",
   "execution_count": null,
   "metadata": {},
   "outputs": [],
   "source": [
    "v = ones(3,4,6,6,6)\n",
    "get_norm(v,3)"
   ]
  },
  {
   "cell_type": "code",
   "execution_count": null,
   "metadata": {},
   "outputs": [],
   "source": [
    "J = 6\n",
    "m_l = zeros(J+2*(J÷2+1))\n",
    "m = ones(J)\n",
    "m_l[J÷2+2:J÷2+1+J] = m\n",
    "m_l"
   ]
  },
  {
   "cell_type": "code",
   "execution_count": null,
   "metadata": {},
   "outputs": [],
   "source": [
    "J+2*(J÷2)"
   ]
  },
  {
   "cell_type": "code",
   "execution_count": null,
   "metadata": {},
   "outputs": [],
   "source": [
    "N = 10000\n",
    "u = ones(N)\n",
    "v = zeros(N)\n",
    "Threads.@threads for i in 1:10000\n",
    "    a = u[i]^2\n",
    "    v[i] = a\n",
    "end\n",
    "\n",
    "norm(v - u.^2)"
   ]
  },
  {
   "cell_type": "code",
   "execution_count": null,
   "metadata": {},
   "outputs": [],
   "source": []
  }
 ],
 "metadata": {
  "kernelspec": {
   "display_name": "Julia 1.9.4",
   "language": "julia",
   "name": "julia-1.9"
  },
  "language_info": {
   "file_extension": ".jl",
   "mimetype": "application/julia",
   "name": "julia",
   "version": "1.9.4"
  }
 },
 "nbformat": 4,
 "nbformat_minor": 2
}
