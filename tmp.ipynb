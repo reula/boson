{
 "cells": [
  {
   "cell_type": "code",
   "execution_count": 1,
   "metadata": {},
   "outputs": [],
   "source": [
    "using SummationByPartsOperators"
   ]
  },
  {
   "cell_type": "code",
   "execution_count": 7,
   "metadata": {},
   "outputs": [],
   "source": [
    "\n",
    "J = (45,45,45)\n",
    "Box_x = (-22.0, 22.0, -22.0, 22.0, -22.0, 22.0)\n",
    "Dx = derivative_operator(MattssonNordström2004(), derivative_order = 1, accuracy_order = 2, xmin = Box_x[1], xmax = Box_x[2], N=J[1])\n",
    "x = collect(SummationByPartsOperators.grid(Dx));"
   ]
  },
  {
   "cell_type": "code",
   "execution_count": 12,
   "metadata": {},
   "outputs": [
    {
     "ename": "LoadError",
     "evalue": "MethodError: no method matching *(::Vector{Float64}, ::Vector{Float64})\n\n\u001b[0mClosest candidates are:\n\u001b[0m  *(::Any, ::Any, \u001b[91m::Any\u001b[39m, \u001b[91m::Any...\u001b[39m)\n\u001b[0m\u001b[90m   @\u001b[39m \u001b[90mBase\u001b[39m \u001b[90m\u001b[4moperators.jl:587\u001b[24m\u001b[39m\n\u001b[0m  *(\u001b[91m::SciMLOperators.IdentityOperator\u001b[39m, ::AbstractVecOrMat)\n\u001b[0m\u001b[90m   @\u001b[39m \u001b[36mSciMLOperators\u001b[39m \u001b[90m~/.julia/packages/SciMLOperators/778OM/src/\u001b[39m\u001b[90m\u001b[4mbasic.jl:41\u001b[24m\u001b[39m\n\u001b[0m  *(\u001b[91m::SciMLOperators.NullOperator\u001b[39m, ::AbstractVecOrMat)\n\u001b[0m\u001b[90m   @\u001b[39m \u001b[36mSciMLOperators\u001b[39m \u001b[90m~/.julia/packages/SciMLOperators/778OM/src/\u001b[39m\u001b[90m\u001b[4mbasic.jl:132\u001b[24m\u001b[39m\n\u001b[0m  ...\n",
     "output_type": "error",
     "traceback": [
      "MethodError: no method matching *(::Vector{Float64}, ::Vector{Float64})\n\n\u001b[0mClosest candidates are:\n\u001b[0m  *(::Any, ::Any, \u001b[91m::Any\u001b[39m, \u001b[91m::Any...\u001b[39m)\n\u001b[0m\u001b[90m   @\u001b[39m \u001b[90mBase\u001b[39m \u001b[90m\u001b[4moperators.jl:587\u001b[24m\u001b[39m\n\u001b[0m  *(\u001b[91m::SciMLOperators.IdentityOperator\u001b[39m, ::AbstractVecOrMat)\n\u001b[0m\u001b[90m   @\u001b[39m \u001b[36mSciMLOperators\u001b[39m \u001b[90m~/.julia/packages/SciMLOperators/778OM/src/\u001b[39m\u001b[90m\u001b[4mbasic.jl:41\u001b[24m\u001b[39m\n\u001b[0m  *(\u001b[91m::SciMLOperators.NullOperator\u001b[39m, ::AbstractVecOrMat)\n\u001b[0m\u001b[90m   @\u001b[39m \u001b[36mSciMLOperators\u001b[39m \u001b[90m~/.julia/packages/SciMLOperators/778OM/src/\u001b[39m\u001b[90m\u001b[4mbasic.jl:132\u001b[24m\u001b[39m\n\u001b[0m  ...\n",
      "",
      "Stacktrace:",
      " [1] top-level scope",
      "   @ In[12]:3"
     ]
    }
   ],
   "source": [
    "u = sin.(2π*x)\n",
    "\n",
    "SummationByPartsOperators.Matrix(Dx)\n",
    "\n",
    "#[1,:]*u[:]"
   ]
  }
 ],
 "metadata": {
  "kernelspec": {
   "display_name": "Julia 1.10.4",
   "language": "julia",
   "name": "julia-1.10"
  },
  "language_info": {
   "file_extension": ".jl",
   "mimetype": "application/julia",
   "name": "julia",
   "version": "1.10.4"
  }
 },
 "nbformat": 4,
 "nbformat_minor": 2
}
