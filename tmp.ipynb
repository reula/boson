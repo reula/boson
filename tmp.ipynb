{
 "cells": [
  {
   "cell_type": "code",
   "execution_count": 6,
   "metadata": {},
   "outputs": [
    {
     "data": {
      "text/plain": [
       "embed_source (generic function with 1 method)"
      ]
     },
     "execution_count": 6,
     "metadata": {},
     "output_type": "execute_result"
    }
   ],
   "source": [
    "using SummationByPartsOperators\n",
    "using LinearAlgebra\n",
    "include(\"local_aux_functions.jl\")"
   ]
  },
  {
   "cell_type": "code",
   "execution_count": 16,
   "metadata": {},
   "outputs": [],
   "source": [
    "\n",
    "J = (45,45,45)\n",
    "Box_x = (-22.0, 22.0, -22.0, 22.0, -22.0, 22.0)\n",
    "Dx = derivative_operator(MattssonNordström2004(), derivative_order = 1, accuracy_order = 2, xmin = Box_x[1], xmax = Box_x[2], N=J[1])\n",
    "xr = SummationByPartsOperators.grid(Dx);\n",
    "x = collect(xr);"
   ]
  },
  {
   "cell_type": "code",
   "execution_count": null,
   "metadata": {},
   "outputs": [],
   "source": [
    "u = sin.(2π*x)\n",
    "\n",
    "\n",
    "\n",
    "derivative_left(Dx, xr, Val{1}()) \n"
   ]
  },
  {
   "cell_type": "code",
   "execution_count": null,
   "metadata": {},
   "outputs": [],
   "source": [
    "D2 = derivative_operator(MattssonSvärdShoeybi2008(),\n",
    "derivative_order = 2,\n",
    "                                 accuracy_order = 2, xmin = 0.0, xmax =\n",
    "1.0, N = 100) \n",
    "\n",
    "D1 = derivative_operator(MattssonSvärdShoeybi2008(),\n",
    "derivative_order = 1,\n",
    "                                 accuracy_order = 2, xmin = 0.0, xmax =\n",
    "1.0, N = 100) \n",
    "\n",
    "xl = grid(D2)\n",
    "\n",
    "u = sin.(2π *xl)\n",
    "\n",
    "@show derivative_left(D2, u, Val{0}()) # just the value\n",
    "\n",
    "\n",
    "@show derivative_left(D, u, Val{1}())/2/π # first-derivative approximation\n",
    "\n"
   ]
  },
  {
   "cell_type": "code",
   "execution_count": null,
   "metadata": {},
   "outputs": [],
   "source": [
    "function test(x,p)\n",
    "    t1, t2 = p\n",
    "    x,y = t1\n",
    "    z,l = t2\n",
    "    return x+z\n",
    "end\n",
    "\n",
    "t1 = (1,2)\n",
    "t2 = (3,4)\n",
    "p = (t1,t2)\n",
    "test(5,p)"
   ]
  },
  {
   "cell_type": "code",
   "execution_count": 10,
   "metadata": {},
   "outputs": [
    {
     "data": {
      "text/plain": [
       "4×4×4 Array{Float64, 3}:\n",
       "[:, :, 1] =\n",
       " 1.0  1.0  1.0  1.0\n",
       " 1.0  1.0  1.0  1.0\n",
       " 1.0  1.0  1.0  1.0\n",
       " 1.0  1.0  1.0  1.0\n",
       "\n",
       "[:, :, 2] =\n",
       " 1.0  1.0  1.0  1.0\n",
       " 1.0  1.0  1.0  1.0\n",
       " 1.0  1.0  1.0  1.0\n",
       " 1.0  1.0  1.0  1.0\n",
       "\n",
       "[:, :, 3] =\n",
       " 1.0  1.0  1.0  1.0\n",
       " 1.0  1.0  1.0  1.0\n",
       " 1.0  1.0  1.0  1.0\n",
       " 1.0  1.0  1.0  1.0\n",
       "\n",
       "[:, :, 4] =\n",
       " 1.0  1.0  1.0  1.0\n",
       " 1.0  1.0  1.0  1.0\n",
       " 1.0  1.0  1.0  1.0\n",
       " 1.0  1.0  1.0  1.0"
      ]
     },
     "metadata": {},
     "output_type": "display_data"
    }
   ],
   "source": [
    "J = (3,3,3)\n",
    "m = ones(J...)\n",
    "m_l = zeros((J.+(1,1,1))...)\n",
    "\n",
    "m_l[1:J[1],1:J[2],1:J[3]] = m\n",
    "m_l[J[1]+1,1:J[2],1:J[3]] = m[1,:,:]\n",
    "m_l[1:J[1],J[2]+1,1:J[3]] = m[:,1,:]\n",
    "m_l[1:J[1],1:J[2],J[3]+1] = m[:,:,1]\n",
    "m_l[1:J[1],J[2]+1,J[3]+1] = m[:,1,1]\n",
    "m_l[J[1]+1,J[2]+1,1:J[3]] = m[1,1,:]\n",
    "m_l[J[1]+1,1:J[2],J[3]+1] = m[1,:,1]\n",
    "m_l[J[1]+1,J[2]+1,J[3]+1] = m[1,1,1]\n",
    "\n",
    "m_l"
   ]
  },
  {
   "cell_type": "code",
   "execution_count": 8,
   "metadata": {},
   "outputs": [
    {
     "data": {
      "text/plain": [
       "5.196152422706632"
      ]
     },
     "execution_count": 8,
     "metadata": {},
     "output_type": "execute_result"
    }
   ],
   "source": [
    "\n",
    "m = ones(3,3,3)\n",
    "\n",
    "m_l = embed_source(m,(9,9,9))\n",
    "norm(m_l)"
   ]
  },
  {
   "cell_type": "code",
   "execution_count": 9,
   "metadata": {},
   "outputs": [
    {
     "data": {
      "text/plain": [
       "1.0"
      ]
     },
     "execution_count": 9,
     "metadata": {},
     "output_type": "execute_result"
    }
   ],
   "source": [
    "m_l[4,4,4]"
   ]
  },
  {
   "cell_type": "code",
   "execution_count": null,
   "metadata": {},
   "outputs": [],
   "source": []
  }
 ],
 "metadata": {
  "kernelspec": {
   "display_name": "Julia 1.9.4",
   "language": "julia",
   "name": "julia-1.9"
  },
  "language_info": {
   "file_extension": ".jl",
   "mimetype": "application/julia",
   "name": "julia",
   "version": "1.9.4"
  }
 },
 "nbformat": 4,
 "nbformat_minor": 2
}
