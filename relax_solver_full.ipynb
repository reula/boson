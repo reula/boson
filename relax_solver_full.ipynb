{
 "cells": [
  {
   "cell_type": "markdown",
   "metadata": {},
   "source": [
    "## Initial data solver using relaxation\n",
    "\n",
    "We try to solve the time symmetric initial data when given a $ρ$ field on a cube. \n",
    "We put Robin boudary conditions.\n",
    "\n",
    "Thus we shall be solving:\n",
    "\n",
    "$$\n",
    "ψ_{tt} = \\Delta ψ + ψ^5 ρ \\;\\;\\;\\; \\vec{x}\\cdot \\nabla ψ + (1-ψ) = 0\n",
    "$$\n",
    "\n",
    "$$\n",
    "\\rho = |phi_t|^2 + V + \\psi^{-4}|\\nabla \\psi|^2\n",
    "$$\n",
    "\n",
    "Using second order finite differences inside the domain and first order at the boudaries we get for the boundary values (which are not evolved):\n",
    "\n",
    "For boundary conditions we shall put an outgoing wave, but taking into account that we want a radial wave and that something which at first order should be a monopolar field.\n",
    "\n",
    "$$\n",
    "ψ_t = (x^i\\partial_i ψ - (ψ - ψ_0))/r\n",
    "$$ \n",
    "Same for the time derivative, but that part should be unnessary becuse this should decay to a static solution.\n",
    "\n",
    "The solution we are seeking is of the form of an outgoing wave plus a static solution, the one we are after. It well behave as a monopole at large distance, plus a constant.\n",
    "\n",
    "$$\n",
    "\\psi(t,x) =\\frac{f(t-r) + M}{r} + \\psi_0\n",
    "$$\n",
    "\n",
    "Thus we have, \n",
    "$$\n",
    "\\partial_t \\psi = \\frac{f'(t-r)}{r}, \\;\\;\\;\\;\\; \\frac{\\vec{x}\\cdot \\nabla \\psi}{r} = -f'/r - f/r^2 - M/r^2 \n",
    "$$\n",
    "\n",
    "therefore asymtotically we should have, \n",
    "$$ \n",
    "\\partial_t \\psi = - \\frac{\\vec{x}\\cdot \\nabla \\psi}{r} - (f+M)/r^2 = - \\frac{\\vec{x}\\cdot ∇\\psi}{r} - (\\psi - \\psi_0)/r \n",
    "$$\n",
    "\n",
    "The equation for $\\xi := \\alpha \\psi$ is:\n",
    "\n",
    "$$\n",
    "\\xi_{tt} = \\Delta \\xi + \\xi ψ^4 (\\rho + 2S) \\;\\;\\;\\; \\vec{x}\\cdot \\nabla ψ + (1-ψ) = 0\n",
    "$$\n",
    "\n",
    "Where\n",
    "\n",
    "$$\n",
    "S = - \\psi^{-4}|\\nabla \\phi|^2 + 3(\\pi^2 - V) \\;\\;\\; \\rho + 2S = 7\\pi^2 - 5 V - \\psi^{-4}|\\nabla \\phi|^2\n",
    "$$"
   ]
  },
  {
   "cell_type": "code",
   "execution_count": 1,
   "metadata": {},
   "outputs": [],
   "source": [
    "using SummationByPartsOperators\n",
    "using Plots\n",
    "using Revise\n",
    "using Distributions\n",
    "using FFTW\n",
    "using LinearAlgebra\n",
    "using Base.Threads\n",
    "using HDF5\n",
    "using FileIO\n",
    "using JLD2\n",
    " \n",
    "#includet(\"../PIC/PIC-1D/aux_functions/aux_functions.jl\")\n",
    "includet(\"../PIC-1D/aux_functions/aux_functions.jl\")\n",
    "includet(\"local_aux_functions.jl\")\n",
    "\n"
   ]
  },
  {
   "cell_type": "markdown",
   "metadata": {},
   "source": [
    "First run inidat.ipynb and get the data\n"
   ]
  },
  {
   "cell_type": "code",
   "execution_count": null,
   "metadata": {},
   "outputs": [],
   "source": [
    "data_name = \"data_3d_h_step_cut_small\"\n",
    "data = h5open(\"Inidats/\" * data_name * \".h5\",\"r\")"
   ]
  },
  {
   "cell_type": "code",
   "execution_count": 3,
   "metadata": {},
   "outputs": [],
   "source": [
    "J_in = size(data[\"var6\"])\n",
    "Box_x_in = [read(data[\"coord0\"])[1], read(data[\"coord0\"])[end],read(data[\"coord1\"])[1], read(data[\"coord1\"])[end],read(data[\"coord2\"])[1], read(data[\"coord2\"])[end]];\n",
    "J = (3).*J_in\n",
    "Box_x = 3*Box_x_in;\n",
    "dx = differentials(Box_x,J)\n",
    "V = volume(Box_x)\n",
    "m = 1\n",
    "m2 = m^2\n",
    "\n",
    "\n",
    "Dx = derivative_operator(MattssonNordström2004(), derivative_order = 1, accuracy_order = 2, xmin = Box_x[1], xmax = Box_x[2], N=J[1])\n",
    "Dy = derivative_operator(MattssonNordström2004(), derivative_order = 1, accuracy_order = 2, xmin = Box_x[3], xmax = Box_x[4], N=J[2])\n",
    "Dz = derivative_operator(MattssonNordström2004(), derivative_order = 1, accuracy_order = 2, xmin = Box_x[5], xmax = Box_x[6], N=J[3])\n",
    "D2x = derivative_operator(MattssonNordström2004(), derivative_order = 2, accuracy_order = 2, xmin = Box_x[1], xmax = Box_x[2], N=J[1])\n",
    "D2y = derivative_operator(MattssonNordström2004(), derivative_order = 2, accuracy_order = 2, xmin = Box_x[3], xmax = Box_x[4], N=J[2])\n",
    "D2z = derivative_operator(MattssonNordström2004(), derivative_order = 2, accuracy_order = 2, xmin = Box_x[5], xmax = Box_x[6], N=J[3])\n",
    "x = collect(SummationByPartsOperators.grid(Dx))\n",
    "y = collect(SummationByPartsOperators.grid(Dy))\n",
    "z = collect(SummationByPartsOperators.grid(Dz));"
   ]
  },
  {
   "cell_type": "code",
   "execution_count": null,
   "metadata": {},
   "outputs": [],
   "source": [
    "J"
   ]
  },
  {
   "cell_type": "code",
   "execution_count": 5,
   "metadata": {},
   "outputs": [],
   "source": [
    "π2 = embed_source(read(data[\"var4\"]),J);\n",
    "#heatmap(x,y,π2[:,:,J[3]÷2], aspectratio=1)\n",
    "∇2 = embed_source(read(data[\"var5\"]),J);\n",
    "#heatmap(x,y,∇2[:,:,J[3]÷2], aspectratio=1)\n",
    "V = embed_source(read(data[\"var6\"]),J);\n",
    "#heatmap(x,y,V[:,:,J[3]÷2], aspectratio=1)\n",
    "\n",
    "#heatmap(π2[:,:,(J[3]+1)÷2])"
   ]
  },
  {
   "cell_type": "code",
   "execution_count": 6,
   "metadata": {},
   "outputs": [],
   "source": [
    "n_fields = 4 # the field and its derivative \n",
    "u = zeros(n_fields,J...)\n",
    "du = similar(u)\n",
    "d2 = zeros(2,J...);\n",
    "#dxu = similar(u);\n",
    "#dyu = similar(u);\n",
    "#dzu = similar(u);"
   ]
  },
  {
   "cell_type": "code",
   "execution_count": null,
   "metadata": {},
   "outputs": [],
   "source": [
    "T = 20\n",
    "data_step = 10 #place where to extract data\n",
    "int_steps = 10\n",
    "M = data_step * int_steps + 1\n",
    "@show dt = T/(M-1)\n",
    "\n",
    "\n",
    "#v = zeros(n_fields,data_step+1 ,J...)\n",
    "τ = 1.0 #damping must be positive here\n",
    "par = (1.0, 1.0, τ) # (a, b, τ)\n",
    "#par_F = (x,y,z,dxu,dyu,dzu,Dx,Dy,Dz,D2x,D2y,D2z,d2,dx,ρ,J, par)\n",
    "dxu_x = zeros(2,n_fields,J[2],J[3]); dyu_x = copy(dxu_x); dzu_x = copy(dxu_x)\n",
    "dxu_y = zeros(2,n_fields,J[1],J[3]); dyu_y = copy(dxu_y); dzu_y = copy(dxu_y)\n",
    "dxu_z = zeros(2,n_fields,J[1],J[2]); dyu_z = copy(dxu_z); dzu_z = copy(dxu_z)\n",
    "coors = (x,y,z)\n",
    "boundary_derivs = (dxu_x,dyu_x,dzu_x,dxu_y,dyu_y,dzu_y,dxu_z,dyu_z,dzu_z)\n",
    "derivs = (Dx,Dy,Dz,D2x,D2y,D2z)\n",
    "ρ = 0.01 .*(π2,∇2,V)\n",
    "par_FCR = (coors,boundary_derivs,derivs,d2,dx,ρ,J,n_fields,par)\n",
    "norms = zeros(n_fields,M);\n",
    "\n"
   ]
  },
  {
   "cell_type": "code",
   "execution_count": null,
   "metadata": {},
   "outputs": [],
   "source": [
    "@show size(u);\n",
    "@show size(π2)\n",
    "@show norm(π2)/prod(J)\n",
    "\n",
    "run_name = data_name * \"_try_T$(T)\"\n",
    "full_outputs = true\n",
    "file_name_out = \"Results/\" * run_name * \".jld2\"#* \".h5\"\n",
    "run_pars = Dict(\"run_name\" => run_name, \"par_grid\" => (Box_x, J,n_fields), \"par_evolv\" => (T,data_step,int_steps,dt))\n",
    "save(file_name_out, run_pars)"
   ]
  },
  {
   "cell_type": "code",
   "execution_count": null,
   "metadata": {},
   "outputs": [],
   "source": [
    "u[1,:,:,:] .= 1.0\n",
    "u[2,:,:,:] .= 0.0\n",
    "u[3,:,:,:] .= 1.0\n",
    "u[4,:,:,:] .= 0.0\n",
    "\n",
    "norms[:,1] = get_norms(u)\n",
    "\n",
    "global t = 0.0\n",
    "for m in 1:data_step-1\n",
    "    for mm in 1:int_steps\n",
    "        RK4_Step!(FCR_Full,u,t,dt,par_FCR)\n",
    "        global t = t + dt\n",
    "    end    \n",
    "    norms[:,m+1] = get_norms(u)\n",
    "    println(\"t = $t, m = $m, norm u_1 = $(norms[1,m]) norm u_2 = $(norms[2,m]), norm u_3 = $(norms[3,m]) norm u_4 = $(norms[4,m])\")\n",
    "    #v[:,m+1,:,:,:] = u[:,:,:,:]\n",
    "    if full_outputs\n",
    "        local tiempo = @sprintf(\"%05d\", m)\n",
    "        field_name = \"u\"\n",
    "        file = jldopen(file_name_out, \"a+\") do file\n",
    "            file[field_name * \"/u_$(tiempo)\"] = u\n",
    "      end\n",
    "    end\n",
    "end"
   ]
  },
  {
   "cell_type": "code",
   "execution_count": null,
   "metadata": {},
   "outputs": [],
   "source": [
    "norms"
   ]
  },
  {
   "cell_type": "code",
   "execution_count": null,
   "metadata": {},
   "outputs": [],
   "source": [
    "plot(norms[1,1:end-1].-norms[1,1])\n",
    "plot!(norms[2,1:end-1])\n",
    "plot!(norms[3,1:end-1] .-norms[3,1])\n",
    "plot!(norms[4,1:end-1])"
   ]
  },
  {
   "cell_type": "code",
   "execution_count": null,
   "metadata": {},
   "outputs": [],
   "source": [
    "anim = @animate for i ∈ 1:1:M\n",
    "    surface(v[1,i,:,:,(J[3]+1)÷2],aspectratio=1)\n",
    "end\n",
    "\n",
    "gif(anim, \"carlos_phi_e.gif\", fps = 10)"
   ]
  }
 ],
 "metadata": {
  "kernelspec": {
   "display_name": "Julia 1.9.4",
   "language": "julia",
   "name": "julia-1.9"
  },
  "language_info": {
   "file_extension": ".jl",
   "mimetype": "application/julia",
   "name": "julia",
   "version": "1.9.4"
  }
 },
 "nbformat": 4,
 "nbformat_minor": 2
}
