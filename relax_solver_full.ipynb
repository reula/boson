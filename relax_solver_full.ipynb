{
 "cells": [
  {
   "cell_type": "markdown",
   "metadata": {},
   "source": [
    "## Initial data solver using relaxation\n",
    "\n",
    "We try to solve the time symmetric initial data when given a $ρ$ field on a cube. \n",
    "We put Robin boudary conditions.\n",
    "\n",
    "Thus we shall be solving:\n",
    "\n",
    "$$\n",
    "ψ_{tt} = \\Delta ψ + ψ^5 ρ \\;\\;\\;\\; \\vec{x}\\cdot \\nabla ψ + (1-ψ) = 0\n",
    "$$\n",
    "\n",
    "Using second order finite differences inside the domain and first order at the boudaries we get for the boundary values (which are not evolved):\n",
    "\n",
    "For boundary conditions we shall put an outgoing wave, but taking into account that we want a radial wave and that something which at first order should be a monopolar field.\n",
    "\n",
    "$$\n",
    "ψ_t = (x^i\\partial_i ψ - (ψ - ψ_0))/r\n",
    "$$ \n",
    "Same for the time derivative, but that part should be unnessary becuse this should decay to a static solution.\n",
    "\n",
    "The solution we are seeking is of the form of an outgoing wave plus a static solution, the one we are after. It well behave as a monopole at large distance, plus a constant.\n",
    "\n",
    "$$\n",
    "\\psi(t,x) =\\frac{f(t-r) + M}{r} + \\psi_0\n",
    "$$\n",
    "\n",
    "Thus we have, \n",
    "$$\n",
    "\\partial_t \\psi = \\frac{f'(t-r)}{r}, \\;\\;\\;\\;\\; \\frac{\\vec{x}\\cdot \\nabla \\psi}{r} = -f'/r - f/r^2 - M/r^2 \n",
    "$$\n",
    "\n",
    "therefore asymtotically we should have, \n",
    "$$ \n",
    "\\partial_t \\psi = - \\frac{\\vec{x}\\cdot \\nabla \\psi}{r} - (f+M)/r^2 = - \\frac{\\vec{x}\\cdot ∇\\psi}{r} - (\\psi - \\psi_0)/r \n",
    "$$"
   ]
  },
  {
   "cell_type": "code",
   "execution_count": 1,
   "metadata": {},
   "outputs": [],
   "source": [
    "using SummationByPartsOperators\n",
    "using Plots\n",
    "using Revise\n",
    "using Distributions\n",
    "using FFTW\n",
    "using LinearAlgebra\n",
    "using Base.Threads\n",
    "using HDF5\n",
    " \n",
    "includet(\"../PIC/PIC-1D/aux_functions/aux_functions.jl\")\n",
    "includet(\"local_aux_functions.jl\")\n",
    "\n"
   ]
  },
  {
   "cell_type": "markdown",
   "metadata": {},
   "source": [
    "First run inidat.ipynb and get the data\n"
   ]
  },
  {
   "cell_type": "code",
   "execution_count": 3,
   "metadata": {},
   "outputs": [
    {
     "data": {
      "text/plain": [
       "🗂️ HDF5.File: (read-only) data_3d_h_step_cut.h5\n",
       "├─ 🔢 coord0\n",
       "├─ 🔢 coord1\n",
       "├─ 🔢 coord2\n",
       "├─ 🔢 nvars\n",
       "├─ 🔢 var0\n",
       "├─ 🔢 var1\n",
       "├─ 🔢 var2\n",
       "├─ 🔢 var3\n",
       "├─ 🔢 var4\n",
       "├─ 🔢 var5\n",
       "└─ 🔢 var6"
      ]
     },
     "execution_count": 3,
     "metadata": {},
     "output_type": "execute_result"
    },
    {
     "name": "stderr",
     "output_type": "stream",
     "text": [
      "WARNING: both SPMD and Plots export \"scatter\"; uses of it in module Main must be qualified\n"
     ]
    }
   ],
   "source": [
    "data = h5open(\"data_3d_h_step_cut.h5\", \"r\")"
   ]
  },
  {
   "cell_type": "code",
   "execution_count": 2,
   "metadata": {},
   "outputs": [],
   "source": [
    "J_in = size(data[\"var6\"])\n",
    "Box_x_in = [read(data[\"coord0\"])[1], read(data[\"coord0\"])[end],read(data[\"coord1\"])[1], read(data[\"coord1\"])[end],read(data[\"coord2\"])[1], read(data[\"coord2\"])[end]];\n",
    "J = (3).*J_in\n",
    "Box_x = 3*Box_x_in;\n",
    "dx = differentials(Box_x,J)\n",
    "V = volume(Box_x)\n",
    "m = 1\n",
    "m2 = m^2\n",
    "\n",
    "\n",
    "Dx = derivative_operator(MattssonNordström2004(), derivative_order = 1, accuracy_order = 2, xmin = Box_x[1], xmax = Box_x[2], N=J[1])\n",
    "Dy = derivative_operator(MattssonNordström2004(), derivative_order = 1, accuracy_order = 2, xmin = Box_x[3], xmax = Box_x[4], N=J[2])\n",
    "Dz = derivative_operator(MattssonNordström2004(), derivative_order = 1, accuracy_order = 2, xmin = Box_x[5], xmax = Box_x[6], N=J[3])\n",
    "D2x = derivative_operator(MattssonNordström2004(), derivative_order = 2, accuracy_order = 2, xmin = Box_x[1], xmax = Box_x[2], N=J[1])\n",
    "D2y = derivative_operator(MattssonNordström2004(), derivative_order = 2, accuracy_order = 2, xmin = Box_x[3], xmax = Box_x[4], N=J[2])\n",
    "D2z = derivative_operator(MattssonNordström2004(), derivative_order = 2, accuracy_order = 2, xmin = Box_x[5], xmax = Box_x[6], N=J[3])\n",
    "x = collect(SummationByPartsOperators.grid(Dx))\n",
    "y = collect(SummationByPartsOperators.grid(Dy))\n",
    "z = collect(SummationByPartsOperators.grid(Dz));"
   ]
  },
  {
   "cell_type": "code",
   "execution_count": 5,
   "metadata": {},
   "outputs": [
    {
     "ename": "",
     "evalue": "",
     "output_type": "error",
     "traceback": [
      "\u001b[1;31mThe Kernel crashed while executing code in the current cell or a previous cell. \n",
      "\u001b[1;31mPlease review the code in the cell(s) to identify a possible cause of the failure. \n",
      "\u001b[1;31mClick <a href='https://aka.ms/vscodeJupyterKernelCrash'>here</a> for more info. \n",
      "\u001b[1;31mView Jupyter <a href='command:jupyter.viewOutput'>log</a> for further details."
     ]
    }
   ],
   "source": [
    "π2_in = read(data[\"var4\"])\n",
    "#heatmap(x,y,π2[:,:,J[3]÷2], aspectratio=1)\n",
    "∇2_in = read(data[\"var5\"])\n",
    "#heatmap(x,y,∇2[:,:,J[3]÷2], aspectratio=1)\n",
    "V_in = read(data[\"var6\"])\n",
    "#heatmap(x,y,V[:,:,J[3]÷2], aspectratio=1)\n",
    "\n",
    "π2 = zeros(J...); ∇2 = copy(π2); V = copy(π2);\n",
    "π2[J_in[1]+1:2J_in[1],J_in[2]+1:2J_in[2],J_in[3]+1,2J_in[3]] = π2_in\n",
    "∇2[J_in[1]+1:2J_in[1],J_in[2]+1:2J_in[2],J_in[3]+1,2J_in[3]] = ∇2_in\n",
    "V[J_in[1]+1:2J_in[1],J_in[2]+1:2J_in[2],J_in[3]+1,2J_in[3]] = V_in\n",
    "\n",
    "\"\"\"\n",
    "Completes with zeros a centered integration region\n",
    "\"\"\"\n",
    "function enlarge_box(f,Box_x_in, Box_x, J_in, J)\n",
    "    out = zeros(J...)\n",
    "    for i in 1:J_in[1]\n",
    "        for j in 1:J_in[2]\n",
    "            for k in 1:J_in[3]\n",
    "                out[J_in[1]+i,J_in[2]+j,J_in[3]+k] = f[i,j,k]\n",
    "            end\n",
    "        end\n",
    "    end\n",
    "    return out[:,:,:]\n",
    "end\n",
    "\n",
    "#heatmap(π2[:,:,(J[3]+1)÷2])"
   ]
  },
  {
   "cell_type": "code",
   "execution_count": 5,
   "metadata": {},
   "outputs": [],
   "source": [
    "n_fields = 4 # the field and its derivative \n",
    "u = zeros(n_fields,J...)\n",
    "du = similar(u)\n",
    "d2 = zeros(2,J...);\n",
    "#dxu = similar(u);\n",
    "#dyu = similar(u);\n",
    "#dzu = similar(u);"
   ]
  },
  {
   "cell_type": "code",
   "execution_count": 7,
   "metadata": {},
   "outputs": [
    {
     "name": "stdout",
     "output_type": "stream",
     "text": [
      "dt = T / (M - 1) = 0.5\n"
     ]
    },
    {
     "data": {
      "text/plain": [
       "4-element Vector{Float64}:\n",
       " 0.0\n",
       " 0.0\n",
       " 0.0\n",
       " 0.0"
      ]
     },
     "execution_count": 7,
     "metadata": {},
     "output_type": "execute_result"
    }
   ],
   "source": [
    "T = 1000.0\n",
    "M = 2001\n",
    "@show dt = T/(M-1)\n",
    "t = 0.0\n",
    "\n",
    "#v = zeros(n_fields,M+1,J...)\n",
    "τ = 1.0 #damping must be positive here\n",
    "par = (1.0, 1.0, τ) # (a, b, τ)\n",
    "#par_F = (x,y,z,dxu,dyu,dzu,Dx,Dy,Dz,D2x,D2y,D2z,d2,dx,ρ,J, par)\n",
    "dxu_x = zeros(2,n_fields,J[2],J[3]); dyu_x = copy(dxu_x); dzu_x = copy(dxu_x)\n",
    "dxu_y = zeros(2,n_fields,J[1],J[3]); dyu_y = copy(dxu_y); dzu_y = copy(dxu_y)\n",
    "dxu_z = zeros(2,n_fields,J[1],J[2]); dyu_z = copy(dxu_z); dzu_z = copy(dxu_z)\n",
    "coors = (x,y,z)\n",
    "boundary_derivs = (dxu_x,dyu_x,dzu_x,dxu_y,dyu_y,dzu_y,dxu_z,dyu_z,dzu_z)\n",
    "derivs = (Dx,Dy,Dz,D2x,D2y,D2z)\n",
    "ρ = (π2,∇2,V)\n",
    "par_FCR = (coors,boundary_derivs,derivs,d2,dx,ρ,J,n_fields,par)\n",
    "norms = zeros(n_fields,M)\n",
    "\n",
    "norms[:,1] = [norm(u[1,:,:,:]),norm(u[2,:,:,:]),norm(u[3,:,:,:]),norm(u[4,:,:,:])]"
   ]
  },
  {
   "cell_type": "code",
   "execution_count": 10,
   "metadata": {},
   "outputs": [
    {
     "ename": "LoadError",
     "evalue": "InterruptException:",
     "output_type": "error",
     "traceback": [
      "InterruptException:",
      "",
      "Stacktrace:",
      " [1] to_indices",
      "   @ ./indices.jl:356 [inlined]",
      " [2] to_indices",
      "   @ ./indices.jl:344 [inlined]",
      " [3] setindex!(::Array{Float64, 4}, ::Vector{Float64}, ::Function, ::Int64, ::Int64, ::Vararg{Int64})",
      "   @ Base ./abstractarray.jl:1396",
      " [4] FCR_Full(u::Array{Float64, 4}, t::Float64, p::Tuple{Tuple{Vector{Float64}, Vector{Float64}, Vector{Float64}}, NTuple{9, Array{Float64, 4}}, Tuple{DerivativeOperator{Float64, Tuple{SummationByPartsOperators.DerivativeCoefficientRow{Float64, 1, 2}}, Tuple{SummationByPartsOperators.DerivativeCoefficientRow{Float64, 1, 2}}, Tuple{}, Tuple{}, 1, 1, 1, 1, FastMode, MattssonNordström2004, StepRangeLen{Float64, Base.TwicePrecision{Float64}, Base.TwicePrecision{Float64}, Int64}}, DerivativeOperator{Float64, Tuple{SummationByPartsOperators.DerivativeCoefficientRow{Float64, 1, 2}}, Tuple{SummationByPartsOperators.DerivativeCoefficientRow{Float64, 1, 2}}, Tuple{}, Tuple{}, 1, 1, 1, 1, FastMode, MattssonNordström2004, StepRangeLen{Float64, Base.TwicePrecision{Float64}, Base.TwicePrecision{Float64}, Int64}}, DerivativeOperator{Float64, Tuple{SummationByPartsOperators.DerivativeCoefficientRow{Float64, 1, 2}}, Tuple{SummationByPartsOperators.DerivativeCoefficientRow{Float64, 1, 2}}, Tuple{}, Tuple{}, 1, 1, 1, 1, FastMode, MattssonNordström2004, StepRangeLen{Float64, Base.TwicePrecision{Float64}, Base.TwicePrecision{Float64}, Int64}}, DerivativeOperator{Float64, Tuple{SummationByPartsOperators.DerivativeCoefficientRow{Float64, 1, 3}}, Tuple{SummationByPartsOperators.DerivativeCoefficientRow{Float64, 1, 3}}, Tuple{SummationByPartsOperators.DerivativeCoefficientRow{Float64, 1, 3}}, Tuple{SummationByPartsOperators.DerivativeCoefficientRow{Float64, 1, 3}}, 1, 1, 1, 1, FastMode, MattssonNordström2004, StepRangeLen{Float64, Base.TwicePrecision{Float64}, Base.TwicePrecision{Float64}, Int64}}, DerivativeOperator{Float64, Tuple{SummationByPartsOperators.DerivativeCoefficientRow{Float64, 1, 3}}, Tuple{SummationByPartsOperators.DerivativeCoefficientRow{Float64, 1, 3}}, Tuple{SummationByPartsOperators.DerivativeCoefficientRow{Float64, 1, 3}}, Tuple{SummationByPartsOperators.DerivativeCoefficientRow{Float64, 1, 3}}, 1, 1, 1, 1, FastMode, MattssonNordström2004, StepRangeLen{Float64, Base.TwicePrecision{Float64}, Base.TwicePrecision{Float64}, Int64}}, DerivativeOperator{Float64, Tuple{SummationByPartsOperators.DerivativeCoefficientRow{Float64, 1, 3}}, Tuple{SummationByPartsOperators.DerivativeCoefficientRow{Float64, 1, 3}}, Tuple{SummationByPartsOperators.DerivativeCoefficientRow{Float64, 1, 3}}, Tuple{SummationByPartsOperators.DerivativeCoefficientRow{Float64, 1, 3}}, 1, 1, 1, 1, FastMode, MattssonNordström2004, StepRangeLen{Float64, Base.TwicePrecision{Float64}, Base.TwicePrecision{Float64}, Int64}}}, Array{Float64, 4}, Vector{Float64}, Tuple{Array{Float64, 3}, Array{Float64, 3}, Array{Float64, 3}}, Tuple{Int64, Int64, Int64}, Int64, Tuple{Float64, Float64, Float64}})",
      "   @ Main ~/Julia/boson/local_aux_functions.jl:727",
      " [5] RK4_Step!(f::typeof(FCR_Full), y0::Array{Float64, 4}, t0::Float64, h::Float64, p::Tuple{Tuple{Vector{Float64}, Vector{Float64}, Vector{Float64}}, NTuple{9, Array{Float64, 4}}, Tuple{DerivativeOperator{Float64, Tuple{SummationByPartsOperators.DerivativeCoefficientRow{Float64, 1, 2}}, Tuple{SummationByPartsOperators.DerivativeCoefficientRow{Float64, 1, 2}}, Tuple{}, Tuple{}, 1, 1, 1, 1, FastMode, MattssonNordström2004, StepRangeLen{Float64, Base.TwicePrecision{Float64}, Base.TwicePrecision{Float64}, Int64}}, DerivativeOperator{Float64, Tuple{SummationByPartsOperators.DerivativeCoefficientRow{Float64, 1, 2}}, Tuple{SummationByPartsOperators.DerivativeCoefficientRow{Float64, 1, 2}}, Tuple{}, Tuple{}, 1, 1, 1, 1, FastMode, MattssonNordström2004, StepRangeLen{Float64, Base.TwicePrecision{Float64}, Base.TwicePrecision{Float64}, Int64}}, DerivativeOperator{Float64, Tuple{SummationByPartsOperators.DerivativeCoefficientRow{Float64, 1, 2}}, Tuple{SummationByPartsOperators.DerivativeCoefficientRow{Float64, 1, 2}}, Tuple{}, Tuple{}, 1, 1, 1, 1, FastMode, MattssonNordström2004, StepRangeLen{Float64, Base.TwicePrecision{Float64}, Base.TwicePrecision{Float64}, Int64}}, DerivativeOperator{Float64, Tuple{SummationByPartsOperators.DerivativeCoefficientRow{Float64, 1, 3}}, Tuple{SummationByPartsOperators.DerivativeCoefficientRow{Float64, 1, 3}}, Tuple{SummationByPartsOperators.DerivativeCoefficientRow{Float64, 1, 3}}, Tuple{SummationByPartsOperators.DerivativeCoefficientRow{Float64, 1, 3}}, 1, 1, 1, 1, FastMode, MattssonNordström2004, StepRangeLen{Float64, Base.TwicePrecision{Float64}, Base.TwicePrecision{Float64}, Int64}}, DerivativeOperator{Float64, Tuple{SummationByPartsOperators.DerivativeCoefficientRow{Float64, 1, 3}}, Tuple{SummationByPartsOperators.DerivativeCoefficientRow{Float64, 1, 3}}, Tuple{SummationByPartsOperators.DerivativeCoefficientRow{Float64, 1, 3}}, Tuple{SummationByPartsOperators.DerivativeCoefficientRow{Float64, 1, 3}}, 1, 1, 1, 1, FastMode, MattssonNordström2004, StepRangeLen{Float64, Base.TwicePrecision{Float64}, Base.TwicePrecision{Float64}, Int64}}, DerivativeOperator{Float64, Tuple{SummationByPartsOperators.DerivativeCoefficientRow{Float64, 1, 3}}, Tuple{SummationByPartsOperators.DerivativeCoefficientRow{Float64, 1, 3}}, Tuple{SummationByPartsOperators.DerivativeCoefficientRow{Float64, 1, 3}}, Tuple{SummationByPartsOperators.DerivativeCoefficientRow{Float64, 1, 3}}, 1, 1, 1, 1, FastMode, MattssonNordström2004, StepRangeLen{Float64, Base.TwicePrecision{Float64}, Base.TwicePrecision{Float64}, Int64}}}, Array{Float64, 4}, Vector{Float64}, Tuple{Array{Float64, 3}, Array{Float64, 3}, Array{Float64, 3}}, Tuple{Int64, Int64, Int64}, Int64, Tuple{Float64, Float64, Float64}})",
      "   @ Main ~/Julia/PIC/PIC-1D/aux_functions/aux_functions_RHS.jl:305",
      " [6] top-level scope",
      "   @ ./In[10]:2"
     ]
    }
   ],
   "source": [
    "for m in 2:M\n",
    "    RK4_Step!(FCR_Full,u,t,dt,par_FCR)\n",
    "    t = t + dt\n",
    "    norms[:,m] = [norm(u[1,:,:,:]),norm(u[2,:,:,:]),norm(u[3,:,:,:]),norm(u[4,:,:,:])]\n",
    "    if mod(m-1,10)==0\n",
    "        println(\"t = $t, norm u_1 = $(norms[1,m]) norm u_2 = $(norms[2,m]), norm u_3 = $(norms[3,m]) norm u_4 = $(norms[4,m])\")\n",
    "    end\n",
    "    #v[:,m,:,:,:] = u[:,:,:,:]\n",
    "    \n",
    "end"
   ]
  }
 ],
 "metadata": {
  "kernelspec": {
   "display_name": "Julia 1.10.4",
   "language": "julia",
   "name": "julia-1.10"
  },
  "language_info": {
   "file_extension": ".jl",
   "mimetype": "application/julia",
   "name": "julia",
   "version": "1.10.4"
  }
 },
 "nbformat": 4,
 "nbformat_minor": 2
}
