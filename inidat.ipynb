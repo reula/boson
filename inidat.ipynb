{
 "cells": [
  {
   "cell_type": "markdown",
   "metadata": {},
   "source": [
    "##  Study on how to give initial data. \n",
    "\n",
    "We want to have a very isotropic data with a given frequency, or perhaps a distribution (thermal?) for $phi$ and its time derivative. Here\n",
    "We do in 2dim.\n",
    "\n",
    "We first create a distribution of values on Fourier space both for $ϕ $ and its time derivative, $\\phi_t$.\n",
    "I think we need a thermal distribution, that is we fix a temperature and put particles at that temperature.\n",
    "That is we shall use the $\\omega = |k|$ rule, we take positive so as to have particles and not antiparticles.\n",
    "\n"
   ]
  },
  {
   "cell_type": "code",
   "execution_count": 1,
   "metadata": {},
   "outputs": [],
   "source": [
    "using Plots\n",
    "using Distributions\n",
    "using FFTW\n",
    "using LinearAlgebra\n",
    "using Revise\n",
    "using Base.Threads\n",
    "using HDF5"
   ]
  },
  {
   "cell_type": "code",
   "execution_count": 2,
   "metadata": {},
   "outputs": [],
   "source": [
    "includet(\"../PIC/PIC-1D/aux_functions/inidat_aux_functions.jl\")\n",
    "includet(\"../PIC/PIC-1D/aux_functions/aux_functions.jl\")\n",
    "includet(\"local_aux_functions.jl\")"
   ]
  },
  {
   "cell_type": "markdown",
   "metadata": {},
   "source": [
    "We first look at the scheme for a distribution which resembles a delta function $k$ in Fourier space.\n",
    "It gives a rather homogeneous distribution is space."
   ]
  },
  {
   "cell_type": "code",
   "execution_count": 3,
   "metadata": {},
   "outputs": [
    {
     "data": {
      "text/plain": [
       "0.5"
      ]
     },
     "metadata": {},
     "output_type": "display_data"
    }
   ],
   "source": [
    "#J = (501,501,501)\n",
    "J = (440,440,440)\n",
    "Box_x = [-220.0, 220.0, -220.0, 220.0, -220.0, 220.0]\n",
    "dx = differentials(Box_x,J)\n",
    "κ = 2π./(Box_x[2:2:end] - Box_x[1:2:end-1])\n",
    "V = volume(Box_x)\n",
    "ϕ = Array{ComplexF64}(undef,J...)\n",
    "ϕ_t = copy(ϕ)\n",
    "#g = copy(ϕ)\n",
    "#g_t = copy(ϕ)\n",
    "#g_p = copy(ϕ)\n",
    "\n",
    "m = 1\n",
    "m2 = m^2\n",
    "\n",
    "N = 1000 #number of particles\n",
    " \n",
    "# k0= 500; δ = 1000 # para J=2001\n",
    "k0 = 1; δ = 0.5\n"
   ]
  },
  {
   "cell_type": "code",
   "execution_count": 4,
   "metadata": {},
   "outputs": [
    {
     "data": {
      "text/plain": [
       "3-element Vector{Float64}:\n",
       " 1.0\n",
       " 1.0\n",
       " 1.0"
      ]
     },
     "metadata": {},
     "output_type": "display_data"
    }
   ],
   "source": [
    "dx"
   ]
  },
  {
   "cell_type": "code",
   "execution_count": 5,
   "metadata": {},
   "outputs": [
    {
     "data": {
      "text/plain": [
       "(ComplexF64[-0.3437101406845707 + 0.6905209896965536im 0.35640549370295205 - 0.6840105046060102im … -0.13812741020694563 + 0.7587056221834224im -0.5819094125149531 + 0.5062377721777741im; -0.3387108685907145 - 0.6929431389742867im -0.054482983515402414 + 0.7693284199466797im … -0.7711149939362868 + 0.005872918049120207im 0.768955370772682 + 0.05951681266870285im; … ; -0.6548555409587816 + 0.40728076686579906im -0.45520958846138626 + 0.6224444196975233im … 0.7650510976949515 + 0.09574978502678952im 0.16565107136920074 + 0.7531351456372269im; 0.7327970527053634 + 0.2406319303403991im 0.6990892747640061 - 0.3257434560207316im … -0.7475916794173357 - 0.18910184003795075im -0.30135928685753594 - 0.7099416831367994im;;; -0.6962201154694498 + 0.3319228783448343im -0.08554672811562826 + 0.7664961647256332im … -0.4956745967456205 + 0.5907279569995293im -0.179454426043926 - 0.7500871430731495im; 0.4711992319447547 - 0.6105783299831953im -0.5423711011834947 + 0.5482769256904862im … -0.34101672656332965 - 0.691592262975728im 0.13725009151417417 - 0.758904744367143im; … ; -0.30931579809670445 - 0.7063827305983421im -0.14733970463512647 - 0.7568905320070339im … -0.7432113817650463 - 0.2050549727804167im 0.13373864559449236 + 0.7594117728073537im; 0.7497013880752722 + 0.18105922221307721im -0.3348669790418561 - 0.6947216025077878im … -0.37565615798068386 - 0.6734053140383202im 0.6618452177376842 + 0.39589759585196405im;;; 0.6297184355001096 + 0.4451607513859528im -0.7361060126908735 + 0.22978416638253127im … 0.7574527654517236 + 0.1440017761225986im -0.6604379951990299 + 0.39808853228554236im; -0.05720419910251885 - 0.7690126817191058im -0.7619930047112595 - 0.11814790211833434im … -0.3450238157101941 - 0.6894702795914156im 0.5540074552192201 - 0.5363469078547773im; … ; 0.39289982909725807 + 0.6634010308344962im 0.6537606434490508 + 0.40866578144514343im … 0.6759241360549105 - 0.3706155180475937im 0.7360047605783899 - 0.22958155904391292im; 0.7622449836334542 + 0.11677075817774954im -0.7015473462723592 - 0.3200368524749418im … -0.13768792778702635 - 0.7585860098820709im -0.2757560837448228 + 0.7201047481315308im;;; … ;;; 0.10433089660839275 + 0.7638885807890936im 0.46760169918602607 + 0.612942791511138im … 0.7604482494973027 - 0.12604495233479493im -0.07308356038195227 + 0.7674692228024669im; -0.11674639086942762 - 0.7620501918942663im -0.01781628378170571 + 0.770696002415905im … 0.4278507217221159 - 0.6411335420800603im -0.1849714719385287 - 0.7483817893806214im; … ; -0.6802182282456545 - 0.36259072262667646im 0.48408820765023286 + 0.5998058569839451im … 0.17925982985506184 + 0.7495286844517494im 0.26156505683436543 + 0.7250463294862579im; 0.5913247549195857 + 0.4946566980911278im -0.7485743469227029 + 0.18419064915705047im … 0.634537697605621 + 0.4375732729219387im 0.7614363260494069 - 0.12043450286370634im;;; 0.5058445967470327 - 0.5820950493905988im -0.7703541096674275 + 0.03474724101675624im … 0.572005622734301 - 0.5169920415028371im 0.07367602139208562 + 0.7676097113192383im; 0.5899260905664362 + 0.49662866682137086im -0.680441329969902 + 0.36275592686081376im … 0.728063517619108 - 0.25364190142635623im 0.22416202670840135 + 0.7377964839885313im; … ; -0.5675724838990819 + 0.5218550363247949im 0.49284056588369807 - 0.5928902735469044im … -0.6924542612757768 - 0.33872761322378425im -0.7638773579572921 - 0.10441303485328747im; 0.48401619217778835 - 0.6003175415973495im 0.7470547029082193 + 0.19105375386673085im … -0.1984741333042558 - 0.7449957840526422im 0.3355635046434311 + 0.6942545645188622im;;; 0.22568048127949894 - 0.7375388577712144im -0.4541992340790492 + 0.6233278984550583im … -0.31355547624537344 + 0.7045110278457736im 0.19698009356663634 + 0.745676508929223im; -0.559506327525249 + 0.5308363991754927im -0.2532985996389268 + 0.7284324389156254im … -0.7347751927476754 - 0.23387535596225936im 0.6360155472074477 + 0.43618599513741685im; … ; -0.6761645382368558 + 0.37074835437357073im -0.06791686147091526 - 0.7681012732262573im … -0.38421578554265495 - 0.6684227180362194im -0.6790396851140174 + 0.3653729218813475im; 0.34587249871556974 - 0.6893524699764573im 0.7589453675898306 + 0.1370252810890917im … -0.3179421776444121 - 0.7024991371372539im -0.6815604999905407 + 0.36090065599310256im], ComplexF64[-0.9765441487321584 - 0.4860795424812844im 0.9673862428681649 + 0.5040591762395029im … -1.0731905115128313 - 0.19538147824360966im -0.7159648179775978 - 0.8229861332125443im; 0.9800195394948292 - 0.47903392181574533im -1.0881055989951076 - 0.07705842898300351im … -0.008307676607626891 - 1.0907991467503144im -0.08417806416620736 + 1.0875779740115465im; … ; -0.5760994010617408 - 0.9262943787685068im -0.8804936322657629 - 0.6439276043013483im … -0.1354658360128608 + 1.082386623769514im -1.0653653225638597 + 0.23432568258778955im; -0.3403222866294958 + 1.0363843578832623im 0.46071777558502297 + 0.9887623209355314im … 0.2674985279554223 - 1.0575236799162053im 1.004111508625538 - 0.4262298373971214im;;; -0.4694337646012445 - 0.9846541203357319im -1.0840997769249736 - 0.12099367633497632im … -0.8356283518329349 - 0.7011683490109941im 1.0608915502805751 - 0.2538127549693052im; 0.8635761818416163 + 0.6664442768886882im -0.7754992222868423 - 0.7671458481112529im … 0.9783581857580249 - 0.48241792711516923im 1.0734174857082197 + 0.1941306194748128im; … ; 0.999230576340593 - 0.43755005581976203im 1.0707321168192665 - 0.2084335147080798im … 0.2901244843112107 - 1.0515415254021045im -1.074298779876841 + 0.18919283178006738im; -0.256082510839003 + 1.060345954716772im 0.9826349372119979 - 0.4736458341548074im … 0.9526300923141852 - 0.5314204580737343im -0.559969357276485 + 0.936133598880625im;;; -0.6296807095095303 + 0.8907378964170128im -0.3250466851219173 - 1.041276355504668im … -0.20373226931346894 + 1.0716365794812226im -0.5631256489146068 - 0.9342383526575718im; 1.0878252707516156 - 0.08091956720104745im 0.1671374498469007 - 1.077950309105436im … 0.9755052833006415 - 0.48816107822558524im 0.7587409747007866 + 0.7837243962975321im; … ; -0.938573128165716 + 0.5558707395852501im -0.5782056757256723 + 0.9249810768877649im … 0.5244498356847117 + 0.9564853192245606im 0.324826218656523 + 1.041345151097913im; -0.16518086716934036 + 1.0782518616552514im 0.45273883345060156 - 0.9924411039087503im … 1.0732945021451021 - 0.1948094138046929im -1.0186932570736837 - 0.39009722382303647im;;; … ;;; -1.0807969081051418 + 0.14761381870338602im -0.8672735766184079 + 0.6616255280302787im … 0.1783724986995519 + 1.0761482461768495im -1.0859182733244532 - 0.10340841214267117im; 1.0782507024146557 - 0.16518843417180357im -1.0905394282202332 - 0.025210147538595552im … 0.9073461805084697 + 0.6055036785672917im 1.0589646840300453 - 0.2617357331717945im; … ; 0.5131202162575014 - 0.9626107415303892im -0.848858338647071 + 0.6850921959496873im … -1.0609110817131484 + 0.25373110321769315im -1.0261013885136765 + 0.37017257668840875im; -0.6999065650059918 + 0.836685482307028im -0.2606308642909578 - 1.0592371540975982im … -0.6192632452050573 + 0.8980115974640481im 0.17041553800625228 + 1.0774369310766503im;;; 0.8233745283273493 + 0.7155181214641216im -0.049152540348783434 - 1.0897228197202682im … 0.73143515773516 + 0.8092678209781803im -1.0858406654370705 + 0.10422017714920105im; -0.7025179516419274 + 0.834494052502869im -0.5131711985172573 - 0.9625835636734051im … 0.35886828226223033 + 1.0301093883796937im -1.0437207993447468 + 0.3171099005975583im; … ; -0.7383152740602089 - 0.8029958605940811im 0.8388579049488718 + 0.697301377703085im … 0.4793259657148931 - 0.9798767344076068im 0.14773003298299692 - 1.0807810293471445im; 0.8491935279470653 + 0.6846766741569684im -0.2702734168989324 + 1.056817901135104im … 1.0540662083516221 - 0.28081350475549627im -0.9821243998224716 + 0.4747035488756962im;;; 1.0430906247551563 + 0.31917666673760525im -0.8816086325860814 - 0.642400198467848im … -0.9965829144723547 - 0.4435473938866265im -1.054653335777258 + 0.2786003183338687im; -0.7507925654602596 - 0.7913421002900277im -1.030316548806346 - 0.35827308759884674im … 0.3308508223736141 - 1.0394467419625375im -0.61695446981556 + 0.8995993431614053im; … ; -0.5244509467328404 - 0.9564847100256533im 1.0865913463500443 - 0.09607831221992108im … 0.9457258887343423 - 0.5436123061700029im -0.5168733198935299 - 0.9606007324711299im; 0.9749909958018668 + 0.4891874427528925im -0.193812640910251 + 1.0734749444049565im … 0.9937875509898567 - 0.449775610209595im -0.5104686426352717 - 0.9640194816122409im], ComplexF64[0.0 + 0.0im 0.0 + 0.0im … -0.0 + 0.0im -0.0 - 0.0im; -0.0 - 0.0im -0.0 + 0.0im … -0.0 - 0.0im 0.0 + 0.0im; … ; -0.0 - 0.0im -0.0 + 0.0im … 0.0 - 0.0im 0.0 - 0.0im; 0.0 + 0.0im 0.0 + 0.0im … 0.0 - 0.0im 0.0 + 0.0im;;; 0.0 - 0.0im 0.0 + 0.0im … -0.0 + 0.0im 0.0 + 0.0im; 0.0 + 0.0im 0.0 - 0.0im … 0.0 + 0.0im 0.0 - 0.0im; … ; -0.0 + 0.0im -0.0 + 0.0im … 0.0 - 0.0im 0.0 + 0.0im; -0.0 - 0.0im 0.0 + 0.0im … -0.0 - 0.0im 0.0 - 0.0im;;; 0.0 - 0.0im 0.0 - 0.0im … 0.0 + 0.0im 0.0 - 0.0im; -0.0 + 0.0im -0.0 - 0.0im … 0.0 + 0.0im 0.0 - 0.0im; … ; 0.0 + 0.0im 0.0 - 0.0im … 0.0 + 0.0im 0.0 - 0.0im; 0.0 - 0.0im -0.0 - 0.0im … 0.0 + 0.0im 0.0 + 0.0im;;; … ;;; 0.0 + 0.0im 0.0 + 0.0im … 0.0 + 0.0im 0.0 + 0.0im; -0.0 + 0.0im -0.0 + 0.0im … -0.0 - 0.0im -0.0 + 0.0im; … ; 0.0 + 0.0im -0.0 - 0.0im … 0.0 - 0.0im 0.0 + 0.0im; -0.0 + 0.0im -0.0 + 0.0im … 0.0 - 0.0im -0.0 + 0.0im;;; -0.0 - 0.0im -0.0 - 0.0im … 0.0 + 0.0im -0.0 - 0.0im; 0.0 - 0.0im -0.0 - 0.0im … -0.0 - 0.0im 0.0 + 0.0im; … ; 0.0 - 0.0im 0.0 + 0.0im … 0.0 + 0.0im 0.0 + 0.0im; 0.0 + 0.0im -0.0 - 0.0im … -0.0 - 0.0im -0.0 - 0.0im;;; -0.0 + 0.0im 0.0 - 0.0im … 0.0 + 0.0im -0.0 - 0.0im; 0.0 - 0.0im -0.0 - 0.0im … -0.0 + 0.0im 0.0 - 0.0im; … ; -0.0 - 0.0im -0.0 - 0.0im … -0.0 - 0.0im -0.0 + 0.0im; -0.0 + 0.0im 0.0 - 0.0im … -0.0 - 0.0im -0.0 + 0.0im])"
      ]
     },
     "metadata": {},
     "output_type": "display_data"
    }
   ],
   "source": [
    "k0 = 1.2; δ = 0.5 #coarse k0=0.5\n",
    "h_pars = k0\n",
    "f_pars = (k0, δ)\n",
    "#g, g_p = get_fourier_data(f,Box_x,J,1,f_pars)\n",
    "g, g_t, g_p = get_fourier_data(h,Box_x,J,1,h_pars)"
   ]
  },
  {
   "cell_type": "code",
   "execution_count": 6,
   "metadata": {},
   "outputs": [
    {
     "name": "stdout",
     "output_type": "stream",
     "text": [
      "sum(abs.(g)) * prod(κ) = 4.812550685855456\n"
     ]
    },
    {
     "data": {
      "text/plain": [
       "([0.0, 0.014279966607226332, 0.028559933214452663, 0.042839899821678996, 0.057119866428905326, 0.07139983303613166, 0.08567979964335799, 0.09995976625058432, 0.11423973285781065, 0.128519699465037  …  -0.14279966607226333, -0.128519699465037, -0.11423973285781065, -0.09995976625058432, -0.08567979964335799, -0.07139983303613166, -0.057119866428905326, -0.042839899821678996, -0.028559933214452663, -0.014279966607226332], [0.0, 0.014279966607226332, 0.028559933214452663, 0.042839899821678996, 0.057119866428905326, 0.07139983303613166, 0.08567979964335799, 0.09995976625058432, 0.11423973285781065, 0.128519699465037  …  -0.14279966607226333, -0.128519699465037, -0.11423973285781065, -0.09995976625058432, -0.08567979964335799, -0.07139983303613166, -0.057119866428905326, -0.042839899821678996, -0.028559933214452663, -0.014279966607226332], [0.0, 0.014279966607226332, 0.028559933214452663, 0.042839899821678996, 0.057119866428905326, 0.07139983303613166, 0.08567979964335799, 0.09995976625058432, 0.11423973285781065, 0.128519699465037  …  -0.14279966607226333, -0.128519699465037, -0.11423973285781065, -0.09995976625058432, -0.08567979964335799, -0.07139983303613166, -0.057119866428905326, -0.042839899821678996, -0.028559933214452663, -0.014279966607226332])"
      ]
     },
     "metadata": {},
     "output_type": "display_data"
    }
   ],
   "source": [
    "\n",
    "@show sum(abs.(g))*prod(κ)\n",
    "kx, ky, kz = get_frequencies(Box_x,J)\n",
    "#kx_p = sort(kx)\n",
    "#ky_p = sort(ky)\n",
    "#kz_p = sort(kz)\n",
    "#heatmap(ky_p,kx_p,real.(g_p[:,:,J[3]÷2]), aspectratio = 1)\n",
    "#surface(ky_p,kx_p,real.(g[:,:]), aspectratio = 1)\n"
   ]
  },
  {
   "cell_type": "code",
   "execution_count": 7,
   "metadata": {},
   "outputs": [],
   "source": [
    "#ifft(g,J...)\n",
    "p_i = plan_ifft(g; flags=FFTW.ESTIMATE, timelimit=Inf);"
   ]
  },
  {
   "cell_type": "code",
   "execution_count": 8,
   "metadata": {},
   "outputs": [],
   "source": [
    "ϕ = p_i*g*sqrt(prod(J));\n",
    "ϕ_t = p_i*g_t*sqrt(prod(J));\n"
   ]
  },
  {
   "cell_type": "code",
   "execution_count": 9,
   "metadata": {},
   "outputs": [
    {
     "data": {
      "text/plain": [
       "0.012938414659767918 + 0.0im"
      ]
     },
     "metadata": {},
     "output_type": "display_data"
    }
   ],
   "source": [
    "\n",
    "sum(ϕ.*conj.(ϕ))/prod(J)"
   ]
  },
  {
   "cell_type": "code",
   "execution_count": 10,
   "metadata": {},
   "outputs": [
    {
     "name": "stdout",
     "output_type": "stream",
     "text": [
      "norm(ϕ) = 1049.8313742585854\n",
      "mean(ϕ) = -3.724031371444064e-5 + 7.481658304142102e-5im\n",
      "var(ϕ) = 0.012938407827293623\n",
      "n(ϕ, ϕ_t, Box_x, J) = (1.802814846292287e6, 0.021163773082882784)\n"
     ]
    }
   ],
   "source": [
    "\n",
    "@show norm(ϕ)\n",
    "@show mean(ϕ)\n",
    "@show var(ϕ);\n",
    "@show n(ϕ,ϕ_t,Box_x,J);"
   ]
  },
  {
   "cell_type": "code",
   "execution_count": 11,
   "metadata": {},
   "outputs": [
    {
     "data": {
      "text/plain": [
       "0.3"
      ]
     },
     "metadata": {},
     "output_type": "display_data"
    }
   ],
   "source": [
    "p = 4 #polinomial order\n",
    "percent = 0.550 #0.6 goes up to the border in poli_cut use 0.550 for step_cut\n",
    "δ = 0.3 #less than 1!\n",
    "#x,y,z = get_coords(Box_x,J)\n",
    "#ϕ_h_cut = polinomial_cut(ϕ,Box_x,J,p,percent);\n",
    "#ϕ_h_step_cut = step_cut(ϕ,Box_x,J,p,percent,δ)\n",
    "#heatmap(x,y,real.(ϕ_h_step_cut[:,:,J[3]÷2]), aspectratio=1)\n",
    "#heatmap(real.(ϕ_h_cut[J[1]÷2,:,:]), aspectratio=1)\n",
    "#heatmap(real.(ϕ_h_cut[:,J[2]÷2,:]), aspectratio=1)\n",
    "#heatmap(imag.(ϕ[:,J[2]÷2,:]), aspectratio=1)\n",
    "#surface(x,y,real.(ϕ_h_step_cut[:,:,J[3]÷2]), aspectratio=1)\n",
    "#png(\"h_cut.png\")"
   ]
  },
  {
   "cell_type": "code",
   "execution_count": 12,
   "metadata": {},
   "outputs": [],
   "source": [
    "#ϕ_h_cut = polinomial_cut(ϕ,Box_x,J,8);\n",
    "#ϕ_t_h_cut = polinomial_cut(ϕ_t,Box_x,J,8);\n",
    "\n",
    "ϕ_h_cut = step_cut(ϕ,Box_x,J,p,percent,δ)\n",
    "ϕ_t_h_cut = step_cut(ϕ_t,Box_x,J,p,percent,δ);\n"
   ]
  },
  {
   "cell_type": "code",
   "execution_count": 22,
   "metadata": {},
   "outputs": [],
   "source": [
    "### Derivatives\n",
    "\n",
    "using SummationByPartsOperators\n",
    "\n",
    "\n",
    "\n",
    "#=\n",
    "h5file = h5open(\"derivatives_3d_h_step_cut.h5\", \"w\") do file\n",
    "    write(file, \"coord0\", x)\n",
    "    write(file, \"coord1\", y)\n",
    "    write(file, \"coord2\", z)\n",
    "    write(file, \"nvars\", [6])\n",
    "    write(file, \"var0\", real.(Dϕ[1,:,:,:]))\n",
    "    write(file, \"var1\", real.(Dϕ[2,:,:,:]))\n",
    "    write(file, \"var2\", real.(Dϕ[3,:,:,:]))\n",
    "    write(file, \"var3\", imag.(Dϕ[1,:,:,:]))\n",
    "    write(file, \"var4\", imag.(Dϕ[2,:,:,:,:]))\n",
    "    write(file, \"var5\", imag.(Dϕ[3,:,:,:,]))\n",
    "end\n",
    "=#\n",
    "\n"
   ]
  },
  {
   "cell_type": "code",
   "execution_count": 23,
   "metadata": {},
   "outputs": [],
   "source": [
    "ρ = get_rho(ϕ_h_cut,ϕ_t_h_cut,Box_x,J);"
   ]
  },
  {
   "cell_type": "code",
   "execution_count": null,
   "metadata": {},
   "outputs": [],
   "source": [
    "surface(x,y,ρ[:,:,J[3]÷2])"
   ]
  },
  {
   "cell_type": "code",
   "execution_count": 24,
   "metadata": {},
   "outputs": [],
   "source": [
    "\n",
    "N_fields = 5.0 #Int32(1)\n",
    "\n",
    "x, y, z = get_coords(Box_x,J)\n",
    "\n",
    "# Open an HDF5 file in write mode\n",
    "h5file = h5open(\"data_3d_h_step_cut_comp_XL.h5\", \"w\") do file\n",
    "    write(file, \"coord0\", x)\n",
    "    write(file, \"coord1\", y)\n",
    "    write(file, \"coord2\", z)\n",
    "    write(file, \"nvars\", [N_fields])\n",
    "    write(file, \"var0\", real.(ϕ_h_cut))\n",
    "    write(file, \"var1\", imag.(ϕ_h_cut))\n",
    "    write(file, \"var2\", real.(ϕ_t_h_cut))\n",
    "    write(file, \"var3\", imag.(ϕ_t_h_cut))\n",
    "    write(file, \"var4\", ρ)\n",
    "end"
   ]
  },
  {
   "cell_type": "code",
   "execution_count": null,
   "metadata": {},
   "outputs": [],
   "source": [
    "data = h5open(\"example_data_3d_h_step_cut.h5\", \"r\")"
   ]
  },
  {
   "cell_type": "code",
   "execution_count": null,
   "metadata": {},
   "outputs": [],
   "source": [
    "var0 = read(data[\"var0\"])\n",
    "heatmap(x,y,var0[:,:,J[3]÷2], aspectratio=1)\n",
    "#heatmap(x,y,real.(ϕ_h_cut)[:,:,J[3]÷2], aspectratio=1)"
   ]
  },
  {
   "cell_type": "code",
   "execution_count": null,
   "metadata": {},
   "outputs": [],
   "source": [
    "ddata = h5open(\"derivatives_3d_h_step_cut.h5\", \"r\")"
   ]
  },
  {
   "cell_type": "markdown",
   "metadata": {},
   "source": [
    "## Thermal distribution\n",
    "\n",
    "We use a relativistic thermal distribution. I guess we are setting the mass to 1 but I don't know the temperature.\n",
    "\n"
   ]
  },
  {
   "cell_type": "code",
   "execution_count": null,
   "metadata": {},
   "outputs": [],
   "source": [
    "θ = 1.0\n",
    "m = 1.0\n",
    "m2 = m^2\n",
    "norm_rel = 2.0\n",
    "p_max = 10*θ\n",
    "Box_p =(-p_max,p_max,-p_max,p_max,-p_max,p_max)\n",
    "#dp = differentials(Box_p,J)\n",
    "L = zeros(J...)\n",
    "L = Box_p[2:2:end] .- Box_p[1:2:end]\n",
    "f_p = f_p_rel \n",
    "f_p_max = f_p_rel_max\n",
    "par_f_p_1 = (θ,norm_rel,2)\n",
    "#norm_rel = int_mid_point_f(f_p, par_f_p_1, [20_000,20_000], Box_p)\n",
    "par_f_p = (θ, norm_rel,2)\n",
    "interval_p = Box_p\n"
   ]
  },
  {
   "cell_type": "code",
   "execution_count": null,
   "metadata": {},
   "outputs": [],
   "source": [
    "g_th = fill(0.0+im*0.0,J...)\n",
    "gt_th = fill(0.0+im*0.0,J...)\n",
    "\n",
    "N=100000\n",
    "plt = Plots.scatter(labels=false)\n",
    "for i in 1:N÷2\n",
    "    kr = random_sampling_from_distribution_D(f_p,f_p_max,par_f_p,interval_p)\n",
    "    j = get_index_p(kr,J,L)\n",
    "    jm = get_index_p(-kr,J,L)\n",
    "    if (abs(j[1]) > J[1] || abs(jm[1])) > J[1] || (abs(j[2]) > J[2] || abs(jm[2])) > J[2]\n",
    "        println(\"j = $j, jm = $jm, kr = $kr\")\n",
    "    end\n",
    "    #Plots.scatter!(plt,[j[1],jm[1]],[j[2],jm[2]],label=false)\n",
    "    factor = 1.0/sqrt(2*ω([kr[1],kr[2],kr[3]],m2))\n",
    "    phase_p = exp(im*rand()*2*π)\n",
    "    phase_m = exp(im*rand()*2*π)\n",
    "    g_th[j...] += phase_p*factor\n",
    "    g_th[jm...] += phase_m*factor\n",
    "    gt_th[j...] += im*phase_p/factor/2.0\n",
    "    gt_th[jm...] += 2.0*im*phase_m/factor/2.0\n",
    "end\n",
    "\n",
    "#heatmap(real.(g_th))\n",
    "surface(real.(g_th[30,:,:]))\n",
    "#plt"
   ]
  },
  {
   "cell_type": "code",
   "execution_count": 32,
   "metadata": {},
   "outputs": [],
   "source": [
    "ϕ_th = p_i*g_th*sqrt(prod(J));\n",
    "ϕt_th = p_i*gt_th*sqrt(prod(J));"
   ]
  },
  {
   "cell_type": "code",
   "execution_count": null,
   "metadata": {},
   "outputs": [],
   "source": [
    "#heatmap(imag.(ϕ_th))\n",
    "surface(imag.(ϕ_th[30,:,:]))"
   ]
  },
  {
   "cell_type": "code",
   "execution_count": null,
   "metadata": {},
   "outputs": [],
   "source": [
    "#@show sum(ϕ.*conj.(ϕ))*prod(dx)/V\n",
    "\n",
    "n(ϕ_th,ϕt_th,Box_x,J)"
   ]
  },
  {
   "cell_type": "markdown",
   "metadata": {},
   "source": [
    "### Localization\n",
    "\n"
   ]
  },
  {
   "cell_type": "code",
   "execution_count": null,
   "metadata": {},
   "outputs": [],
   "source": [
    "#ϕ_th_cut = polinomial_cut(ϕ_th,Box_x,J,8);\n",
    "#ϕ_th_step_cut = poli_step\n",
    "p = 4 #polinomial order\n",
    "percent = 0.550 #0.6 goes up to the border in poli_cut use 0.550 for step_cut\n",
    "δ = 0.3 #less than 1!\n",
    "#x,y,z = get_coords(Box_x,J)\n",
    "\n",
    "ϕ_th_step_cut = step_cut(ϕ_th,Box_x,J,p,percent,δ)\n",
    "ϕ_t_th_step_cut = step_cut(ϕt_th,Box_x,J,p,percent,δ)"
   ]
  },
  {
   "cell_type": "code",
   "execution_count": null,
   "metadata": {},
   "outputs": [],
   "source": [
    "surface(real.(ϕ_th_step_cut[101,:,:]) )"
   ]
  },
  {
   "cell_type": "markdown",
   "metadata": {},
   "source": [
    "### Data transfer"
   ]
  },
  {
   "cell_type": "code",
   "execution_count": 25,
   "metadata": {},
   "outputs": [],
   "source": [
    "N_fields = 4.0 #Int32(1)\n",
    "\n",
    "x, y, z = get_coords(Box_x,J)\n",
    "\n",
    "# Open an HDF5 file in write mode\n",
    "h5file = h5open(\"example_data_3d_gaussian.h5\", \"w\") do file\n",
    "    write(file, \"coord0\", x)\n",
    "    write(file, \"coord1\", y)\n",
    "    write(file, \"coord2\", z)\n",
    "    write(file, \"nvars\", [N_fields])\n",
    "    write(file, \"var0\", real.(ϕ))\n",
    "    write(file, \"var1\", imag.(ϕ))\n",
    "    write(file, \"var2\", real.(ϕ_t))\n",
    "    write(file, \"var3\", imag.(ϕ_t))\n",
    "end"
   ]
  }
 ],
 "metadata": {
  "kernelspec": {
   "display_name": "Julia 1.10.5",
   "language": "julia",
   "name": "julia-1.10"
  },
  "language_info": {
   "file_extension": ".jl",
   "mimetype": "application/julia",
   "name": "julia",
   "version": "1.10.5"
  }
 },
 "nbformat": 4,
 "nbformat_minor": 2
}
