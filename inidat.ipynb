{
 "cells": [
  {
   "cell_type": "markdown",
   "metadata": {},
   "source": [
    "##  Study on how to give initial data. \n",
    "\n",
    "We want to have a very isotropic data with a given frequency, or perhaps a distribution (thermal?) for $phi$ and its time derivative. Here\n",
    "We do in 2dim.\n",
    "\n",
    "We first create a distribution of values on Fourier space both for $ϕ $ and its time derivative, $\\phi_t$.\n",
    "I think we need a thermal distribution, that is we fix a temperature and put particles at that temperature.\n",
    "That is we shall use the $\\omega = |k|$ rule, we take positive so as to have particles and not antiparticles.\n",
    "\n"
   ]
  },
  {
   "cell_type": "code",
   "execution_count": 1,
   "metadata": {},
   "outputs": [],
   "source": [
    "using Plots\n",
    "using Distributions\n",
    "using FFTW\n",
    "using LinearAlgebra\n",
    "using Revise\n",
    "using Base.Threads\n",
    "using HDF5\n",
    "using SummationByPartsOperators"
   ]
  },
  {
   "cell_type": "code",
   "execution_count": 2,
   "metadata": {},
   "outputs": [],
   "source": [
    "includet(\"../PIC/PIC-1D/aux_functions/inidat_aux_functions.jl\")\n",
    "includet(\"../PIC/PIC-1D/aux_functions/aux_functions.jl\")\n",
    "includet(\"local_aux_functions.jl\")"
   ]
  },
  {
   "cell_type": "markdown",
   "metadata": {},
   "source": [
    "We first look at the scheme for a distribution which resembles a delta function $k$ in Fourier space.\n",
    "It gives a rather homogeneous distribution is space."
   ]
  },
  {
   "cell_type": "code",
   "execution_count": 3,
   "metadata": {},
   "outputs": [
    {
     "data": {
      "text/plain": [
       "0.5"
      ]
     },
     "execution_count": 3,
     "metadata": {},
     "output_type": "execute_result"
    }
   ],
   "source": [
    "#J = (501,501,501)\n",
    "J = (440,440,440)\n",
    "Box_x = [-220.0, 220.0, -220.0, 220.0, -220.0, 220.0]\n",
    "dx = differentials(Box_x,J)\n",
    "κ = 2π./(Box_x[2:2:end] - Box_x[1:2:end-1])\n",
    "V = volume(Box_x)\n",
    "ϕ = Array{ComplexF64}(undef,J...)\n",
    "ϕ_t = copy(ϕ)\n",
    "#g = copy(ϕ)\n",
    "#g_t = copy(ϕ)\n",
    "#g_p = copy(ϕ)\n",
    "\n",
    "m = 1\n",
    "m2 = m^2\n",
    "\n",
    "N = 1000 #number of particles\n",
    " \n",
    "# k0= 500; δ = 1000 # para J=2001\n",
    "k0 = 1; δ = 0.5\n"
   ]
  },
  {
   "cell_type": "code",
   "execution_count": 4,
   "metadata": {},
   "outputs": [
    {
     "data": {
      "text/plain": [
       "3-element Vector{Float64}:\n",
       " 1.0\n",
       " 1.0\n",
       " 1.0"
      ]
     },
     "execution_count": 4,
     "metadata": {},
     "output_type": "execute_result"
    }
   ],
   "source": [
    "dx"
   ]
  },
  {
   "cell_type": "code",
   "execution_count": 5,
   "metadata": {},
   "outputs": [
    {
     "data": {
      "text/plain": [
       "(ComplexF64[0.20649246955709913 + 0.7431801652608374im 0.4548855776360389 + 0.6228758765691131im … 0.5282594665238721 + 0.5618321267168032im 0.69681345913054 - 0.3306754443975921im; -0.7325491607435741 + 0.24138552866089308im -0.7599318213964861 + 0.13167475103228182im … 0.5049970169313018 - 0.5827785496483701im 0.6935262765741115 - 0.3374254242520017im; … ; 0.665890380468999 - 0.3889773820957507im 0.563902834737444 - 0.5259908915702307im … -0.7371602564310049 - 0.22597778597796261im 0.6668369218316236 + 0.38727425001140525im; -0.5988412458344304 + 0.4860909468818371im 0.1760912405606329 + 0.7508838047449231im … 0.051099827372937986 - 0.7694424167422974im -0.6812213697543906 + 0.3616241952916675im;;; 0.4466150536882028 - 0.6288324420480368im 0.10561226179941723 - 0.7639899628843337im … -0.14539764684012046 - 0.7573059813134495im 0.5359728779346381 - 0.5545878535893622im; -0.0441197368195091 - 0.7699922480475837im -0.04933318418599189 + 0.7696364307786364im … -0.6478632561341805 + 0.41816918508550377im -0.6730247974815379 - 0.3765788371888981im; … ; 0.31940404628215546 + 0.7018788216340182im 0.30995477334296195 + 0.7060597032020522im … 0.3780723804578319 - 0.6719166428821622im -0.027994618366615064 - 0.7705897529466407im; 0.3071395846377055 - 0.7074601676271054im 0.7343269915243378 - 0.235664736781774im … -0.15341356592475558 + 0.7556828328036227im -0.40663745734310464 + 0.6553014397429189im;;; 0.04780370674527012 + 0.7696935807219806im 0.7423347401408017 - 0.2087868736771053im … 0.296133078174456 - 0.7118822960488962im 0.42613819064207337 + 0.6426967150344486im; -0.46357286233313794 + 0.61624104565343im 0.014295067489584578 - 0.7709655744904084im … 0.18856338169175563 + 0.7475657502401083im -0.766719315149614 - 0.08205947709048549im; … ; 0.21757620999653268 + 0.7396835784715458im 0.15236313212710462 - 0.7557752151370837im … 0.7017527701797468 - 0.31901778863303976im -0.6411107579563163 - 0.4282378963610815im; -0.7310343888968115 + 0.2454415353807023im 0.1228152075121246 - 0.7612546819610444im … 0.49559318951262693 - 0.5905913056892965im 0.4727059079732403 + 0.6092137478513199im;;; … ;;; -0.7416828597554892 + 0.2105165917261776im 0.37887742131914753 - 0.6714179878151004im … -0.3070903786673854 + 0.7070108694373196im 0.6265420384819844 + 0.44921630509362026im; -0.6367736826778039 - 0.4345911777706407im -0.1347979924822388 + 0.7590251967691225im … 0.7646605880927446 + 0.09696723093869365im 0.49311989147565394 - 0.5925559220349468im; … ; -0.6449659080299276 + 0.4221230243089373im -0.1346696177477876 + 0.7589285558693418im … -0.7703629196764948 - 0.021640411344110037im 0.3687593555621564 - 0.676849315980775im; -0.7512531387351911 - 0.17311538431823148im -0.20125051495600615 - 0.7441693210134297im … 0.1427669576012382 + 0.7574470639427856im -0.035372057578707046 + 0.7700899724384777im;;; 0.7569730986204494 - 0.14732661181255524im -0.7032421461381833 - 0.3163910696191239im … 0.3072966070191944 + 0.7071350639951448im 0.07509390360413618 - 0.7674722996182103im; -0.645918910924938 - 0.4212381577555781im -0.7300271933025438 + 0.24829934160739836im … 0.6939590117757773 + 0.33590413784631085im 0.31248115488879263 - 0.7049452417338693im; … ; 0.7552143579936831 - 0.15531412330215144im -0.14018725719634112 - 0.758128111051723im … -0.16867642034165262 + 0.7521818697230009im 0.34030289201753894 - 0.691812576881619im; 0.768991801246941 - 0.05748421222176104im 0.2602722011263357 - 0.7258447818402427im … 0.7203590984770093 + 0.2747607488133577im -0.6284779747423686 + 0.44677477689277384im;;; -0.2828764001251262 + 0.7175487360488229im -0.08592982995050069 + 0.7664533107470228im … 0.6721483304702145 + 0.3779807493588459im -0.1881045923700664 + 0.7479647555598362im; 0.7703900008477487 + 0.0365220457285749im -0.6217758190955219 + 0.45625522400483315im … 0.5449708658339913 + 0.5455263709446198im 0.3793378200367604 - 0.6714736159622104im; … ; 0.7059116036814239 + 0.3103894856912708im 0.7644082798134154 - 0.10135209793858335im … -0.6709712287342173 - 0.37974769263022706im 0.724283875474748 + 0.26458483276850314im; -0.6782889231550195 - 0.3670950148879692im -0.6328789792979487 + 0.4407246262763115im … -0.3682912150380813 - 0.6774613250434529im -0.6835958708120823 + 0.3570303685294552im], ComplexF64[-1.0510154689985545 + 0.29202445097556307im -0.880924415560671 + 0.6433381460094846im … -0.7947125865765362 + 0.747223996388407im 0.46766953666713706 + 0.9854932777626523im; -0.3413880899219677 - 1.0360337678383176im -0.18623520219679757 - 1.0748154471836309im … 0.8243833276484724 + 0.7143556013198623im 0.47724025767480327 + 0.9808942514340259im; … ; 0.5502092293146867 + 0.9419031797476686im 0.7440529885101038 + 0.797682233932168im … 0.3197111062889085 - 1.0429269411408226im -0.5478280474283096 + 0.9432901072802133im; -0.6874714520168165 - 0.8469325821479066im -1.062018314875625 + 0.24905600757775048im … 1.0884331627006922 + 0.07228448225725279im -0.5114659765932411 - 0.9634907113352741im;;; 0.889348700656078 + 0.6316412626508631im 1.080555110973443 + 0.14937351904203364im … 1.0712652778657732 - 0.2056757167995247im 0.7843856186504689 + 0.7580573839071498im; 1.0890444894021643 - 0.06240109089278893im -1.0885967027716743 - 0.06977832583596197im … -0.591561339191158 - 0.9164971238450201im 0.5326443293266269 - 0.9519463296205404im; … ; -0.9928594642574948 + 0.45182062843140625im -0.9988244913113681 + 0.43847626115722294im … 0.9506693101515677 + 0.5349202359023006im 1.0901116640789534 - 0.039602473165769106im; 1.0006017579779818 + 0.43440524625423527im 0.3333312264865761 + 1.0386539796731082im … -1.069023650046508 - 0.217025877911073im -0.9268778842809866 - 0.575160137416209im;;; -1.0887329992705221 + 0.06761843196380465im 0.2953444628240097 + 1.0500873508051736im … 1.00716393619095 + 0.41896611041727816im -0.9091420007282738 + 0.6028039636180424im; -0.8717185012315075 - 0.6557580732652285im 1.0906433184993591 + 0.020222459161445726im … -1.0577023557940657 + 0.26679115912922274im 0.11608510596266924 - 1.0846363649700606im; … ; -1.046496911868756 + 0.30782464081192024im 1.069317615533494 + 0.2155728024394379im … 0.4514350281674183 + 0.9930348490286294im 0.6058975169420614 - 0.9070832348827065im; -0.34719519069872745 - 1.0341021688389909im 1.0769058438257115 + 0.17374003446489483im … 0.8356051827393461 + 0.7011959602143857im -0.8618217539365133 + 0.6687114927108869im;;; … ;;; -0.29785192129387794 - 1.0493788777288098im 0.9500121181990531 + 0.5360865334223375im … -1.0005263443974035 - 0.43457891137122484im -0.6356114093998128 + 0.8865156131070755im; 0.6149178199530241 - 0.9009927140360519im -1.0740251688014548 - 0.1907399612635934im … -0.13723014138561435 + 1.0821643518140462im 0.8384701547417396 + 0.6977675799642699im; … ; -0.5973673456165168 - 0.9127234249392898im -1.07405225471867 - 0.19058738199464256im … 0.03063065188037539 - 1.0904006416025323im 0.9578919231747782 + 0.5218762875992311im; 0.24494683778757623 - 1.0629735851373248im 1.0530040162308707 - 0.284770675884099im … -1.0719556150129173 + 0.20204691406727582im -1.0896818921969553 - 0.05005167189908377im;;; 0.20839376599788056 + 1.0707398537156685im 0.44755855027308034 - 0.9947879875226123im … -1.0004475998698965 + 0.43476015911809834im 1.0856462864308087 + 0.10622587632410904im; 0.5958725049722271 - 0.9137000349457989im -0.3512556550801842 - 1.0327300038325706im … -0.475257992767732 + 0.9818562197960643im 0.9972479229220439 + 0.44205019654955424im; … ; 0.2197368647025562 + 1.0684697030484867im 1.072646638500441 - 0.1983456199555078im … -1.0643959542206447 - 0.23869027772524337im 0.9788193106768588 + 0.4814816227935492im; 0.08131566645206723 + 1.087795733780606im 1.0268133724452497 + 0.36819301216813405im … -0.3887485364414946 + 1.0192086986758042im -0.6320281234531411 - 0.8890738142618596im;;; -1.014818882410146 - 0.4000680341462596im -1.0840391660689903 - 0.12153551937717004im … -0.5346817039362871 + 0.9508034873293322im -1.0578897350913825 - 0.2660471845934762im; -0.05165523775499152 + 1.0896070541503968im -0.6453409851863783 - 0.8794582473776145im … -0.7717266648763376 + 0.7709408218278985im 0.9497522922545703 + 0.5365467168840193im; … ; -0.439068866271172 + 0.9985641324988488im 0.14337733368402666 + 1.0813670682185073im … 0.5372905713956853 - 0.9493316796205259im -0.3742938590039837 + 1.0246052425952819im; 0.5192036725881981 - 0.9593431828145534im -0.6233740449491059 - 0.8951628880408419im … 0.9583679118081773 - 0.5210016714543865im -0.5049943927125613 - 0.966898370756049im], ComplexF64[0.0 - 0.0im 0.0 + 0.0im … -0.0 - 0.0im -0.0 - 0.0im; -0.0 - 0.0im -0.0 + 0.0im … -0.0 - 0.0im 0.0 + 0.0im; … ; 0.0 - 0.0im -0.0 + 0.0im … 0.0 - 0.0im -0.0 - 0.0im; 0.0 - 0.0im -0.0 + 0.0im … 0.0 + 0.0im -0.0 + 0.0im;;; -0.0 - 0.0im 0.0 - 0.0im … 0.0 - 0.0im 0.0 - 0.0im; 0.0 + 0.0im -0.0 - 0.0im … -0.0 + 0.0im 0.0 - 0.0im; … ; -0.0 - 0.0im -0.0 + 0.0im … -0.0 - 0.0im 0.0 - 0.0im; 0.0 + 0.0im -0.0 - 0.0im … -0.0 + 0.0im 0.0 - 0.0im;;; 0.0 + 0.0im -0.0 - 0.0im … 0.0 - 0.0im -0.0 - 0.0im; -0.0 - 0.0im 0.0 - 0.0im … -0.0 - 0.0im 0.0 + 0.0im; … ; 0.0 - 0.0im -0.0 + 0.0im … -0.0 + 0.0im -0.0 + 0.0im; -0.0 + 0.0im -0.0 - 0.0im … 0.0 - 0.0im 0.0 + 0.0im;;; … ;;; 0.0 + 0.0im 0.0 - 0.0im … 0.0 + 0.0im 0.0 - 0.0im; 0.0 + 0.0im -0.0 - 0.0im … 0.0 + 0.0im -0.0 + 0.0im; … ; -0.0 + 0.0im -0.0 + 0.0im … 0.0 + 0.0im 0.0 - 0.0im; 0.0 - 0.0im -0.0 - 0.0im … 0.0 + 0.0im 0.0 - 0.0im;;; 0.0 + 0.0im 0.0 - 0.0im … -0.0 - 0.0im -0.0 - 0.0im; 0.0 - 0.0im 0.0 + 0.0im … 0.0 - 0.0im -0.0 - 0.0im; … ; 0.0 - 0.0im 0.0 - 0.0im … 0.0 - 0.0im 0.0 + 0.0im; 0.0 + 0.0im 0.0 + 0.0im … -0.0 + 0.0im -0.0 + 0.0im;;; 0.0 - 0.0im 0.0 + 0.0im … 0.0 + 0.0im 0.0 + 0.0im; 0.0 + 0.0im 0.0 - 0.0im … -0.0 + 0.0im -0.0 + 0.0im; … ; 0.0 - 0.0im -0.0 - 0.0im … -0.0 + 0.0im 0.0 + 0.0im; 0.0 + 0.0im -0.0 - 0.0im … 0.0 - 0.0im -0.0 - 0.0im])"
      ]
     },
     "execution_count": 5,
     "metadata": {},
     "output_type": "execute_result"
    }
   ],
   "source": [
    "k0 = 1.2; δ = 0.5 #coarse k0=0.5\n",
    "h_pars = k0\n",
    "f_pars = (k0, δ)\n",
    "#g, g_p = get_fourier_data(f,Box_x,J,1,f_pars)\n",
    "g, g_t, g_p = get_fourier_data(h,Box_x,J,1,h_pars)"
   ]
  },
  {
   "cell_type": "code",
   "execution_count": 6,
   "metadata": {},
   "outputs": [
    {
     "name": "stdout",
     "output_type": "stream",
     "text": [
      "sum(abs.(g)) * prod(κ) = 4.812550685855456\n"
     ]
    },
    {
     "data": {
      "text/plain": [
       "([0.0, 0.014279966607226332, 0.028559933214452663, 0.042839899821678996, 0.057119866428905326, 0.07139983303613166, 0.08567979964335799, 0.09995976625058432, 0.11423973285781065, 0.128519699465037  …  -0.14279966607226333, -0.128519699465037, -0.11423973285781065, -0.09995976625058432, -0.08567979964335799, -0.07139983303613166, -0.057119866428905326, -0.042839899821678996, -0.028559933214452663, -0.014279966607226332], [0.0, 0.014279966607226332, 0.028559933214452663, 0.042839899821678996, 0.057119866428905326, 0.07139983303613166, 0.08567979964335799, 0.09995976625058432, 0.11423973285781065, 0.128519699465037  …  -0.14279966607226333, -0.128519699465037, -0.11423973285781065, -0.09995976625058432, -0.08567979964335799, -0.07139983303613166, -0.057119866428905326, -0.042839899821678996, -0.028559933214452663, -0.014279966607226332], [0.0, 0.014279966607226332, 0.028559933214452663, 0.042839899821678996, 0.057119866428905326, 0.07139983303613166, 0.08567979964335799, 0.09995976625058432, 0.11423973285781065, 0.128519699465037  …  -0.14279966607226333, -0.128519699465037, -0.11423973285781065, -0.09995976625058432, -0.08567979964335799, -0.07139983303613166, -0.057119866428905326, -0.042839899821678996, -0.028559933214452663, -0.014279966607226332])"
      ]
     },
     "execution_count": 6,
     "metadata": {},
     "output_type": "execute_result"
    }
   ],
   "source": [
    "\n",
    "@show sum(abs.(g))*prod(κ)\n",
    "kx, ky, kz = get_frequencies(Box_x,J)\n",
    "#kx_p = sort(kx)\n",
    "#ky_p = sort(ky)\n",
    "#kz_p = sort(kz)\n",
    "#heatmap(ky_p,kx_p,real.(g_p[:,:,J[3]÷2]), aspectratio = 1)\n",
    "#surface(ky_p,kx_p,real.(g[:,:]), aspectratio = 1)\n"
   ]
  },
  {
   "cell_type": "code",
   "execution_count": 7,
   "metadata": {},
   "outputs": [],
   "source": [
    "#ifft(g,J...)\n",
    "p_i = plan_ifft(g; flags=FFTW.ESTIMATE, timelimit=Inf);"
   ]
  },
  {
   "cell_type": "code",
   "execution_count": 8,
   "metadata": {},
   "outputs": [],
   "source": [
    "ϕ = p_i*g*sqrt(prod(J));\n",
    "ϕ_t = p_i*g_t*sqrt(prod(J));\n"
   ]
  },
  {
   "cell_type": "code",
   "execution_count": 9,
   "metadata": {},
   "outputs": [
    {
     "data": {
      "text/plain": [
       "0.012938414659767914 + 0.0im"
      ]
     },
     "execution_count": 9,
     "metadata": {},
     "output_type": "execute_result"
    }
   ],
   "source": [
    "\n",
    "sum(ϕ.*conj.(ϕ))/prod(J)"
   ]
  },
  {
   "cell_type": "code",
   "execution_count": 10,
   "metadata": {},
   "outputs": [
    {
     "name": "stdout",
     "output_type": "stream",
     "text": [
      "norm(ϕ) = 1049.8313742585854\n",
      "mean(ϕ) = 2.237305053223048e-5 + 8.052210052790512e-5im\n",
      "var(ϕ) = 0.01293840782729362\n",
      "n(ϕ, ϕ_t, Box_x, J) = (1.802814846292287e6, 0.021163773082882784)\n"
     ]
    }
   ],
   "source": [
    "\n",
    "@show norm(ϕ)\n",
    "@show mean(ϕ)\n",
    "@show var(ϕ);\n",
    "@show n(ϕ,ϕ_t,Box_x,J);"
   ]
  },
  {
   "cell_type": "code",
   "execution_count": 11,
   "metadata": {},
   "outputs": [
    {
     "data": {
      "text/plain": [
       "0.3"
      ]
     },
     "execution_count": 11,
     "metadata": {},
     "output_type": "execute_result"
    }
   ],
   "source": [
    "p = 4 #polinomial order\n",
    "percent = 0.550 #0.6 goes up to the border in poli_cut use 0.550 for step_cut\n",
    "δ = 0.3 #less than 1!\n",
    "#x,y,z = get_coords(Box_x,J)\n",
    "#ϕ_h_cut = polinomial_cut(ϕ,Box_x,J,p,percent);\n",
    "#ϕ_h_step_cut = step_cut(ϕ,Box_x,J,p,percent,δ);\n",
    "#heatmap(x,y,real.(ϕ_h_step_cut[:,:,J[3]÷2]), aspectratio=1)\n",
    "#heatmap(real.(ϕ_h_cut[J[1]÷2,:,:]), aspectratio=1)\n",
    "#heatmap(real.(ϕ_h_cut[:,J[2]÷2,:]), aspectratio=1)\n",
    "#heatmap(imag.(ϕ[:,J[2]÷2,:]), aspectratio=1)\n",
    "#surface(x,y,real.(ϕ_h_step_cut[:,:,J[3]÷2]), aspectratio=1)\n",
    "#png(\"h_cut.png\")"
   ]
  },
  {
   "cell_type": "code",
   "execution_count": 12,
   "metadata": {},
   "outputs": [],
   "source": [
    "#ϕ_h_cut = polinomial_cut(ϕ,Box_x,J,8);\n",
    "#ϕ_t_h_cut = polinomial_cut(ϕ_t,Box_x,J,8);\n",
    "\n",
    "ϕ_h_cut = step_cut(ϕ,Box_x,J,p,percent,δ)\n",
    "ϕ_t_h_cut = step_cut(ϕ_t,Box_x,J,p,percent,δ);\n"
   ]
  },
  {
   "cell_type": "code",
   "execution_count": 13,
   "metadata": {},
   "outputs": [],
   "source": [
    "### Derivatives\n",
    "\n",
    "\n",
    "\n",
    "\n"
   ]
  },
  {
   "cell_type": "code",
   "execution_count": 14,
   "metadata": {},
   "outputs": [],
   "source": [
    "#ρ = get_rho(ϕ_h_cut,ϕ_t_h_cut,Box_x,J);"
   ]
  },
  {
   "cell_type": "code",
   "execution_count": 15,
   "metadata": {},
   "outputs": [],
   "source": [
    "#surface(x,y,ρ[:,:,J[3]÷2])"
   ]
  },
  {
   "cell_type": "code",
   "execution_count": null,
   "metadata": {},
   "outputs": [],
   "source": [
    "\n",
    "N_fields = 7 #Int32(1)\n",
    "\n",
    "x, y, z = get_coords(Box_x,J)\n",
    "\n",
    "#= this data has already an extra point added so as to be symmetric. That is in each dimension we\n",
    "add an extra point and put there the data from the other extreme. \n",
    "=#\n",
    "load_data_full_h5(\"data_3d_h_step_cut.h5\",Box_x,J,ϕ_h_cut,ϕ_t_h_cut,N_fields)\n",
    "# Open an HDF5 file in write mode\n"
   ]
  },
  {
   "cell_type": "code",
   "execution_count": null,
   "metadata": {},
   "outputs": [],
   "source": [
    "data = h5open(\"data_3d_h_step_cut.h5\", \"r\")"
   ]
  },
  {
   "cell_type": "code",
   "execution_count": null,
   "metadata": {},
   "outputs": [],
   "source": [
    "var0 = read(data[\"var0\"])\n",
    "heatmap(x,y,var0[:,:,J[3]÷2], aspectratio=1)\n",
    "#heatmap(x,y,real.(ϕ_h_cut)[:,:,J[3]÷2], aspectratio=1)"
   ]
  },
  {
   "cell_type": "code",
   "execution_count": null,
   "metadata": {},
   "outputs": [],
   "source": []
  },
  {
   "cell_type": "markdown",
   "metadata": {},
   "source": [
    "## Thermal distribution\n",
    "\n",
    "We use a relativistic thermal distribution. I guess we are setting the mass to 1 but I don't know the temperature.\n",
    "\n"
   ]
  },
  {
   "cell_type": "code",
   "execution_count": null,
   "metadata": {},
   "outputs": [],
   "source": [
    "θ = 1.0\n",
    "m = 1.0\n",
    "m2 = m^2\n",
    "norm_rel = 2.0\n",
    "p_max = 10*θ\n",
    "Box_p =(-p_max,p_max,-p_max,p_max,-p_max,p_max)\n",
    "#dp = differentials(Box_p,J)\n",
    "L = zeros(J...)\n",
    "L = Box_p[2:2:end] .- Box_p[1:2:end]\n",
    "f_p = f_p_rel \n",
    "f_p_max = f_p_rel_max\n",
    "par_f_p_1 = (θ,norm_rel,2)\n",
    "#norm_rel = int_mid_point_f(f_p, par_f_p_1, [20_000,20_000], Box_p)\n",
    "par_f_p = (θ, norm_rel,2)\n",
    "interval_p = Box_p\n"
   ]
  },
  {
   "cell_type": "code",
   "execution_count": null,
   "metadata": {},
   "outputs": [],
   "source": [
    "g_th = fill(0.0+im*0.0,J...)\n",
    "gt_th = fill(0.0+im*0.0,J...)\n",
    "\n",
    "N=100000\n",
    "plt = Plots.scatter(labels=false)\n",
    "for i in 1:N÷2\n",
    "    kr = random_sampling_from_distribution_D(f_p,f_p_max,par_f_p,interval_p)\n",
    "    j = get_index_p(kr,J,L)\n",
    "    jm = get_index_p(-kr,J,L)\n",
    "    if (abs(j[1]) > J[1] || abs(jm[1])) > J[1] || (abs(j[2]) > J[2] || abs(jm[2])) > J[2]\n",
    "        println(\"j = $j, jm = $jm, kr = $kr\")\n",
    "    end\n",
    "    #Plots.scatter!(plt,[j[1],jm[1]],[j[2],jm[2]],label=false)\n",
    "    factor = 1.0/sqrt(2*ω([kr[1],kr[2],kr[3]],m2))\n",
    "    phase_p = exp(im*rand()*2*π)\n",
    "    phase_m = exp(im*rand()*2*π)\n",
    "    g_th[j...] += phase_p*factor\n",
    "    g_th[jm...] += phase_m*factor\n",
    "    gt_th[j...] += im*phase_p/factor/2.0\n",
    "    gt_th[jm...] += 2.0*im*phase_m/factor/2.0\n",
    "end\n",
    "\n",
    "#heatmap(real.(g_th))\n",
    "surface(real.(g_th[30,:,:]))\n",
    "#plt"
   ]
  },
  {
   "cell_type": "code",
   "execution_count": 32,
   "metadata": {},
   "outputs": [],
   "source": [
    "ϕ_th = p_i*g_th*sqrt(prod(J));\n",
    "ϕt_th = p_i*gt_th*sqrt(prod(J));"
   ]
  },
  {
   "cell_type": "code",
   "execution_count": null,
   "metadata": {},
   "outputs": [],
   "source": [
    "#heatmap(imag.(ϕ_th))\n",
    "surface(imag.(ϕ_th[30,:,:]))"
   ]
  },
  {
   "cell_type": "code",
   "execution_count": null,
   "metadata": {},
   "outputs": [],
   "source": [
    "#@show sum(ϕ.*conj.(ϕ))*prod(dx)/V\n",
    "\n",
    "n(ϕ_th,ϕt_th,Box_x,J)"
   ]
  },
  {
   "cell_type": "markdown",
   "metadata": {},
   "source": [
    "### Localization\n",
    "\n"
   ]
  },
  {
   "cell_type": "code",
   "execution_count": null,
   "metadata": {},
   "outputs": [],
   "source": [
    "#ϕ_th_cut = polinomial_cut(ϕ_th,Box_x,J,8);\n",
    "#ϕ_th_step_cut = poli_step\n",
    "p = 4 #polinomial order\n",
    "percent = 0.550 #0.6 goes up to the border in poli_cut use 0.550 for step_cut\n",
    "δ = 0.3 #less than 1!\n",
    "#x,y,z = get_coords(Box_x,J)\n",
    "\n",
    "ϕ_th_step_cut = step_cut(ϕ_th,Box_x,J,p,percent,δ)\n",
    "ϕ_t_th_step_cut = step_cut(ϕt_th,Box_x,J,p,percent,δ)"
   ]
  },
  {
   "cell_type": "code",
   "execution_count": null,
   "metadata": {},
   "outputs": [],
   "source": [
    "surface(real.(ϕ_th_step_cut[101,:,:]) )"
   ]
  },
  {
   "cell_type": "markdown",
   "metadata": {},
   "source": [
    "### Data transfer"
   ]
  },
  {
   "cell_type": "code",
   "execution_count": 25,
   "metadata": {},
   "outputs": [],
   "source": [
    "N_fields = 4.0 #Int32(1)\n",
    "\n",
    "x, y, z = get_coords(Box_x,J)\n",
    "\n",
    "# Open an HDF5 file in write mode\n",
    "h5file = h5open(\"example_data_3d_gaussian.h5\", \"w\") do file\n",
    "    write(file, \"coord0\", x)\n",
    "    write(file, \"coord1\", y)\n",
    "    write(file, \"coord2\", z)\n",
    "    write(file, \"nvars\", [N_fields])\n",
    "    write(file, \"var0\", real.(ϕ))\n",
    "    write(file, \"var1\", imag.(ϕ))\n",
    "    write(file, \"var2\", real.(ϕ_t))\n",
    "    write(file, \"var3\", imag.(ϕ_t))\n",
    "end"
   ]
  }
 ],
 "metadata": {
  "kernelspec": {
   "display_name": "Julia 1.10.4",
   "language": "julia",
   "name": "julia-1.10"
  },
  "language_info": {
   "file_extension": ".jl",
   "mimetype": "application/julia",
   "name": "julia",
   "version": "1.10.4"
  }
 },
 "nbformat": 4,
 "nbformat_minor": 2
}
