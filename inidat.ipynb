{
 "cells": [
  {
   "cell_type": "markdown",
   "metadata": {},
   "source": [
    "##  Study on how to give initial data. \n",
    "\n",
    "We want to have a very isotropic data with a given frequency, or perhaps a distribution (thermal?) for $phi$ and its time derivative. Here\n",
    "We do in 2dim.\n",
    "\n",
    "We first create a distribution of values on Fourier space both for $ϕ $ and its time derivative, $\\phi_t$.\n",
    "I think we need a thermal distribution, that is we fix a temperature and put particles at that temperature.\n",
    "That is we shall use the $\\omega = |k|$ rule, we take positive so as to have particles and not antiparticles.\n",
    "\n"
   ]
  },
  {
   "cell_type": "code",
   "execution_count": 1,
   "metadata": {},
   "outputs": [],
   "source": [
    "using Plots\n",
    "using Distributions\n",
    "using FFTW\n",
    "using LinearAlgebra\n",
    "using Revise"
   ]
  },
  {
   "cell_type": "code",
   "execution_count": null,
   "metadata": {},
   "outputs": [],
   "source": [
    "function get_index_p(x,J,L)\n",
    "    floor(Int64,(x>=0) ? mod(x / L[1] * J[1] + 1 ,J[1]) : -mod(-x / L[1] * J[1] ,J[1])+J+1 )\n",
    "    end\n",
    "    \n",
    "function get_index_p(x::Vector,J,L)\n",
    "        j = Vector{Int64}(undef,length(J))\n",
    "        for i in 1:length(J)\n",
    "            j[i] = get_index_p(x[i],J[i],L[i])\n",
    "        end\n",
    "        return j[:]\n",
    "end\n",
    "\n",
    "function n(ϕ,ϕ_t,Box_x,J)\n",
    "        V = volume(Box_x)\n",
    "        dx = differentials(Box_x,J)\n",
    "        n = real(im*sum(ϕ.*conj.(ϕ_t).-conj.(ϕ).*ϕ_t))/2#*prod(dx)/2)\n",
    "        return n, n/prod(J)\n",
    "end"
   ]
  },
  {
   "cell_type": "markdown",
   "metadata": {},
   "source": [
    "We first look at the scheme for a distribution which resembles a delta function $k$ in Fourier space.\n",
    "It gives a rather homogeneous distribution is space."
   ]
  },
  {
   "cell_type": "code",
   "execution_count": 227,
   "metadata": {},
   "outputs": [],
   "source": [
    "#J = (2001,2001)\n",
    "J = (1001,1001)\n",
    "Box_x = [0.0, 500, 0.0, 500]\n",
    "dx = differentials(Box_x,J)\n",
    "κ = 2π./(Box_x[2:2:end] - Box_x[1:2:end-1])\n",
    "V = volume(Box_x)\n",
    "ϕ = Array{ComplexF64}(undef,J...)\n",
    "ϕ_t = copy(ϕ)\n",
    "g = copy(ϕ)\n",
    "g_t = copy(ϕ)\n",
    "g_p = copy(ϕ)\n",
    "\n",
    "m = 1\n",
    "m2 = m^2\n",
    "\n",
    "N = 10000 #number of particles\n",
    " \n",
    "function f(k,k0,δ)\n",
    "    #(kx,ky) = k\n",
    "    if abs(k'*k - k0^2) < δ^2\n",
    "        return (1.0 + 0.0im)/(2π*(k0*2*δ)) # normalized so that the integral is 1\n",
    "    else\n",
    "        return 0.0 + 0.0im\n",
    "    end\n",
    "end\n",
    "\n",
    "function h(k,k0)\n",
    "    if abs(k'*k)< k0^2\n",
    "        return (1.0 + 0.0im)/2*π/k0^2\n",
    "    else\n",
    "        return 0.0\n",
    "    end\n",
    "end\n",
    "\n",
    "# k0= 500; δ = 1000 # para J=2001\n",
    "k0 = 1; δ = 0.5\n",
    "\n",
    "kx = fftfreq(J[1]).*κ[1]*J[1]\n",
    "ky = fftfreq(J[2]).*κ[2]*J[2]\n",
    "kx_p = sort(kx)\n",
    "ky_p = sort(ky)\n",
    "ω(kx,ky,m2) = sqrt((kx^2+ky^2+m2))\n",
    "\n",
    "for i in 1:J[1]\n",
    "    for j in 1:J[2]\n",
    "        ω_val = ω(kx[i],ky[j],m2)\n",
    "        g[i,j] = exp(im*2*π*rand())*f([kx[i],ky[j]],k0,δ)/sqrt(2.0*ω_val)\n",
    "        g_t[i,j] = im*sqrt(2.0*ω_val)*g[i,j]\n",
    "        ω_val_p = ω(kx_p[i],ky_p[j],m2)\n",
    "        g_p[i,j] = f([kx_p[i],ky_p[j]],k0,δ)*exp(im*2*π*rand())/sqrt(2.0*ω_val_p)\n",
    "    end\n",
    "end\n",
    "\n"
   ]
  },
  {
   "cell_type": "code",
   "execution_count": null,
   "metadata": {},
   "outputs": [],
   "source": [
    "if false\n",
    "    g = fill(0.0+im*0.0,J...)\n",
    "    g_t = copy(g)\n",
    "\n",
    "    g[5,5] = exp(im*2*π*rand())\n",
    "    g_t[5,5] = im*(sqrt(kx[5]^2+ky[5]^2 + m2))*g[5,5]\n",
    "end"
   ]
  },
  {
   "cell_type": "code",
   "execution_count": null,
   "metadata": {},
   "outputs": [],
   "source": [
    "\n",
    "sum(abs.(g))*prod(κ)\n",
    "#heatmap(ky_p,kx_p,real.(g_p[:,:]), aspectratio = 1)\n",
    "#surface(ky_p,kx_p,real.(g[:,:]), aspectratio = 1)\n"
   ]
  },
  {
   "cell_type": "code",
   "execution_count": 229,
   "metadata": {},
   "outputs": [],
   "source": [
    "#ifft(g,J...)\n",
    "p_i = plan_ifft(g; flags=FFTW.ESTIMATE, timelimit=Inf);"
   ]
  },
  {
   "cell_type": "code",
   "execution_count": 230,
   "metadata": {},
   "outputs": [],
   "source": [
    "ϕ = p_i*g*sqrt(prod(J));\n",
    "ϕ_t = p_i*g_t*sqrt(prod(J));\n"
   ]
  },
  {
   "cell_type": "code",
   "execution_count": null,
   "metadata": {},
   "outputs": [],
   "source": [
    "\n",
    "sum(ϕ.*conj.(ϕ))/prod(J)"
   ]
  },
  {
   "cell_type": "code",
   "execution_count": null,
   "metadata": {},
   "outputs": [],
   "source": [
    "\n",
    "@show norm(ϕ)\n",
    "@show mean(ϕ)\n",
    "@show var(ϕ);\n",
    "@show n(ϕ,ϕ_t,Box_x,J);"
   ]
  },
  {
   "cell_type": "code",
   "execution_count": null,
   "metadata": {},
   "outputs": [],
   "source": [
    "#heatmap(real.(ϕ), aspectratio=1)\n",
    "#heatmap(imag.(ϕ), aspectratio=1)\n",
    "surface(real.(ϕ), aspectratio=1)"
   ]
  },
  {
   "cell_type": "markdown",
   "metadata": {},
   "source": [
    "## Thermal distribution\n",
    "\n",
    "We use a relativistic thermal distribution. I guess we are setting the mass to 1 but I don't know the temperature.\n",
    "\n"
   ]
  },
  {
   "cell_type": "code",
   "execution_count": 233,
   "metadata": {},
   "outputs": [],
   "source": [
    "includet(\"../PIC/PIC-1D/aux_functions/inidat_aux_functions.jl\")\n",
    "includet(\"../PIC/PIC-1D/aux_functions/aux_functions.jl\")"
   ]
  },
  {
   "cell_type": "code",
   "execution_count": null,
   "metadata": {},
   "outputs": [],
   "source": [
    "θ = 1.0\n",
    "m = 1.0\n",
    "m2 = m^2\n",
    "norm_rel = 2.0\n",
    "p_max = 10*θ\n",
    "Box_p =(-p_max,p_max,-p_max,p_max)\n",
    "#dp = differentials(Box_p,J)\n",
    "L = zeros(J...)\n",
    "L = Box_p[2:2:end] .- Box_p[1:2:end]\n",
    "f_p = f_p_rel \n",
    "f_p_max = f_p_rel_max\n",
    "par_f_p_1 = (θ,norm_rel,2)\n",
    "#norm_rel = int_mid_point_f(f_p, par_f_p_1, [20_000,20_000], Box_p)\n",
    "par_f_p = (θ, norm_rel,2)\n",
    "interval_p = Box_p\n"
   ]
  },
  {
   "cell_type": "code",
   "execution_count": null,
   "metadata": {},
   "outputs": [],
   "source": [
    "g_th = fill(0.0+im*0.0,J...)\n",
    "gt_th = fill(0.0+im*0.0,J...)\n",
    "\n",
    "N=10000\n",
    "plt = Plots.scatter(labels=false)\n",
    "for i in 1:N÷2\n",
    "    kr = random_sampling_from_distribution_D(f_p,f_p_max,par_f_p,interval_p)\n",
    "    j = get_index_p(kr,J,L)\n",
    "    jm = get_index_p(-kr,J,L)\n",
    "    if (abs(j[1]) > J[1] || abs(jm[1])) > J[1] || (abs(j[2]) > J[2] || abs(jm[2])) > J[2]\n",
    "        println(\"j = $j, jm = $jm, kr = $kr\")\n",
    "    end\n",
    "    #Plots.scatter!(plt,[j[1],jm[1]],[j[2],jm[2]],label=false)\n",
    "    factor = 1.0/sqrt(2*ω(kr[1],kr[2],m2))\n",
    "    phase_p = exp(im*rand()*2*π)\n",
    "    phase_m = exp(im*rand()*2*π)\n",
    "    g_th[j...] += phase_p*factor\n",
    "    g_th[jm...] += phase_m*factor\n",
    "    gt_th[j...] += im*phase_p/factor\n",
    "    gt_th[jm...] += im*phase_m/factor\n",
    "end\n",
    "\n",
    "#heatmap(real.(g_th))\n",
    "surface(real.(g_th))\n",
    "#plt"
   ]
  },
  {
   "cell_type": "code",
   "execution_count": null,
   "metadata": {},
   "outputs": [],
   "source": [
    "#heatmap(real.(g_th))\n",
    "surface(abs.(imag.(g_th)).- abs.(real.(g_th)))"
   ]
  },
  {
   "cell_type": "code",
   "execution_count": 245,
   "metadata": {},
   "outputs": [],
   "source": [
    "ϕ_th = p_i*g_th*sqrt(prod(J));\n",
    "ϕt_th = p_i*gt_th*sqrt(prod(J));"
   ]
  },
  {
   "cell_type": "code",
   "execution_count": null,
   "metadata": {},
   "outputs": [],
   "source": [
    "#heatmap(imag.(ϕ_th))\n",
    "surface(imag.(ϕ_th))"
   ]
  },
  {
   "cell_type": "code",
   "execution_count": null,
   "metadata": {},
   "outputs": [],
   "source": [
    "#@show sum(ϕ.*conj.(ϕ))*prod(dx)/V\n",
    "\n",
    "n(ϕ_th,ϕt_th,Box_x,J)"
   ]
  },
  {
   "cell_type": "code",
   "execution_count": null,
   "metadata": {},
   "outputs": [],
   "source": [
    "p=0.0\n",
    "for i in 1:J[1]\n",
    "    for j in 1:J[2]\n",
    "        p +="
   ]
  }
 ],
 "metadata": {
  "kernelspec": {
   "display_name": "Julia 1.10.5",
   "language": "julia",
   "name": "julia-1.10"
  },
  "language_info": {
   "file_extension": ".jl",
   "mimetype": "application/julia",
   "name": "julia",
   "version": "1.10.5"
  }
 },
 "nbformat": 4,
 "nbformat_minor": 2
}
