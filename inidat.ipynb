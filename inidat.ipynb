{
 "cells": [
  {
   "cell_type": "markdown",
   "metadata": {},
   "source": [
    "##  Study on how to give initial data. \n",
    "\n",
    "We want to have a very isotropic data with a given frequency, or perhaps a distribution (thermal?) for $phi$ and its time derivative. Here\n",
    "We do in 2dim.\n",
    "\n",
    "We first create a distribution of values on Fourier space both for $ϕ $ and its time derivative, $\\phi_t$.\n",
    "I think we need a thermal distribution, that is we fix a temperature and put particles at that temperature.\n",
    "That is we shall use the $\\omega = |k|$ rule, we take positive so as to have particles and not antiparticles.\n",
    "\n"
   ]
  },
  {
   "cell_type": "code",
   "execution_count": 2,
   "metadata": {},
   "outputs": [],
   "source": [
    "using Plots\n",
    "using Distributions\n",
    "using FFTW\n",
    "using LinearAlgebra\n",
    "using Revise\n",
    "using Base.Threads\n",
    "using HDF5"
   ]
  },
  {
   "cell_type": "code",
   "execution_count": 3,
   "metadata": {},
   "outputs": [],
   "source": [
    "includet(\"../PIC/PIC-1D/aux_functions/inidat_aux_functions.jl\")\n",
    "includet(\"../PIC/PIC-1D/aux_functions/aux_functions.jl\")\n",
    "includet(\"local_aux_functions.jl\")"
   ]
  },
  {
   "cell_type": "markdown",
   "metadata": {},
   "source": [
    "We first look at the scheme for a distribution which resembles a delta function $k$ in Fourier space.\n",
    "It gives a rather homogeneous distribution is space."
   ]
  },
  {
   "cell_type": "code",
   "execution_count": null,
   "metadata": {},
   "outputs": [],
   "source": [
    "#J = (501,501,501)\n",
    "J = (440,440,440)\n",
    "Box_x = [-220.0, 220.0, -220.0, 220.0, -220.0, 220.0]\n",
    "dx = differentials(Box_x,J)\n",
    "κ = 2π./(Box_x[2:2:end] - Box_x[1:2:end-1])\n",
    "V = volume(Box_x)\n",
    "ϕ = Array{ComplexF64}(undef,J...)\n",
    "ϕ_t = copy(ϕ)\n",
    "#g = copy(ϕ)\n",
    "#g_t = copy(ϕ)\n",
    "#g_p = copy(ϕ)\n",
    "\n",
    "m = 1\n",
    "m2 = m^2\n",
    "\n",
    "N = 1000 #number of particles\n",
    " \n",
    "# k0= 500; δ = 1000 # para J=2001\n",
    "k0 = 1; δ = 0.5\n"
   ]
  },
  {
   "cell_type": "code",
   "execution_count": null,
   "metadata": {},
   "outputs": [],
   "source": [
    "dx"
   ]
  },
  {
   "cell_type": "code",
   "execution_count": null,
   "metadata": {},
   "outputs": [],
   "source": [
    "k0 = 1.2; δ = 0.5 #coarse k0=0.5\n",
    "h_pars = k0\n",
    "f_pars = (k0, δ)\n",
    "#g, g_p = get_fourier_data(f,Box_x,J,1,f_pars)\n",
    "g, g_t, g_p = get_fourier_data(h,Box_x,J,1,h_pars)"
   ]
  },
  {
   "cell_type": "code",
   "execution_count": null,
   "metadata": {},
   "outputs": [],
   "source": [
    "\n",
    "@show sum(abs.(g))*prod(κ)\n",
    "kx, ky, kz = get_frequencies(Box_x,J)\n",
    "#kx_p = sort(kx)\n",
    "#ky_p = sort(ky)\n",
    "#kz_p = sort(kz)\n",
    "#heatmap(ky_p,kx_p,real.(g_p[:,:,J[3]÷2]), aspectratio = 1)\n",
    "#surface(ky_p,kx_p,real.(g[:,:]), aspectratio = 1)\n"
   ]
  },
  {
   "cell_type": "code",
   "execution_count": 15,
   "metadata": {},
   "outputs": [],
   "source": [
    "#ifft(g,J...)\n",
    "p_i = plan_ifft(g; flags=FFTW.ESTIMATE, timelimit=Inf);"
   ]
  },
  {
   "cell_type": "code",
   "execution_count": 16,
   "metadata": {},
   "outputs": [],
   "source": [
    "ϕ = p_i*g*sqrt(prod(J));\n",
    "ϕ_t = p_i*g_t*sqrt(prod(J));\n"
   ]
  },
  {
   "cell_type": "code",
   "execution_count": null,
   "metadata": {},
   "outputs": [],
   "source": [
    "\n",
    "sum(ϕ.*conj.(ϕ))/prod(J)"
   ]
  },
  {
   "cell_type": "code",
   "execution_count": null,
   "metadata": {},
   "outputs": [],
   "source": [
    "\n",
    "@show norm(ϕ)\n",
    "@show mean(ϕ)\n",
    "@show var(ϕ);\n",
    "@show n(ϕ,ϕ_t,Box_x,J);"
   ]
  },
  {
   "cell_type": "code",
   "execution_count": null,
   "metadata": {},
   "outputs": [],
   "source": [
    "p = 4 #polinomial order\n",
    "percent = 0.550 #0.6 goes up to the border in poli_cut use 0.550 for step_cut\n",
    "δ = 0.3 #less than 1!\n",
    "#x,y,z = get_coords(Box_x,J)\n",
    "#ϕ_h_cut = polinomial_cut(ϕ,Box_x,J,p,percent);\n",
    "#ϕ_h_step_cut = step_cut(ϕ,Box_x,J,p,percent,δ)\n",
    "#heatmap(x,y,real.(ϕ_h_step_cut[:,:,J[3]÷2]), aspectratio=1)\n",
    "#heatmap(real.(ϕ_h_cut[J[1]÷2,:,:]), aspectratio=1)\n",
    "#heatmap(real.(ϕ_h_cut[:,J[2]÷2,:]), aspectratio=1)\n",
    "#heatmap(imag.(ϕ[:,J[2]÷2,:]), aspectratio=1)\n",
    "#surface(x,y,real.(ϕ_h_step_cut[:,:,J[3]÷2]), aspectratio=1)\n",
    "#png(\"h_cut.png\")"
   ]
  },
  {
   "cell_type": "code",
   "execution_count": null,
   "metadata": {},
   "outputs": [],
   "source": [
    "#ϕ_h_cut = polinomial_cut(ϕ,Box_x,J,8);\n",
    "#ϕ_t_h_cut = polinomial_cut(ϕ_t,Box_x,J,8);\n",
    "\n",
    "ϕ_h_cut = step_cut(ϕ,Box_x,J,p,percent,δ)\n",
    "ϕ_t_h_cut = step_cut(ϕ_t,Box_x,J,p,percent,δ);\n"
   ]
  },
  {
   "cell_type": "code",
   "execution_count": 22,
   "metadata": {},
   "outputs": [],
   "source": [
    "### Derivatives\n",
    "\n",
    "using SummationByPartsOperators\n",
    "\n",
    "\n",
    "\n",
    "#=\n",
    "h5file = h5open(\"derivatives_3d_h_step_cut.h5\", \"w\") do file\n",
    "    write(file, \"coord0\", x)\n",
    "    write(file, \"coord1\", y)\n",
    "    write(file, \"coord2\", z)\n",
    "    write(file, \"nvars\", [6])\n",
    "    write(file, \"var0\", real.(Dϕ[1,:,:,:]))\n",
    "    write(file, \"var1\", real.(Dϕ[2,:,:,:]))\n",
    "    write(file, \"var2\", real.(Dϕ[3,:,:,:]))\n",
    "    write(file, \"var3\", imag.(Dϕ[1,:,:,:]))\n",
    "    write(file, \"var4\", imag.(Dϕ[2,:,:,:,:]))\n",
    "    write(file, \"var5\", imag.(Dϕ[3,:,:,:,]))\n",
    "end\n",
    "=#\n",
    "\n"
   ]
  },
  {
   "cell_type": "code",
   "execution_count": 23,
   "metadata": {},
   "outputs": [],
   "source": [
    "ρ = get_rho(ϕ_h_cut,ϕ_t_h_cut,Box_x,J);"
   ]
  },
  {
   "cell_type": "code",
   "execution_count": null,
   "metadata": {},
   "outputs": [],
   "source": [
    "surface(x,y,ρ[:,:,J[3]÷2])"
   ]
  },
  {
   "cell_type": "code",
   "execution_count": 24,
   "metadata": {},
   "outputs": [],
   "source": [
    "\n",
    "N_fields = 5.0 #Int32(1)\n",
    "\n",
    "x, y, z = get_coords(Box_x,J)\n",
    "\n",
    "# Open an HDF5 file in write mode\n",
    "h5file = h5open(\"data_3d_h_step_cut_comp_XL.h5\", \"w\") do file\n",
    "    write(file, \"coord0\", x)\n",
    "    write(file, \"coord1\", y)\n",
    "    write(file, \"coord2\", z)\n",
    "    write(file, \"nvars\", [N_fields])\n",
    "    write(file, \"var0\", real.(ϕ_h_cut))\n",
    "    write(file, \"var1\", imag.(ϕ_h_cut))\n",
    "    write(file, \"var2\", real.(ϕ_t_h_cut))\n",
    "    write(file, \"var3\", imag.(ϕ_t_h_cut))\n",
    "    write(file, \"var4\", ρ)\n",
    "end"
   ]
  },
  {
   "cell_type": "code",
   "execution_count": null,
   "metadata": {},
   "outputs": [],
   "source": [
    "data = h5open(\"example_data_3d_h_step_cut.h5\", \"r\")"
   ]
  },
  {
   "cell_type": "code",
   "execution_count": null,
   "metadata": {},
   "outputs": [],
   "source": [
    "var0 = read(data[\"var0\"])\n",
    "heatmap(x,y,var0[:,:,J[3]÷2], aspectratio=1)\n",
    "#heatmap(x,y,real.(ϕ_h_cut)[:,:,J[3]÷2], aspectratio=1)"
   ]
  },
  {
   "cell_type": "code",
   "execution_count": null,
   "metadata": {},
   "outputs": [],
   "source": [
    "ddata = h5open(\"derivatives_3d_h_step_cut.h5\", \"r\")"
   ]
  },
  {
   "cell_type": "markdown",
   "metadata": {},
   "source": [
    "## Thermal distribution\n",
    "\n",
    "We use a relativistic thermal distribution. I guess we are setting the mass to 1 but I don't know the temperature.\n",
    "\n"
   ]
  },
  {
   "cell_type": "code",
   "execution_count": null,
   "metadata": {},
   "outputs": [],
   "source": [
    "θ = 1.0\n",
    "m = 1.0\n",
    "m2 = m^2\n",
    "norm_rel = 2.0\n",
    "p_max = 10*θ\n",
    "Box_p =(-p_max,p_max,-p_max,p_max,-p_max,p_max)\n",
    "#dp = differentials(Box_p,J)\n",
    "L = zeros(J...)\n",
    "L = Box_p[2:2:end] .- Box_p[1:2:end]\n",
    "f_p = f_p_rel \n",
    "f_p_max = f_p_rel_max\n",
    "par_f_p_1 = (θ,norm_rel,2)\n",
    "#norm_rel = int_mid_point_f(f_p, par_f_p_1, [20_000,20_000], Box_p)\n",
    "par_f_p = (θ, norm_rel,2)\n",
    "interval_p = Box_p\n"
   ]
  },
  {
   "cell_type": "code",
   "execution_count": null,
   "metadata": {},
   "outputs": [],
   "source": [
    "g_th = fill(0.0+im*0.0,J...)\n",
    "gt_th = fill(0.0+im*0.0,J...)\n",
    "\n",
    "N=100000\n",
    "plt = Plots.scatter(labels=false)\n",
    "for i in 1:N÷2\n",
    "    kr = random_sampling_from_distribution_D(f_p,f_p_max,par_f_p,interval_p)\n",
    "    j = get_index_p(kr,J,L)\n",
    "    jm = get_index_p(-kr,J,L)\n",
    "    if (abs(j[1]) > J[1] || abs(jm[1])) > J[1] || (abs(j[2]) > J[2] || abs(jm[2])) > J[2]\n",
    "        println(\"j = $j, jm = $jm, kr = $kr\")\n",
    "    end\n",
    "    #Plots.scatter!(plt,[j[1],jm[1]],[j[2],jm[2]],label=false)\n",
    "    factor = 1.0/sqrt(2*ω([kr[1],kr[2],kr[3]],m2))\n",
    "    phase_p = exp(im*rand()*2*π)\n",
    "    phase_m = exp(im*rand()*2*π)\n",
    "    g_th[j...] += phase_p*factor\n",
    "    g_th[jm...] += phase_m*factor\n",
    "    gt_th[j...] += im*phase_p/factor/2.0\n",
    "    gt_th[jm...] += 2.0*im*phase_m/factor/2.0\n",
    "end\n",
    "\n",
    "#heatmap(real.(g_th))\n",
    "surface(real.(g_th[30,:,:]))\n",
    "#plt"
   ]
  },
  {
   "cell_type": "code",
   "execution_count": 32,
   "metadata": {},
   "outputs": [],
   "source": [
    "ϕ_th = p_i*g_th*sqrt(prod(J));\n",
    "ϕt_th = p_i*gt_th*sqrt(prod(J));"
   ]
  },
  {
   "cell_type": "code",
   "execution_count": null,
   "metadata": {},
   "outputs": [],
   "source": [
    "#heatmap(imag.(ϕ_th))\n",
    "surface(imag.(ϕ_th[30,:,:]))"
   ]
  },
  {
   "cell_type": "code",
   "execution_count": null,
   "metadata": {},
   "outputs": [],
   "source": [
    "#@show sum(ϕ.*conj.(ϕ))*prod(dx)/V\n",
    "\n",
    "n(ϕ_th,ϕt_th,Box_x,J)"
   ]
  },
  {
   "cell_type": "markdown",
   "metadata": {},
   "source": [
    "### Localization\n",
    "\n"
   ]
  },
  {
   "cell_type": "code",
   "execution_count": null,
   "metadata": {},
   "outputs": [],
   "source": [
    "#ϕ_th_cut = polinomial_cut(ϕ_th,Box_x,J,8);\n",
    "#ϕ_th_step_cut = poli_step\n",
    "p = 4 #polinomial order\n",
    "percent = 0.550 #0.6 goes up to the border in poli_cut use 0.550 for step_cut\n",
    "δ = 0.3 #less than 1!\n",
    "#x,y,z = get_coords(Box_x,J)\n",
    "\n",
    "ϕ_th_step_cut = step_cut(ϕ_th,Box_x,J,p,percent,δ)\n",
    "ϕ_t_th_step_cut = step_cut(ϕt_th,Box_x,J,p,percent,δ)"
   ]
  },
  {
   "cell_type": "code",
   "execution_count": null,
   "metadata": {},
   "outputs": [],
   "source": [
    "surface(real.(ϕ_th_step_cut[101,:,:]) )"
   ]
  },
  {
   "cell_type": "markdown",
   "metadata": {},
   "source": [
    "### Data transfer"
   ]
  },
  {
   "cell_type": "code",
   "execution_count": 25,
   "metadata": {},
   "outputs": [],
   "source": [
    "N_fields = 4.0 #Int32(1)\n",
    "\n",
    "x, y, z = get_coords(Box_x,J)\n",
    "\n",
    "# Open an HDF5 file in write mode\n",
    "h5file = h5open(\"example_data_3d_gaussian.h5\", \"w\") do file\n",
    "    write(file, \"coord0\", x)\n",
    "    write(file, \"coord1\", y)\n",
    "    write(file, \"coord2\", z)\n",
    "    write(file, \"nvars\", [N_fields])\n",
    "    write(file, \"var0\", real.(ϕ))\n",
    "    write(file, \"var1\", imag.(ϕ))\n",
    "    write(file, \"var2\", real.(ϕ_t))\n",
    "    write(file, \"var3\", imag.(ϕ_t))\n",
    "end"
   ]
  }
 ],
 "metadata": {
  "kernelspec": {
   "display_name": "Julia 1.10.5",
   "language": "julia",
   "name": "julia-1.10"
  },
  "language_info": {
   "file_extension": ".jl",
   "mimetype": "application/julia",
   "name": "julia",
   "version": "1.10.5"
  }
 },
 "nbformat": 4,
 "nbformat_minor": 2
}
