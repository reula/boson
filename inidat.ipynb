{
 "cells": [
  {
   "cell_type": "markdown",
   "metadata": {},
   "source": [
    "##  Study on how to give initial data. \n",
    "\n",
    "We want to have a very isotropic data with a given frequency, or perhaps a distribution (thermal?) for $phi$ and its time derivative. Here\n",
    "We do in 2dim.\n",
    "\n",
    "We first create a distribution of values on Fourier space both for $ϕ $ and its time derivative, $\\phi_t$.\n",
    "I think we need a thermal distribution, that is we fix a temperature and put particles at that temperature.\n",
    "That is we shall use the $\\omega = |k|$ rule, we take positive so as to have particles and not antiparticles.\n",
    "\n"
   ]
  },
  {
   "cell_type": "code",
   "execution_count": 29,
   "metadata": {},
   "outputs": [],
   "source": [
    "using Plots\n",
    "using Distributions\n",
    "using FFTW\n",
    "using LinearAlgebra\n",
    "using Revise\n",
    "using Base.Threads\n",
    "using HDF5"
   ]
  },
  {
   "cell_type": "code",
   "execution_count": 2,
   "metadata": {},
   "outputs": [],
   "source": [
    "includet(\"../PIC/PIC-1D/aux_functions/inidat_aux_functions.jl\")\n",
    "includet(\"../PIC/PIC-1D/aux_functions/aux_functions.jl\")"
   ]
  },
  {
   "cell_type": "code",
   "execution_count": null,
   "metadata": {},
   "outputs": [],
   "source": [
    "function get_index_p(x,J,L)\n",
    "    floor(Int64,(x>=0) ? mod(x / L[1] * J[1] + 1 ,J[1]) : -mod(-x / L[1] * J[1] ,J[1])+J+1 )\n",
    "    end\n",
    "    \n",
    "function get_index_p(x::Vector,J,L)\n",
    "        j = Vector{Int64}(undef,length(J))\n",
    "        for i in 1:length(J)\n",
    "            j[i] = get_index_p(x[i],J[i],L[i])\n",
    "        end\n",
    "        return j[:]\n",
    "end\n",
    "\n",
    "function n(ϕ,ϕ_t,Box_x,J)\n",
    "        V = volume(Box_x)\n",
    "        dx = differentials(Box_x,J)\n",
    "        n = real(im*sum(ϕ.*conj.(ϕ_t).-conj.(ϕ).*ϕ_t))/2#*prod(dx)/2)\n",
    "        return n, n/prod(J)\n",
    "end"
   ]
  },
  {
   "cell_type": "markdown",
   "metadata": {},
   "source": [
    "We first look at the scheme for a distribution which resembles a delta function $k$ in Fourier space.\n",
    "It gives a rather homogeneous distribution is space."
   ]
  },
  {
   "cell_type": "code",
   "execution_count": null,
   "metadata": {},
   "outputs": [],
   "source": [
    "#J = (501,501,501)\n",
    "J = (240,240,240)\n",
    "Box_x = [-120.0, 120.0, -120.0, 120.0, -120.0, 120.0]\n",
    "dx = differentials(Box_x,J)\n",
    "κ = 2π./(Box_x[2:2:end] - Box_x[1:2:end-1])\n",
    "V = volume(Box_x)\n",
    "ϕ = Array{ComplexF64}(undef,J...)\n",
    "ϕ_t = copy(ϕ)\n",
    "g = copy(ϕ)\n",
    "g_t = copy(ϕ)\n",
    "g_p = copy(ϕ)\n",
    "\n",
    "m = 1\n",
    "m2 = m^2\n",
    "\n",
    "N = 1000 #number of particles\n",
    " \n",
    "function f(k,f_pars)\n",
    "    (k0,δ) = f_pars\n",
    "    if abs(k'*k - k0^2) < δ^2\n",
    "        return (1.0 + 0.0im)/(2π*(k0*2*δ)) # normalized so that the integral is 1\n",
    "    else\n",
    "        return 0.0 + 0.0im\n",
    "    end\n",
    "end\n",
    "\n",
    "function h(k,h_pars)\n",
    "    k0 = h_pars\n",
    "    if abs(k'*k)< k0^2\n",
    "        return (1.0 + 0.0im)/2*π/k0^2\n",
    "    else\n",
    "        return 0.0\n",
    "    end\n",
    "end\n",
    "\n",
    "# k0= 500; δ = 1000 # para J=2001\n",
    "k0 = 1; δ = 0.5\n",
    "\n",
    "function get_frequencies(Box,J)\n",
    "    κ = 2π./(Box_x[2:2:end] - Box_x[1:2:end-1])\n",
    "    kx = fftfreq(J[1]).*κ[1]*J[1]\n",
    "    ky = fftfreq(J[2]).*κ[2]*J[2]\n",
    "    kz = fftfreq(J[3]).*κ[3]*J[3]\n",
    "    return kx, ky, kz\n",
    "end\n",
    "\n",
    "kx, ky, kz = get_frequencies(Box_x,J)\n",
    "\n",
    "kx_p = sort(kx)\n",
    "ky_p = sort(ky)\n",
    "kz_p = sort(kz)\n",
    "\n",
    "ω(k,m2) = sqrt((k'*k+m2))\n",
    "\n",
    "function get_fourier_data(f,Box_x,J,m2,f_pars)\n",
    "    g = Array{ComplexF64}(undef,J...)\n",
    "    g_p = copy(g)\n",
    "    κ = 2π./(Box_x[2:2:end] - Box_x[1:2:end-1])\n",
    "\n",
    "    kx, ky, kz = get_frequencies(Box_x,J)\n",
    "    \n",
    "    kx = fftfreq(J[1]).*κ[1]*J[1]\n",
    "    ky = fftfreq(J[2]).*κ[2]*J[2]\n",
    "    kz = fftfreq(J[3]).*κ[3]*J[3]\n",
    "    \n",
    "    kx_p = sort(kx)\n",
    "    ky_p = sort(ky)\n",
    "    kz_p = sort(kz)\n",
    "\n",
    "    for i in 1:J[1]\n",
    "        for j in 1:J[2]\n",
    "            for l in 1:J[3]\n",
    "            ω_val = ω([kx[i];ky[j];kz[l]],m2)\n",
    "            g[i,j,l] = exp(im*2*π*rand())*f([kx[i],ky[j],kz[l]],f_pars...)/sqrt(2.0*ω_val)\n",
    "            g_t[i,j,l] = im*sqrt(2.0*ω_val)*g[i,j,l]\n",
    "            ω_val_p = ω([kx_p[i];ky_p[j];kz_p[l]],m2)\n",
    "            g_p[i,j,l] = f([kx_p[i],ky_p[j],kz_p[l]],f_pars)*exp(im*2*π*rand())/sqrt(2.0*ω_val_p)\n",
    "            end\n",
    "        end\n",
    "    end\n",
    "    return g, g_p\n",
    "end\n",
    "\n"
   ]
  },
  {
   "cell_type": "code",
   "execution_count": null,
   "metadata": {},
   "outputs": [],
   "source": [
    "dx"
   ]
  },
  {
   "cell_type": "code",
   "execution_count": null,
   "metadata": {},
   "outputs": [],
   "source": [
    "function policut(x,x0,r0,p)\n",
    "    r2 = (x-x0)'*(x-x0)\n",
    "    if (r0 - r2) >= 0.0\n",
    "        return (r0 - r2)^p/r0^p\n",
    "    else\n",
    "        return 0.0\n",
    "    end\n",
    "end\n",
    "\n",
    "function poli_step(x,x0,x1,p)\n",
    "    if x < 0.0 || x0 < 0.0 || x1 < x0\n",
    "        error(\"the variable is suposed to be positive\")\n",
    "    end\n",
    "    if x0 < x && x < x0 + (x1-x0)/2.0\n",
    "        return 1.0 - ((x-x0)^p/abs((x1-x0)/2.0)^p)/2.0 #+ (x1-x)^p/(x1-x0)^p\n",
    "    elseif x >= x0 + (x1-x0)/2.0 && x < x1\n",
    "        return +(x1-x)^p/abs((x1-x0)/2.0)^p/2.0\n",
    "    elseif x <= x0\n",
    "        return 1.0\n",
    "    else\n",
    "        return 0.0\n",
    "    end\n",
    "end\n",
    "\n",
    "function step_cut(g,Box,J,p,percent,δ)\n",
    "    x,y,z = get_coords(Box,J)\n",
    "    g_cut = copy(g)\n",
    "    x0 = (Box[2:2:end].+Box[1:2:end])./2.0\n",
    "    L = (Box[2:2:end].-Box[1:2:end])\n",
    "    r0 = minimum(abs.(L))*percent\n",
    "    for i in 1:J[1]\n",
    "        for j in 1:J[2]\n",
    "            for k in 1:J[3]\n",
    "                r = sqrt((x[i]-x0[1])^2+(y[j]-x0[2])^2+(z[k]-x0[3])^2)\n",
    "                g_cut[i,j,k] = g[i,j,k] * poli_step(r,r0*(1.0-δ),r0,p)\n",
    "            end\n",
    "        end\n",
    "    end\n",
    "    return g_cut\n",
    "end\n",
    "\n",
    "function polinomial_cut(g,Box,J,p,percent)\n",
    "    dx = differentials(Box,J)\n",
    "    x,y,z = get_coords(Box,J)\n",
    "    g_cut = copy(g)\n",
    "    x0 = (Box[2:2:end].+Box[1:2:end])./2.0\n",
    "    L = (Box[2:2:end].-Box[1:2:end])\n",
    "    r0 = minimum(abs.(L))*percent\n",
    "    r0 = r0^2\n",
    "    for i in 1:J[1]\n",
    "        for j in 1:J[2]\n",
    "            for k in 1:J[3]\n",
    "                g_cut[i,j,k] = g[i,j,k] * policut([x[i];y[j];z[k]],x0,r0,p)\n",
    "            end\n",
    "        end\n",
    "    end\n",
    "    return g_cut\n",
    "end\n",
    "\n",
    "function get_coords(Box,J)\n",
    "    dx = differentials(Box,J)\n",
    "    x = [Box_x[1] + (i-1)*dx[1] for i in 1:J[1]]\n",
    "    y = [Box_x[3] + (i-1)*dx[2] for i in 1:J[2]]\n",
    "    z = [Box_x[5] + (i-1)*dx[3] for i in 1:J[3]]\n",
    "    return x, y ,z\n",
    "end\n",
    "\n"
   ]
  },
  {
   "cell_type": "code",
   "execution_count": null,
   "metadata": {},
   "outputs": [],
   "source": [
    "k0 = 1.2; δ = 0.5 #coarse k0=0.5\n",
    "h_pars = k0\n",
    "f_pars = (k0, δ)\n",
    "#g, g_p = get_fourier_data(f,Box_x,J,1,f_pars)\n",
    "g, g_p = get_fourier_data(h,Box_x,J,1,h_pars)"
   ]
  },
  {
   "cell_type": "code",
   "execution_count": 12,
   "metadata": {},
   "outputs": [],
   "source": [
    "if false\n",
    "    g = fill(0.0+im*0.0,J...)\n",
    "    g_t = copy(g)\n",
    "\n",
    "    g[5,5] = exp(im*2*π*rand())\n",
    "    g_t[5,5] = im*(sqrt(kx[5]^2+ky[5]^2 + m2))*g[5,5]\n",
    "end"
   ]
  },
  {
   "cell_type": "code",
   "execution_count": null,
   "metadata": {},
   "outputs": [],
   "source": [
    "\n",
    "sum(abs.(g))*prod(κ)\n",
    "heatmap(ky_p,kx_p,real.(g_p[:,:,J[3]÷2]), aspectratio = 1)\n",
    "#surface(ky_p,kx_p,real.(g[:,:]), aspectratio = 1)\n"
   ]
  },
  {
   "cell_type": "code",
   "execution_count": 107,
   "metadata": {},
   "outputs": [],
   "source": [
    "#ifft(g,J...)\n",
    "p_i = plan_ifft(g; flags=FFTW.ESTIMATE, timelimit=Inf);"
   ]
  },
  {
   "cell_type": "code",
   "execution_count": 108,
   "metadata": {},
   "outputs": [],
   "source": [
    "ϕ = p_i*g*sqrt(prod(J));\n",
    "ϕ_t = p_i*g_t*sqrt(prod(J));\n"
   ]
  },
  {
   "cell_type": "code",
   "execution_count": null,
   "metadata": {},
   "outputs": [],
   "source": [
    "\n",
    "sum(ϕ.*conj.(ϕ))/prod(J)"
   ]
  },
  {
   "cell_type": "code",
   "execution_count": null,
   "metadata": {},
   "outputs": [],
   "source": [
    "\n",
    "@show norm(ϕ)\n",
    "@show mean(ϕ)\n",
    "@show var(ϕ);\n",
    "@show n(ϕ,ϕ_t,Box_x,J);"
   ]
  },
  {
   "cell_type": "code",
   "execution_count": null,
   "metadata": {},
   "outputs": [],
   "source": [
    "p = 4 #polinomial order\n",
    "percent = 0.550 #0.6 goes up to the border in poli_cut use 0.550 for step_cut\n",
    "δ = 0.3 #less than 1!\n",
    "x,y,z = get_coords(Box_x,J)\n",
    "#ϕ_h_cut = polinomial_cut(ϕ,Box_x,J,p,percent);\n",
    "ϕ_h_step_cut = step_cut(ϕ,Box_x,J,p,percent,δ)\n",
    "heatmap(x,y,real.(ϕ_h_step_cut[:,:,J[3]÷2]), aspectratio=1)\n",
    "#heatmap(real.(ϕ_h_cut[J[1]÷2,:,:]), aspectratio=1)\n",
    "#heatmap(real.(ϕ_h_cut[:,J[2]÷2,:]), aspectratio=1)\n",
    "#heatmap(imag.(ϕ[:,J[2]÷2,:]), aspectratio=1)\n",
    "#surface(x,y,real.(ϕ_h_step_cut[:,:,J[3]÷2]), aspectratio=1)\n",
    "#png(\"h_cut.png\")"
   ]
  },
  {
   "cell_type": "code",
   "execution_count": 119,
   "metadata": {},
   "outputs": [],
   "source": [
    "#ϕ_h_cut = polinomial_cut(ϕ,Box_x,J,8);\n",
    "#ϕ_t_h_cut = polinomial_cut(ϕ_t,Box_x,J,8);\n",
    "\n",
    "ϕ_h_cut = step_cut(ϕ,Box_x,J,p,percent,δ)\n",
    "ϕ_t_h_cut = step_cut(ϕ_t,Box_x,J,p,percent,δ)\n",
    "\n",
    "N_fields = 4.0 #Int32(1)\n",
    "\n",
    "x, y, z = get_coords(Box_x,J)\n",
    "\n",
    "# Open an HDF5 file in write mode\n",
    "h5file = h5open(\"example_data_3d_h_step_cut.h5\", \"w\") do file\n",
    "    write(file, \"coord0\", x)\n",
    "    write(file, \"coord1\", y)\n",
    "    write(file, \"coord2\", z)\n",
    "    write(file, \"nvars\", [N_fields])\n",
    "    write(file, \"var0\", real.(ϕ_h_cut))\n",
    "    write(file, \"var1\", imag.(ϕ_h_cut))\n",
    "    write(file, \"var2\", real.(ϕ_t_h_cut))\n",
    "    write(file, \"var3\", imag.(ϕ_t_h_cut))\n",
    "end"
   ]
  },
  {
   "cell_type": "code",
   "execution_count": null,
   "metadata": {},
   "outputs": [],
   "source": [
    "data = h5open(\"example_data_3d_h_cut.h5\", \"r\")"
   ]
  },
  {
   "cell_type": "code",
   "execution_count": null,
   "metadata": {},
   "outputs": [],
   "source": [
    "var0 = read(data[\"var0\"])\n",
    "heatmap(x,y,var0[:,:,J[3]÷2], aspectratio=1)\n",
    "#surface(x,y,real.(ϕ_h_cut)[:,:,J[3]÷2], aspectratio=1)"
   ]
  },
  {
   "cell_type": "code",
   "execution_count": null,
   "metadata": {},
   "outputs": [],
   "source": [
    "J[3]÷2"
   ]
  },
  {
   "cell_type": "code",
   "execution_count": null,
   "metadata": {},
   "outputs": [],
   "source": [
    "norm(var0)\n",
    "var0[120,120,120]"
   ]
  },
  {
   "cell_type": "markdown",
   "metadata": {},
   "source": [
    "## Thermal distribution\n",
    "\n",
    "We use a relativistic thermal distribution. I guess we are setting the mass to 1 but I don't know the temperature.\n",
    "\n"
   ]
  },
  {
   "cell_type": "code",
   "execution_count": 233,
   "metadata": {},
   "outputs": [],
   "source": []
  },
  {
   "cell_type": "code",
   "execution_count": null,
   "metadata": {},
   "outputs": [],
   "source": [
    "θ = 1.0\n",
    "m = 1.0\n",
    "m2 = m^2\n",
    "norm_rel = 2.0\n",
    "p_max = 10*θ\n",
    "Box_p =(-p_max,p_max,-p_max,p_max,-p_max,p_max)\n",
    "#dp = differentials(Box_p,J)\n",
    "L = zeros(J...)\n",
    "L = Box_p[2:2:end] .- Box_p[1:2:end]\n",
    "f_p = f_p_rel \n",
    "f_p_max = f_p_rel_max\n",
    "par_f_p_1 = (θ,norm_rel,2)\n",
    "#norm_rel = int_mid_point_f(f_p, par_f_p_1, [20_000,20_000], Box_p)\n",
    "par_f_p = (θ, norm_rel,2)\n",
    "interval_p = Box_p\n"
   ]
  },
  {
   "cell_type": "code",
   "execution_count": null,
   "metadata": {},
   "outputs": [],
   "source": [
    "g_th = fill(0.0+im*0.0,J...)\n",
    "gt_th = fill(0.0+im*0.0,J...)\n",
    "\n",
    "N=100000\n",
    "plt = Plots.scatter(labels=false)\n",
    "for i in 1:N÷2\n",
    "    kr = random_sampling_from_distribution_D(f_p,f_p_max,par_f_p,interval_p)\n",
    "    j = get_index_p(kr,J,L)\n",
    "    jm = get_index_p(-kr,J,L)\n",
    "    if (abs(j[1]) > J[1] || abs(jm[1])) > J[1] || (abs(j[2]) > J[2] || abs(jm[2])) > J[2]\n",
    "        println(\"j = $j, jm = $jm, kr = $kr\")\n",
    "    end\n",
    "    #Plots.scatter!(plt,[j[1],jm[1]],[j[2],jm[2]],label=false)\n",
    "    factor = 1.0/sqrt(2*ω([kr[1],kr[2],kr[3]],m2))\n",
    "    phase_p = exp(im*rand()*2*π)\n",
    "    phase_m = exp(im*rand()*2*π)\n",
    "    g_th[j...] += phase_p*factor\n",
    "    g_th[jm...] += phase_m*factor\n",
    "    gt_th[j...] += im*phase_p/factor\n",
    "    gt_th[jm...] += im*phase_m/factor\n",
    "end\n",
    "\n",
    "#heatmap(real.(g_th))\n",
    "surface(real.(g_th[30,:,:]))\n",
    "#plt"
   ]
  },
  {
   "cell_type": "code",
   "execution_count": null,
   "metadata": {},
   "outputs": [],
   "source": [
    "#heatmap(real.(g_th))\n",
    "surface(abs.(imag.(g_th)).- abs.(real.(g_th)))"
   ]
  },
  {
   "cell_type": "code",
   "execution_count": 19,
   "metadata": {},
   "outputs": [],
   "source": [
    "ϕ_th = p_i*g_th*sqrt(prod(J));\n",
    "ϕt_th = p_i*gt_th*sqrt(prod(J));"
   ]
  },
  {
   "cell_type": "code",
   "execution_count": null,
   "metadata": {},
   "outputs": [],
   "source": [
    "#heatmap(imag.(ϕ_th))\n",
    "surface(imag.(ϕ_th[30,:,:]))"
   ]
  },
  {
   "cell_type": "code",
   "execution_count": null,
   "metadata": {},
   "outputs": [],
   "source": [
    "#@show sum(ϕ.*conj.(ϕ))*prod(dx)/V\n",
    "\n",
    "n(ϕ_th,ϕt_th,Box_x,J)"
   ]
  },
  {
   "cell_type": "markdown",
   "metadata": {},
   "source": [
    "### Localization\n",
    "\n"
   ]
  },
  {
   "cell_type": "code",
   "execution_count": 71,
   "metadata": {},
   "outputs": [],
   "source": [
    "ϕ_th_cut = polinomial_cut(ϕ_th,Box_x,J,8);"
   ]
  },
  {
   "cell_type": "code",
   "execution_count": null,
   "metadata": {},
   "outputs": [],
   "source": [
    "surface(real.(ϕ_th_cut[101,:,:]) )"
   ]
  },
  {
   "cell_type": "markdown",
   "metadata": {},
   "source": [
    "### Data transfer"
   ]
  },
  {
   "cell_type": "code",
   "execution_count": 24,
   "metadata": {},
   "outputs": [],
   "source": [
    "using HDF5"
   ]
  },
  {
   "cell_type": "code",
   "execution_count": 25,
   "metadata": {},
   "outputs": [],
   "source": [
    "N_fields = 4.0 #Int32(1)\n",
    "\n",
    "x = [Box_x[1] + (i-1)*dx[1] for i in 1:J[1]]\n",
    "y = [Box_x[3] + (i-1)*dx[2] for i in 1:J[2]]\n",
    "z = [Box_x[5] + (i-1)*dx[3] for i in 1:J[3]];\n",
    "\n",
    "# Open an HDF5 file in write mode\n",
    "h5file = h5open(\"example_data_3d_gaussian.h5\", \"w\") do file\n",
    "    write(file, \"coord0\", x)\n",
    "    write(file, \"coord1\", y)\n",
    "    write(file, \"coord2\", z)\n",
    "    write(file, \"nvars\", [N_fields])\n",
    "    write(file, \"var0\", real.(ϕ))\n",
    "    write(file, \"var1\", imag.(ϕ))\n",
    "    write(file, \"var2\", real.(ϕ_t))\n",
    "    write(file, \"var3\", imag.(ϕ_t))\n",
    "end"
   ]
  }
 ],
 "metadata": {
  "kernelspec": {
   "display_name": "Julia 1.10.5",
   "language": "julia",
   "name": "julia-1.10"
  },
  "language_info": {
   "file_extension": ".jl",
   "mimetype": "application/julia",
   "name": "julia",
   "version": "1.10.5"
  }
 },
 "nbformat": 4,
 "nbformat_minor": 2
}
